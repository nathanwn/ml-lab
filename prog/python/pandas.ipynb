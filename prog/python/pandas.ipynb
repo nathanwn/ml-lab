{
 "cells": [
  {
   "cell_type": "code",
   "execution_count": 1,
   "id": "57bb3252",
   "metadata": {},
   "outputs": [],
   "source": [
    "import numpy as np\n",
    "import pandas as pd"
   ]
  },
  {
   "cell_type": "markdown",
   "id": "70e91a90",
   "metadata": {},
   "source": [
    "# 1. Series"
   ]
  },
  {
   "cell_type": "markdown",
   "id": "e30af022",
   "metadata": {},
   "source": [
    "[`pandas.Series`](https://pandas.pydata.org/pandas-docs/stable/reference/api/pandas.Series.html): pretty similar to 1d nparray, can be indexed using labels."
   ]
  },
  {
   "cell_type": "code",
   "execution_count": 2,
   "id": "55a8f0a5",
   "metadata": {},
   "outputs": [
    {
     "name": "stdout",
     "output_type": "stream",
     "text": [
      "labels = ['a', 'b', 'c', 'd', 'e', 'f']\n",
      "values = [0, 1, 2, 3, 4, 5]\n"
     ]
    }
   ],
   "source": [
    "labels = [chr(ord('a') + i) for i in range(6)]\n",
    "values = [i for i in range(6)]\n",
    "print(f'labels = {labels}')\n",
    "print(f'values = {values}')"
   ]
  },
  {
   "cell_type": "code",
   "execution_count": 3,
   "id": "b88f3edf",
   "metadata": {},
   "outputs": [
    {
     "name": "stdout",
     "output_type": "stream",
     "text": [
      "a    0\n",
      "b    1\n",
      "c    2\n",
      "d    3\n",
      "e    4\n",
      "f    5\n",
      "dtype: int64\n"
     ]
    }
   ],
   "source": [
    "series = pd.Series(data=values, index=labels)\n",
    "print(series)"
   ]
  },
  {
   "cell_type": "code",
   "execution_count": 4,
   "id": "ae4050ef",
   "metadata": {},
   "outputs": [
    {
     "data": {
      "text/plain": [
       "3"
      ]
     },
     "execution_count": 4,
     "metadata": {},
     "output_type": "execute_result"
    }
   ],
   "source": [
    "series['d']"
   ]
  },
  {
   "cell_type": "code",
   "execution_count": 5,
   "id": "86b997dc",
   "metadata": {},
   "outputs": [
    {
     "name": "stdout",
     "output_type": "stream",
     "text": [
      "a    0\n",
      "b    1\n",
      "c    2\n",
      "d    3\n",
      "e    4\n",
      "f    5\n",
      "dtype: int64\n"
     ]
    }
   ],
   "source": [
    "d = dict(zip(labels, values))\n",
    "s2 = pd.Series(d)\n",
    "print(s2)"
   ]
  },
  {
   "cell_type": "markdown",
   "id": "d27e5899",
   "metadata": {},
   "source": [
    "# 2. Pandas DataFrames"
   ]
  },
  {
   "cell_type": "markdown",
   "id": "3f2805a2",
   "metadata": {},
   "source": [
    "Dataframes are a number of series that share the same index."
   ]
  },
  {
   "cell_type": "markdown",
   "id": "d5bb954e",
   "metadata": {},
   "source": [
    "## 2.1. Create"
   ]
  },
  {
   "cell_type": "markdown",
   "id": "91ca4586",
   "metadata": {},
   "source": [
    "DataFrames can be created, or imported from csv files."
   ]
  },
  {
   "cell_type": "code",
   "execution_count": 6,
   "id": "e9585130",
   "metadata": {
    "collapsed": true
   },
   "outputs": [],
   "source": [
    "data = np.random.randn(5, 3)\n",
    "index = [chr(ord('a') + i) for i in range(data.shape[0])]\n",
    "columns = [chr(ord('m') + i) for i in range(data.shape[1])]"
   ]
  },
  {
   "cell_type": "code",
   "execution_count": 7,
   "id": "6cede041",
   "metadata": {},
   "outputs": [],
   "source": [
    "df = pd.DataFrame(data=data, index=index, columns=columns)"
   ]
  },
  {
   "cell_type": "code",
   "execution_count": 8,
   "id": "2a69d5f9",
   "metadata": {},
   "outputs": [
    {
     "data": {
      "text/html": [
       "<div>\n",
       "<style scoped>\n",
       "    .dataframe tbody tr th:only-of-type {\n",
       "        vertical-align: middle;\n",
       "    }\n",
       "\n",
       "    .dataframe tbody tr th {\n",
       "        vertical-align: top;\n",
       "    }\n",
       "\n",
       "    .dataframe thead th {\n",
       "        text-align: right;\n",
       "    }\n",
       "</style>\n",
       "<table border=\"1\" class=\"dataframe\">\n",
       "  <thead>\n",
       "    <tr style=\"text-align: right;\">\n",
       "      <th></th>\n",
       "      <th>m</th>\n",
       "      <th>n</th>\n",
       "      <th>o</th>\n",
       "    </tr>\n",
       "  </thead>\n",
       "  <tbody>\n",
       "    <tr>\n",
       "      <th>a</th>\n",
       "      <td>-0.015537</td>\n",
       "      <td>0.269408</td>\n",
       "      <td>0.086285</td>\n",
       "    </tr>\n",
       "    <tr>\n",
       "      <th>b</th>\n",
       "      <td>-1.101011</td>\n",
       "      <td>-1.034281</td>\n",
       "      <td>-0.633671</td>\n",
       "    </tr>\n",
       "    <tr>\n",
       "      <th>c</th>\n",
       "      <td>-1.100190</td>\n",
       "      <td>0.401816</td>\n",
       "      <td>1.562977</td>\n",
       "    </tr>\n",
       "    <tr>\n",
       "      <th>d</th>\n",
       "      <td>1.051363</td>\n",
       "      <td>-1.491945</td>\n",
       "      <td>-1.575996</td>\n",
       "    </tr>\n",
       "    <tr>\n",
       "      <th>e</th>\n",
       "      <td>0.059770</td>\n",
       "      <td>0.112994</td>\n",
       "      <td>0.570224</td>\n",
       "    </tr>\n",
       "  </tbody>\n",
       "</table>\n",
       "</div>"
      ],
      "text/plain": [
       "          m         n         o\n",
       "a -0.015537  0.269408  0.086285\n",
       "b -1.101011 -1.034281 -0.633671\n",
       "c -1.100190  0.401816  1.562977\n",
       "d  1.051363 -1.491945 -1.575996\n",
       "e  0.059770  0.112994  0.570224"
      ]
     },
     "execution_count": 8,
     "metadata": {},
     "output_type": "execute_result"
    }
   ],
   "source": [
    "df"
   ]
  },
  {
   "cell_type": "markdown",
   "id": "aa135607",
   "metadata": {},
   "source": [
    "## 2.2. Add a column"
   ]
  },
  {
   "cell_type": "code",
   "execution_count": 13,
   "id": "10cf65ff",
   "metadata": {},
   "outputs": [
    {
     "data": {
      "text/html": [
       "<div>\n",
       "<style scoped>\n",
       "    .dataframe tbody tr th:only-of-type {\n",
       "        vertical-align: middle;\n",
       "    }\n",
       "\n",
       "    .dataframe tbody tr th {\n",
       "        vertical-align: top;\n",
       "    }\n",
       "\n",
       "    .dataframe thead th {\n",
       "        text-align: right;\n",
       "    }\n",
       "</style>\n",
       "<table border=\"1\" class=\"dataframe\">\n",
       "  <thead>\n",
       "    <tr style=\"text-align: right;\">\n",
       "      <th></th>\n",
       "      <th>m</th>\n",
       "      <th>n</th>\n",
       "      <th>o</th>\n",
       "    </tr>\n",
       "  </thead>\n",
       "  <tbody>\n",
       "    <tr>\n",
       "      <th>a</th>\n",
       "      <td>-0.015537</td>\n",
       "      <td>0.269408</td>\n",
       "      <td>0.086285</td>\n",
       "    </tr>\n",
       "    <tr>\n",
       "      <th>b</th>\n",
       "      <td>-1.101011</td>\n",
       "      <td>-1.034281</td>\n",
       "      <td>-0.633671</td>\n",
       "    </tr>\n",
       "    <tr>\n",
       "      <th>c</th>\n",
       "      <td>-1.100190</td>\n",
       "      <td>0.401816</td>\n",
       "      <td>1.562977</td>\n",
       "    </tr>\n",
       "    <tr>\n",
       "      <th>d</th>\n",
       "      <td>1.051363</td>\n",
       "      <td>-1.491945</td>\n",
       "      <td>-1.575996</td>\n",
       "    </tr>\n",
       "    <tr>\n",
       "      <th>e</th>\n",
       "      <td>0.059770</td>\n",
       "      <td>0.112994</td>\n",
       "      <td>0.570224</td>\n",
       "    </tr>\n",
       "  </tbody>\n",
       "</table>\n",
       "</div>"
      ],
      "text/plain": [
       "          m         n         o\n",
       "a -0.015537  0.269408  0.086285\n",
       "b -1.101011 -1.034281 -0.633671\n",
       "c -1.100190  0.401816  1.562977\n",
       "d  1.051363 -1.491945 -1.575996\n",
       "e  0.059770  0.112994  0.570224"
      ]
     },
     "execution_count": 13,
     "metadata": {},
     "output_type": "execute_result"
    }
   ],
   "source": [
    "df"
   ]
  },
  {
   "cell_type": "code",
   "execution_count": 14,
   "id": "18d61022",
   "metadata": {},
   "outputs": [],
   "source": [
    "df['p'] = df['m'] + df['o']"
   ]
  },
  {
   "cell_type": "code",
   "execution_count": 15,
   "id": "0dd29dc2",
   "metadata": {},
   "outputs": [
    {
     "data": {
      "text/html": [
       "<div>\n",
       "<style scoped>\n",
       "    .dataframe tbody tr th:only-of-type {\n",
       "        vertical-align: middle;\n",
       "    }\n",
       "\n",
       "    .dataframe tbody tr th {\n",
       "        vertical-align: top;\n",
       "    }\n",
       "\n",
       "    .dataframe thead th {\n",
       "        text-align: right;\n",
       "    }\n",
       "</style>\n",
       "<table border=\"1\" class=\"dataframe\">\n",
       "  <thead>\n",
       "    <tr style=\"text-align: right;\">\n",
       "      <th></th>\n",
       "      <th>m</th>\n",
       "      <th>n</th>\n",
       "      <th>o</th>\n",
       "      <th>p</th>\n",
       "    </tr>\n",
       "  </thead>\n",
       "  <tbody>\n",
       "    <tr>\n",
       "      <th>a</th>\n",
       "      <td>-0.015537</td>\n",
       "      <td>0.269408</td>\n",
       "      <td>0.086285</td>\n",
       "      <td>0.070749</td>\n",
       "    </tr>\n",
       "    <tr>\n",
       "      <th>b</th>\n",
       "      <td>-1.101011</td>\n",
       "      <td>-1.034281</td>\n",
       "      <td>-0.633671</td>\n",
       "      <td>-1.734682</td>\n",
       "    </tr>\n",
       "    <tr>\n",
       "      <th>c</th>\n",
       "      <td>-1.100190</td>\n",
       "      <td>0.401816</td>\n",
       "      <td>1.562977</td>\n",
       "      <td>0.462788</td>\n",
       "    </tr>\n",
       "    <tr>\n",
       "      <th>d</th>\n",
       "      <td>1.051363</td>\n",
       "      <td>-1.491945</td>\n",
       "      <td>-1.575996</td>\n",
       "      <td>-0.524634</td>\n",
       "    </tr>\n",
       "    <tr>\n",
       "      <th>e</th>\n",
       "      <td>0.059770</td>\n",
       "      <td>0.112994</td>\n",
       "      <td>0.570224</td>\n",
       "      <td>0.629993</td>\n",
       "    </tr>\n",
       "  </tbody>\n",
       "</table>\n",
       "</div>"
      ],
      "text/plain": [
       "          m         n         o         p\n",
       "a -0.015537  0.269408  0.086285  0.070749\n",
       "b -1.101011 -1.034281 -0.633671 -1.734682\n",
       "c -1.100190  0.401816  1.562977  0.462788\n",
       "d  1.051363 -1.491945 -1.575996 -0.524634\n",
       "e  0.059770  0.112994  0.570224  0.629993"
      ]
     },
     "execution_count": 15,
     "metadata": {},
     "output_type": "execute_result"
    }
   ],
   "source": [
    "df"
   ]
  },
  {
   "cell_type": "markdown",
   "id": "61f5de38",
   "metadata": {},
   "source": [
    "## 2.3. Remove columns/rows"
   ]
  },
  {
   "cell_type": "markdown",
   "id": "53aafa3b",
   "metadata": {},
   "source": [
    "### 2.3.1. Remove a column"
   ]
  },
  {
   "cell_type": "code",
   "execution_count": 38,
   "id": "934bfdb0",
   "metadata": {},
   "outputs": [
    {
     "data": {
      "text/html": [
       "<div>\n",
       "<style scoped>\n",
       "    .dataframe tbody tr th:only-of-type {\n",
       "        vertical-align: middle;\n",
       "    }\n",
       "\n",
       "    .dataframe tbody tr th {\n",
       "        vertical-align: top;\n",
       "    }\n",
       "\n",
       "    .dataframe thead th {\n",
       "        text-align: right;\n",
       "    }\n",
       "</style>\n",
       "<table border=\"1\" class=\"dataframe\">\n",
       "  <thead>\n",
       "    <tr style=\"text-align: right;\">\n",
       "      <th></th>\n",
       "      <th>n</th>\n",
       "      <th>o</th>\n",
       "      <th>p</th>\n",
       "    </tr>\n",
       "  </thead>\n",
       "  <tbody>\n",
       "    <tr>\n",
       "      <th>a</th>\n",
       "      <td>0.269408</td>\n",
       "      <td>0.086285</td>\n",
       "      <td>0.070749</td>\n",
       "    </tr>\n",
       "    <tr>\n",
       "      <th>b</th>\n",
       "      <td>-1.034281</td>\n",
       "      <td>-0.633671</td>\n",
       "      <td>-1.734682</td>\n",
       "    </tr>\n",
       "    <tr>\n",
       "      <th>c</th>\n",
       "      <td>0.401816</td>\n",
       "      <td>1.562977</td>\n",
       "      <td>0.462788</td>\n",
       "    </tr>\n",
       "    <tr>\n",
       "      <th>d</th>\n",
       "      <td>-1.491945</td>\n",
       "      <td>-1.575996</td>\n",
       "      <td>-0.524634</td>\n",
       "    </tr>\n",
       "    <tr>\n",
       "      <th>e</th>\n",
       "      <td>0.112994</td>\n",
       "      <td>0.570224</td>\n",
       "      <td>0.629993</td>\n",
       "    </tr>\n",
       "  </tbody>\n",
       "</table>\n",
       "</div>"
      ],
      "text/plain": [
       "          n         o         p\n",
       "a  0.269408  0.086285  0.070749\n",
       "b -1.034281 -0.633671 -1.734682\n",
       "c  0.401816  1.562977  0.462788\n",
       "d -1.491945 -1.575996 -0.524634\n",
       "e  0.112994  0.570224  0.629993"
      ]
     },
     "execution_count": 38,
     "metadata": {},
     "output_type": "execute_result"
    }
   ],
   "source": [
    "df.drop(labels=['m'], axis=1)"
   ]
  },
  {
   "cell_type": "markdown",
   "id": "9ccdc27e",
   "metadata": {},
   "source": [
    "### 2.3.2. Remove a row"
   ]
  },
  {
   "cell_type": "code",
   "execution_count": 40,
   "id": "fbac2035",
   "metadata": {},
   "outputs": [
    {
     "data": {
      "text/html": [
       "<div>\n",
       "<style scoped>\n",
       "    .dataframe tbody tr th:only-of-type {\n",
       "        vertical-align: middle;\n",
       "    }\n",
       "\n",
       "    .dataframe tbody tr th {\n",
       "        vertical-align: top;\n",
       "    }\n",
       "\n",
       "    .dataframe thead th {\n",
       "        text-align: right;\n",
       "    }\n",
       "</style>\n",
       "<table border=\"1\" class=\"dataframe\">\n",
       "  <thead>\n",
       "    <tr style=\"text-align: right;\">\n",
       "      <th></th>\n",
       "      <th>m</th>\n",
       "      <th>n</th>\n",
       "      <th>o</th>\n",
       "      <th>p</th>\n",
       "    </tr>\n",
       "  </thead>\n",
       "  <tbody>\n",
       "    <tr>\n",
       "      <th>a</th>\n",
       "      <td>-0.015537</td>\n",
       "      <td>0.269408</td>\n",
       "      <td>0.086285</td>\n",
       "      <td>0.070749</td>\n",
       "    </tr>\n",
       "    <tr>\n",
       "      <th>b</th>\n",
       "      <td>-1.101011</td>\n",
       "      <td>-1.034281</td>\n",
       "      <td>-0.633671</td>\n",
       "      <td>-1.734682</td>\n",
       "    </tr>\n",
       "    <tr>\n",
       "      <th>d</th>\n",
       "      <td>1.051363</td>\n",
       "      <td>-1.491945</td>\n",
       "      <td>-1.575996</td>\n",
       "      <td>-0.524634</td>\n",
       "    </tr>\n",
       "    <tr>\n",
       "      <th>e</th>\n",
       "      <td>0.059770</td>\n",
       "      <td>0.112994</td>\n",
       "      <td>0.570224</td>\n",
       "      <td>0.629993</td>\n",
       "    </tr>\n",
       "  </tbody>\n",
       "</table>\n",
       "</div>"
      ],
      "text/plain": [
       "          m         n         o         p\n",
       "a -0.015537  0.269408  0.086285  0.070749\n",
       "b -1.101011 -1.034281 -0.633671 -1.734682\n",
       "d  1.051363 -1.491945 -1.575996 -0.524634\n",
       "e  0.059770  0.112994  0.570224  0.629993"
      ]
     },
     "execution_count": 40,
     "metadata": {},
     "output_type": "execute_result"
    }
   ],
   "source": [
    "df.drop('c', axis=0)"
   ]
  },
  {
   "cell_type": "markdown",
   "id": "56291501",
   "metadata": {},
   "source": [
    "## 2.4. Select"
   ]
  },
  {
   "cell_type": "markdown",
   "id": "6f913173",
   "metadata": {},
   "source": [
    "### 2.4.1. Select columns"
   ]
  },
  {
   "cell_type": "code",
   "execution_count": 9,
   "id": "7c3f3a90",
   "metadata": {},
   "outputs": [
    {
     "data": {
      "text/plain": [
       "a   -0.015537\n",
       "b   -1.101011\n",
       "c   -1.100190\n",
       "d    1.051363\n",
       "e    0.059770\n",
       "Name: m, dtype: float64"
      ]
     },
     "execution_count": 9,
     "metadata": {},
     "output_type": "execute_result"
    }
   ],
   "source": [
    "df['m']"
   ]
  },
  {
   "cell_type": "code",
   "execution_count": 10,
   "id": "e10d4917",
   "metadata": {},
   "outputs": [
    {
     "data": {
      "text/plain": [
       "pandas.core.series.Series"
      ]
     },
     "execution_count": 10,
     "metadata": {},
     "output_type": "execute_result"
    }
   ],
   "source": [
    "type(df['m'])"
   ]
  },
  {
   "cell_type": "code",
   "execution_count": 11,
   "id": "da84a815",
   "metadata": {},
   "outputs": [
    {
     "data": {
      "text/html": [
       "<div>\n",
       "<style scoped>\n",
       "    .dataframe tbody tr th:only-of-type {\n",
       "        vertical-align: middle;\n",
       "    }\n",
       "\n",
       "    .dataframe tbody tr th {\n",
       "        vertical-align: top;\n",
       "    }\n",
       "\n",
       "    .dataframe thead th {\n",
       "        text-align: right;\n",
       "    }\n",
       "</style>\n",
       "<table border=\"1\" class=\"dataframe\">\n",
       "  <thead>\n",
       "    <tr style=\"text-align: right;\">\n",
       "      <th></th>\n",
       "      <th>m</th>\n",
       "      <th>o</th>\n",
       "    </tr>\n",
       "  </thead>\n",
       "  <tbody>\n",
       "    <tr>\n",
       "      <th>a</th>\n",
       "      <td>-0.015537</td>\n",
       "      <td>0.086285</td>\n",
       "    </tr>\n",
       "    <tr>\n",
       "      <th>b</th>\n",
       "      <td>-1.101011</td>\n",
       "      <td>-0.633671</td>\n",
       "    </tr>\n",
       "    <tr>\n",
       "      <th>c</th>\n",
       "      <td>-1.100190</td>\n",
       "      <td>1.562977</td>\n",
       "    </tr>\n",
       "    <tr>\n",
       "      <th>d</th>\n",
       "      <td>1.051363</td>\n",
       "      <td>-1.575996</td>\n",
       "    </tr>\n",
       "    <tr>\n",
       "      <th>e</th>\n",
       "      <td>0.059770</td>\n",
       "      <td>0.570224</td>\n",
       "    </tr>\n",
       "  </tbody>\n",
       "</table>\n",
       "</div>"
      ],
      "text/plain": [
       "          m         o\n",
       "a -0.015537  0.086285\n",
       "b -1.101011 -0.633671\n",
       "c -1.100190  1.562977\n",
       "d  1.051363 -1.575996\n",
       "e  0.059770  0.570224"
      ]
     },
     "execution_count": 11,
     "metadata": {},
     "output_type": "execute_result"
    }
   ],
   "source": [
    "df[['m', 'o']]"
   ]
  },
  {
   "cell_type": "code",
   "execution_count": 12,
   "id": "9d2108a7",
   "metadata": {},
   "outputs": [
    {
     "data": {
      "text/plain": [
       "pandas.core.frame.DataFrame"
      ]
     },
     "execution_count": 12,
     "metadata": {},
     "output_type": "execute_result"
    }
   ],
   "source": [
    "type(df[['m', 'o']])"
   ]
  },
  {
   "cell_type": "markdown",
   "id": "26657536",
   "metadata": {},
   "source": [
    "### 2.4.2. Select rows"
   ]
  },
  {
   "cell_type": "markdown",
   "id": "bd75a7f0",
   "metadata": {},
   "source": [
    "#### 2.4.2.1. Select using Label"
   ]
  },
  {
   "cell_type": "code",
   "execution_count": 28,
   "id": "9a2832e4",
   "metadata": {},
   "outputs": [
    {
     "name": "stdout",
     "output_type": "stream",
     "text": [
      "m    1.051363\n",
      "n   -1.491945\n",
      "o   -1.575996\n",
      "p   -0.524634\n",
      "Name: d, dtype: float64\n",
      "<class 'pandas.core.series.Series'>\n"
     ]
    }
   ],
   "source": [
    "row1 = df.loc['d']\n",
    "print(row1)\n",
    "print(type(row1))"
   ]
  },
  {
   "cell_type": "code",
   "execution_count": 34,
   "id": "8d2f5d50",
   "metadata": {},
   "outputs": [],
   "source": [
    "rows = df.loc[['a', 'd']]"
   ]
  },
  {
   "cell_type": "code",
   "execution_count": 35,
   "id": "9e44dfb1",
   "metadata": {},
   "outputs": [
    {
     "data": {
      "text/html": [
       "<div>\n",
       "<style scoped>\n",
       "    .dataframe tbody tr th:only-of-type {\n",
       "        vertical-align: middle;\n",
       "    }\n",
       "\n",
       "    .dataframe tbody tr th {\n",
       "        vertical-align: top;\n",
       "    }\n",
       "\n",
       "    .dataframe thead th {\n",
       "        text-align: right;\n",
       "    }\n",
       "</style>\n",
       "<table border=\"1\" class=\"dataframe\">\n",
       "  <thead>\n",
       "    <tr style=\"text-align: right;\">\n",
       "      <th></th>\n",
       "      <th>m</th>\n",
       "      <th>n</th>\n",
       "      <th>o</th>\n",
       "      <th>p</th>\n",
       "    </tr>\n",
       "  </thead>\n",
       "  <tbody>\n",
       "    <tr>\n",
       "      <th>a</th>\n",
       "      <td>-0.015537</td>\n",
       "      <td>0.269408</td>\n",
       "      <td>0.086285</td>\n",
       "      <td>0.070749</td>\n",
       "    </tr>\n",
       "    <tr>\n",
       "      <th>d</th>\n",
       "      <td>1.051363</td>\n",
       "      <td>-1.491945</td>\n",
       "      <td>-1.575996</td>\n",
       "      <td>-0.524634</td>\n",
       "    </tr>\n",
       "  </tbody>\n",
       "</table>\n",
       "</div>"
      ],
      "text/plain": [
       "          m         n         o         p\n",
       "a -0.015537  0.269408  0.086285  0.070749\n",
       "d  1.051363 -1.491945 -1.575996 -0.524634"
      ]
     },
     "execution_count": 35,
     "metadata": {},
     "output_type": "execute_result"
    }
   ],
   "source": [
    "rows"
   ]
  },
  {
   "cell_type": "markdown",
   "id": "2aeeb744",
   "metadata": {},
   "source": [
    "#### 2.4.2.2. Select using numeric index"
   ]
  },
  {
   "cell_type": "code",
   "execution_count": 30,
   "id": "f9c40d45",
   "metadata": {},
   "outputs": [
    {
     "name": "stdout",
     "output_type": "stream",
     "text": [
      "m    1.051363\n",
      "n   -1.491945\n",
      "o   -1.575996\n",
      "p   -0.524634\n",
      "Name: d, dtype: float64\n"
     ]
    }
   ],
   "source": [
    "row1b = df.iloc[3]\n",
    "print(row1b)"
   ]
  },
  {
   "cell_type": "code",
   "execution_count": 31,
   "id": "fef839b1",
   "metadata": {},
   "outputs": [],
   "source": [
    "rows = df.iloc[2:4]"
   ]
  },
  {
   "cell_type": "code",
   "execution_count": 32,
   "id": "019ce3c1",
   "metadata": {},
   "outputs": [
    {
     "data": {
      "text/html": [
       "<div>\n",
       "<style scoped>\n",
       "    .dataframe tbody tr th:only-of-type {\n",
       "        vertical-align: middle;\n",
       "    }\n",
       "\n",
       "    .dataframe tbody tr th {\n",
       "        vertical-align: top;\n",
       "    }\n",
       "\n",
       "    .dataframe thead th {\n",
       "        text-align: right;\n",
       "    }\n",
       "</style>\n",
       "<table border=\"1\" class=\"dataframe\">\n",
       "  <thead>\n",
       "    <tr style=\"text-align: right;\">\n",
       "      <th></th>\n",
       "      <th>m</th>\n",
       "      <th>n</th>\n",
       "      <th>o</th>\n",
       "      <th>p</th>\n",
       "    </tr>\n",
       "  </thead>\n",
       "  <tbody>\n",
       "    <tr>\n",
       "      <th>c</th>\n",
       "      <td>-1.100190</td>\n",
       "      <td>0.401816</td>\n",
       "      <td>1.562977</td>\n",
       "      <td>0.462788</td>\n",
       "    </tr>\n",
       "    <tr>\n",
       "      <th>d</th>\n",
       "      <td>1.051363</td>\n",
       "      <td>-1.491945</td>\n",
       "      <td>-1.575996</td>\n",
       "      <td>-0.524634</td>\n",
       "    </tr>\n",
       "  </tbody>\n",
       "</table>\n",
       "</div>"
      ],
      "text/plain": [
       "          m         n         o         p\n",
       "c -1.100190  0.401816  1.562977  0.462788\n",
       "d  1.051363 -1.491945 -1.575996 -0.524634"
      ]
     },
     "execution_count": 32,
     "metadata": {},
     "output_type": "execute_result"
    }
   ],
   "source": [
    "rows"
   ]
  },
  {
   "cell_type": "markdown",
   "id": "58e8e4de",
   "metadata": {},
   "source": [
    "### 2.4.3. Select rows and columns simultaneously"
   ]
  },
  {
   "cell_type": "code",
   "execution_count": 42,
   "id": "e2c0b74a",
   "metadata": {},
   "outputs": [
    {
     "data": {
      "text/html": [
       "<div>\n",
       "<style scoped>\n",
       "    .dataframe tbody tr th:only-of-type {\n",
       "        vertical-align: middle;\n",
       "    }\n",
       "\n",
       "    .dataframe tbody tr th {\n",
       "        vertical-align: top;\n",
       "    }\n",
       "\n",
       "    .dataframe thead th {\n",
       "        text-align: right;\n",
       "    }\n",
       "</style>\n",
       "<table border=\"1\" class=\"dataframe\">\n",
       "  <thead>\n",
       "    <tr style=\"text-align: right;\">\n",
       "      <th></th>\n",
       "      <th>m</th>\n",
       "      <th>n</th>\n",
       "    </tr>\n",
       "  </thead>\n",
       "  <tbody>\n",
       "    <tr>\n",
       "      <th>a</th>\n",
       "      <td>-0.015537</td>\n",
       "      <td>0.269408</td>\n",
       "    </tr>\n",
       "    <tr>\n",
       "      <th>d</th>\n",
       "      <td>1.051363</td>\n",
       "      <td>-1.491945</td>\n",
       "    </tr>\n",
       "  </tbody>\n",
       "</table>\n",
       "</div>"
      ],
      "text/plain": [
       "          m         n\n",
       "a -0.015537  0.269408\n",
       "d  1.051363 -1.491945"
      ]
     },
     "execution_count": 42,
     "metadata": {},
     "output_type": "execute_result"
    }
   ],
   "source": [
    "df.loc[['a', 'd'], ['m', 'n']] # rows first, columns second"
   ]
  },
  {
   "cell_type": "markdown",
   "id": "ff2c6ab2",
   "metadata": {},
   "source": [
    "### 2.4.4. Select with Conditions"
   ]
  },
  {
   "cell_type": "markdown",
   "id": "2b6b4df6",
   "metadata": {},
   "source": [
    "#### 2.4.4.1. Boolean Mask"
   ]
  },
  {
   "cell_type": "code",
   "execution_count": 43,
   "id": "958386bc",
   "metadata": {},
   "outputs": [
    {
     "data": {
      "text/html": [
       "<div>\n",
       "<style scoped>\n",
       "    .dataframe tbody tr th:only-of-type {\n",
       "        vertical-align: middle;\n",
       "    }\n",
       "\n",
       "    .dataframe tbody tr th {\n",
       "        vertical-align: top;\n",
       "    }\n",
       "\n",
       "    .dataframe thead th {\n",
       "        text-align: right;\n",
       "    }\n",
       "</style>\n",
       "<table border=\"1\" class=\"dataframe\">\n",
       "  <thead>\n",
       "    <tr style=\"text-align: right;\">\n",
       "      <th></th>\n",
       "      <th>m</th>\n",
       "      <th>n</th>\n",
       "      <th>o</th>\n",
       "      <th>p</th>\n",
       "    </tr>\n",
       "  </thead>\n",
       "  <tbody>\n",
       "    <tr>\n",
       "      <th>a</th>\n",
       "      <td>-0.015537</td>\n",
       "      <td>0.269408</td>\n",
       "      <td>0.086285</td>\n",
       "      <td>0.070749</td>\n",
       "    </tr>\n",
       "    <tr>\n",
       "      <th>b</th>\n",
       "      <td>-1.101011</td>\n",
       "      <td>-1.034281</td>\n",
       "      <td>-0.633671</td>\n",
       "      <td>-1.734682</td>\n",
       "    </tr>\n",
       "    <tr>\n",
       "      <th>c</th>\n",
       "      <td>-1.100190</td>\n",
       "      <td>0.401816</td>\n",
       "      <td>1.562977</td>\n",
       "      <td>0.462788</td>\n",
       "    </tr>\n",
       "    <tr>\n",
       "      <th>d</th>\n",
       "      <td>1.051363</td>\n",
       "      <td>-1.491945</td>\n",
       "      <td>-1.575996</td>\n",
       "      <td>-0.524634</td>\n",
       "    </tr>\n",
       "    <tr>\n",
       "      <th>e</th>\n",
       "      <td>0.059770</td>\n",
       "      <td>0.112994</td>\n",
       "      <td>0.570224</td>\n",
       "      <td>0.629993</td>\n",
       "    </tr>\n",
       "  </tbody>\n",
       "</table>\n",
       "</div>"
      ],
      "text/plain": [
       "          m         n         o         p\n",
       "a -0.015537  0.269408  0.086285  0.070749\n",
       "b -1.101011 -1.034281 -0.633671 -1.734682\n",
       "c -1.100190  0.401816  1.562977  0.462788\n",
       "d  1.051363 -1.491945 -1.575996 -0.524634\n",
       "e  0.059770  0.112994  0.570224  0.629993"
      ]
     },
     "execution_count": 43,
     "metadata": {},
     "output_type": "execute_result"
    }
   ],
   "source": [
    "df"
   ]
  },
  {
   "cell_type": "code",
   "execution_count": 44,
   "id": "67c800b5",
   "metadata": {},
   "outputs": [
    {
     "data": {
      "text/html": [
       "<div>\n",
       "<style scoped>\n",
       "    .dataframe tbody tr th:only-of-type {\n",
       "        vertical-align: middle;\n",
       "    }\n",
       "\n",
       "    .dataframe tbody tr th {\n",
       "        vertical-align: top;\n",
       "    }\n",
       "\n",
       "    .dataframe thead th {\n",
       "        text-align: right;\n",
       "    }\n",
       "</style>\n",
       "<table border=\"1\" class=\"dataframe\">\n",
       "  <thead>\n",
       "    <tr style=\"text-align: right;\">\n",
       "      <th></th>\n",
       "      <th>m</th>\n",
       "      <th>n</th>\n",
       "      <th>o</th>\n",
       "      <th>p</th>\n",
       "    </tr>\n",
       "  </thead>\n",
       "  <tbody>\n",
       "    <tr>\n",
       "      <th>a</th>\n",
       "      <td>False</td>\n",
       "      <td>True</td>\n",
       "      <td>True</td>\n",
       "      <td>True</td>\n",
       "    </tr>\n",
       "    <tr>\n",
       "      <th>b</th>\n",
       "      <td>False</td>\n",
       "      <td>False</td>\n",
       "      <td>False</td>\n",
       "      <td>False</td>\n",
       "    </tr>\n",
       "    <tr>\n",
       "      <th>c</th>\n",
       "      <td>False</td>\n",
       "      <td>True</td>\n",
       "      <td>True</td>\n",
       "      <td>True</td>\n",
       "    </tr>\n",
       "    <tr>\n",
       "      <th>d</th>\n",
       "      <td>True</td>\n",
       "      <td>False</td>\n",
       "      <td>False</td>\n",
       "      <td>False</td>\n",
       "    </tr>\n",
       "    <tr>\n",
       "      <th>e</th>\n",
       "      <td>True</td>\n",
       "      <td>True</td>\n",
       "      <td>True</td>\n",
       "      <td>True</td>\n",
       "    </tr>\n",
       "  </tbody>\n",
       "</table>\n",
       "</div>"
      ],
      "text/plain": [
       "       m      n      o      p\n",
       "a  False   True   True   True\n",
       "b  False  False  False  False\n",
       "c  False   True   True   True\n",
       "d   True  False  False  False\n",
       "e   True   True   True   True"
      ]
     },
     "execution_count": 44,
     "metadata": {},
     "output_type": "execute_result"
    }
   ],
   "source": [
    "df > 0"
   ]
  },
  {
   "cell_type": "code",
   "execution_count": 45,
   "id": "15ca7e1f",
   "metadata": {},
   "outputs": [
    {
     "data": {
      "text/html": [
       "<div>\n",
       "<style scoped>\n",
       "    .dataframe tbody tr th:only-of-type {\n",
       "        vertical-align: middle;\n",
       "    }\n",
       "\n",
       "    .dataframe tbody tr th {\n",
       "        vertical-align: top;\n",
       "    }\n",
       "\n",
       "    .dataframe thead th {\n",
       "        text-align: right;\n",
       "    }\n",
       "</style>\n",
       "<table border=\"1\" class=\"dataframe\">\n",
       "  <thead>\n",
       "    <tr style=\"text-align: right;\">\n",
       "      <th></th>\n",
       "      <th>m</th>\n",
       "      <th>n</th>\n",
       "      <th>o</th>\n",
       "      <th>p</th>\n",
       "    </tr>\n",
       "  </thead>\n",
       "  <tbody>\n",
       "    <tr>\n",
       "      <th>a</th>\n",
       "      <td>NaN</td>\n",
       "      <td>0.269408</td>\n",
       "      <td>0.086285</td>\n",
       "      <td>0.070749</td>\n",
       "    </tr>\n",
       "    <tr>\n",
       "      <th>b</th>\n",
       "      <td>NaN</td>\n",
       "      <td>NaN</td>\n",
       "      <td>NaN</td>\n",
       "      <td>NaN</td>\n",
       "    </tr>\n",
       "    <tr>\n",
       "      <th>c</th>\n",
       "      <td>NaN</td>\n",
       "      <td>0.401816</td>\n",
       "      <td>1.562977</td>\n",
       "      <td>0.462788</td>\n",
       "    </tr>\n",
       "    <tr>\n",
       "      <th>d</th>\n",
       "      <td>1.051363</td>\n",
       "      <td>NaN</td>\n",
       "      <td>NaN</td>\n",
       "      <td>NaN</td>\n",
       "    </tr>\n",
       "    <tr>\n",
       "      <th>e</th>\n",
       "      <td>0.059770</td>\n",
       "      <td>0.112994</td>\n",
       "      <td>0.570224</td>\n",
       "      <td>0.629993</td>\n",
       "    </tr>\n",
       "  </tbody>\n",
       "</table>\n",
       "</div>"
      ],
      "text/plain": [
       "          m         n         o         p\n",
       "a       NaN  0.269408  0.086285  0.070749\n",
       "b       NaN       NaN       NaN       NaN\n",
       "c       NaN  0.401816  1.562977  0.462788\n",
       "d  1.051363       NaN       NaN       NaN\n",
       "e  0.059770  0.112994  0.570224  0.629993"
      ]
     },
     "execution_count": 45,
     "metadata": {},
     "output_type": "execute_result"
    }
   ],
   "source": [
    "df[df > 0]"
   ]
  },
  {
   "cell_type": "markdown",
   "id": "0bf32fac",
   "metadata": {},
   "source": [
    "#### 2.4.4.2. Select row with condition"
   ]
  },
  {
   "cell_type": "markdown",
   "id": "e2293ea5",
   "metadata": {},
   "source": [
    "* **One condition**"
   ]
  },
  {
   "cell_type": "code",
   "execution_count": 58,
   "id": "52a16100",
   "metadata": {},
   "outputs": [
    {
     "data": {
      "text/html": [
       "<div>\n",
       "<style scoped>\n",
       "    .dataframe tbody tr th:only-of-type {\n",
       "        vertical-align: middle;\n",
       "    }\n",
       "\n",
       "    .dataframe tbody tr th {\n",
       "        vertical-align: top;\n",
       "    }\n",
       "\n",
       "    .dataframe thead th {\n",
       "        text-align: right;\n",
       "    }\n",
       "</style>\n",
       "<table border=\"1\" class=\"dataframe\">\n",
       "  <thead>\n",
       "    <tr style=\"text-align: right;\">\n",
       "      <th></th>\n",
       "      <th>m</th>\n",
       "      <th>n</th>\n",
       "      <th>o</th>\n",
       "      <th>p</th>\n",
       "    </tr>\n",
       "  </thead>\n",
       "  <tbody>\n",
       "    <tr>\n",
       "      <th>d</th>\n",
       "      <td>1.051363</td>\n",
       "      <td>-1.491945</td>\n",
       "      <td>-1.575996</td>\n",
       "      <td>-0.524634</td>\n",
       "    </tr>\n",
       "    <tr>\n",
       "      <th>e</th>\n",
       "      <td>0.059770</td>\n",
       "      <td>0.112994</td>\n",
       "      <td>0.570224</td>\n",
       "      <td>0.629993</td>\n",
       "    </tr>\n",
       "  </tbody>\n",
       "</table>\n",
       "</div>"
      ],
      "text/plain": [
       "          m         n         o         p\n",
       "d  1.051363 -1.491945 -1.575996 -0.524634\n",
       "e  0.059770  0.112994  0.570224  0.629993"
      ]
     },
     "execution_count": 58,
     "metadata": {},
     "output_type": "execute_result"
    }
   ],
   "source": [
    "df[df['m'] > 0]"
   ]
  },
  {
   "cell_type": "markdown",
   "id": "2df54fb2",
   "metadata": {},
   "source": [
    "* **Multiple conditions**"
   ]
  },
  {
   "cell_type": "code",
   "execution_count": 57,
   "id": "07f948f4",
   "metadata": {},
   "outputs": [
    {
     "data": {
      "text/html": [
       "<div>\n",
       "<style scoped>\n",
       "    .dataframe tbody tr th:only-of-type {\n",
       "        vertical-align: middle;\n",
       "    }\n",
       "\n",
       "    .dataframe tbody tr th {\n",
       "        vertical-align: top;\n",
       "    }\n",
       "\n",
       "    .dataframe thead th {\n",
       "        text-align: right;\n",
       "    }\n",
       "</style>\n",
       "<table border=\"1\" class=\"dataframe\">\n",
       "  <thead>\n",
       "    <tr style=\"text-align: right;\">\n",
       "      <th></th>\n",
       "      <th>m</th>\n",
       "      <th>n</th>\n",
       "      <th>o</th>\n",
       "      <th>p</th>\n",
       "    </tr>\n",
       "  </thead>\n",
       "  <tbody>\n",
       "    <tr>\n",
       "      <th>d</th>\n",
       "      <td>1.051363</td>\n",
       "      <td>-1.491945</td>\n",
       "      <td>-1.575996</td>\n",
       "      <td>-0.524634</td>\n",
       "    </tr>\n",
       "  </tbody>\n",
       "</table>\n",
       "</div>"
      ],
      "text/plain": [
       "          m         n         o         p\n",
       "d  1.051363 -1.491945 -1.575996 -0.524634"
      ]
     },
     "execution_count": 57,
     "metadata": {},
     "output_type": "execute_result"
    }
   ],
   "source": [
    "df[(df['m'] > 0) & (df['n'] < 0)]"
   ]
  },
  {
   "cell_type": "markdown",
   "id": "dcdfe954",
   "metadata": {},
   "source": [
    "## 2.5. Impute/Deal with Missing Data"
   ]
  },
  {
   "cell_type": "code",
   "execution_count": 67,
   "id": "5c687500",
   "metadata": {},
   "outputs": [],
   "source": [
    "dfm = df[df > 0]"
   ]
  },
  {
   "cell_type": "code",
   "execution_count": 68,
   "id": "e600a2c6",
   "metadata": {},
   "outputs": [
    {
     "data": {
      "text/html": [
       "<div>\n",
       "<style scoped>\n",
       "    .dataframe tbody tr th:only-of-type {\n",
       "        vertical-align: middle;\n",
       "    }\n",
       "\n",
       "    .dataframe tbody tr th {\n",
       "        vertical-align: top;\n",
       "    }\n",
       "\n",
       "    .dataframe thead th {\n",
       "        text-align: right;\n",
       "    }\n",
       "</style>\n",
       "<table border=\"1\" class=\"dataframe\">\n",
       "  <thead>\n",
       "    <tr style=\"text-align: right;\">\n",
       "      <th></th>\n",
       "      <th>m</th>\n",
       "      <th>n</th>\n",
       "      <th>o</th>\n",
       "      <th>p</th>\n",
       "    </tr>\n",
       "  </thead>\n",
       "  <tbody>\n",
       "    <tr>\n",
       "      <th>a</th>\n",
       "      <td>NaN</td>\n",
       "      <td>0.269408</td>\n",
       "      <td>0.086285</td>\n",
       "      <td>0.070749</td>\n",
       "    </tr>\n",
       "    <tr>\n",
       "      <th>b</th>\n",
       "      <td>NaN</td>\n",
       "      <td>NaN</td>\n",
       "      <td>NaN</td>\n",
       "      <td>NaN</td>\n",
       "    </tr>\n",
       "    <tr>\n",
       "      <th>c</th>\n",
       "      <td>NaN</td>\n",
       "      <td>0.401816</td>\n",
       "      <td>1.562977</td>\n",
       "      <td>0.462788</td>\n",
       "    </tr>\n",
       "    <tr>\n",
       "      <th>d</th>\n",
       "      <td>1.051363</td>\n",
       "      <td>NaN</td>\n",
       "      <td>NaN</td>\n",
       "      <td>NaN</td>\n",
       "    </tr>\n",
       "    <tr>\n",
       "      <th>e</th>\n",
       "      <td>0.059770</td>\n",
       "      <td>0.112994</td>\n",
       "      <td>0.570224</td>\n",
       "      <td>0.629993</td>\n",
       "    </tr>\n",
       "  </tbody>\n",
       "</table>\n",
       "</div>"
      ],
      "text/plain": [
       "          m         n         o         p\n",
       "a       NaN  0.269408  0.086285  0.070749\n",
       "b       NaN       NaN       NaN       NaN\n",
       "c       NaN  0.401816  1.562977  0.462788\n",
       "d  1.051363       NaN       NaN       NaN\n",
       "e  0.059770  0.112994  0.570224  0.629993"
      ]
     },
     "execution_count": 68,
     "metadata": {},
     "output_type": "execute_result"
    }
   ],
   "source": [
    "dfm"
   ]
  },
  {
   "cell_type": "markdown",
   "id": "e932d011",
   "metadata": {},
   "source": [
    "### 2.5.1. Drop rows"
   ]
  },
  {
   "cell_type": "markdown",
   "id": "409139ec",
   "metadata": {},
   "source": [
    "* Drop all rows that has any `NaN` value."
   ]
  },
  {
   "cell_type": "code",
   "execution_count": 72,
   "id": "43b21d71",
   "metadata": {},
   "outputs": [
    {
     "data": {
      "text/html": [
       "<div>\n",
       "<style scoped>\n",
       "    .dataframe tbody tr th:only-of-type {\n",
       "        vertical-align: middle;\n",
       "    }\n",
       "\n",
       "    .dataframe tbody tr th {\n",
       "        vertical-align: top;\n",
       "    }\n",
       "\n",
       "    .dataframe thead th {\n",
       "        text-align: right;\n",
       "    }\n",
       "</style>\n",
       "<table border=\"1\" class=\"dataframe\">\n",
       "  <thead>\n",
       "    <tr style=\"text-align: right;\">\n",
       "      <th></th>\n",
       "      <th>m</th>\n",
       "      <th>n</th>\n",
       "      <th>o</th>\n",
       "      <th>p</th>\n",
       "    </tr>\n",
       "  </thead>\n",
       "  <tbody>\n",
       "    <tr>\n",
       "      <th>e</th>\n",
       "      <td>0.05977</td>\n",
       "      <td>0.112994</td>\n",
       "      <td>0.570224</td>\n",
       "      <td>0.629993</td>\n",
       "    </tr>\n",
       "  </tbody>\n",
       "</table>\n",
       "</div>"
      ],
      "text/plain": [
       "         m         n         o         p\n",
       "e  0.05977  0.112994  0.570224  0.629993"
      ]
     },
     "execution_count": 72,
     "metadata": {},
     "output_type": "execute_result"
    }
   ],
   "source": [
    "dfm.dropna()"
   ]
  },
  {
   "cell_type": "markdown",
   "id": "f0fa5e45",
   "metadata": {},
   "source": [
    "* Drop all rows that has `NaN` in a specific column"
   ]
  },
  {
   "cell_type": "code",
   "execution_count": 73,
   "id": "eb8c7325",
   "metadata": {},
   "outputs": [
    {
     "data": {
      "text/html": [
       "<div>\n",
       "<style scoped>\n",
       "    .dataframe tbody tr th:only-of-type {\n",
       "        vertical-align: middle;\n",
       "    }\n",
       "\n",
       "    .dataframe tbody tr th {\n",
       "        vertical-align: top;\n",
       "    }\n",
       "\n",
       "    .dataframe thead th {\n",
       "        text-align: right;\n",
       "    }\n",
       "</style>\n",
       "<table border=\"1\" class=\"dataframe\">\n",
       "  <thead>\n",
       "    <tr style=\"text-align: right;\">\n",
       "      <th></th>\n",
       "      <th>m</th>\n",
       "      <th>n</th>\n",
       "      <th>o</th>\n",
       "      <th>p</th>\n",
       "    </tr>\n",
       "  </thead>\n",
       "  <tbody>\n",
       "    <tr>\n",
       "      <th>d</th>\n",
       "      <td>1.051363</td>\n",
       "      <td>NaN</td>\n",
       "      <td>NaN</td>\n",
       "      <td>NaN</td>\n",
       "    </tr>\n",
       "    <tr>\n",
       "      <th>e</th>\n",
       "      <td>0.059770</td>\n",
       "      <td>0.112994</td>\n",
       "      <td>0.570224</td>\n",
       "      <td>0.629993</td>\n",
       "    </tr>\n",
       "  </tbody>\n",
       "</table>\n",
       "</div>"
      ],
      "text/plain": [
       "          m         n         o         p\n",
       "d  1.051363       NaN       NaN       NaN\n",
       "e  0.059770  0.112994  0.570224  0.629993"
      ]
     },
     "execution_count": 73,
     "metadata": {},
     "output_type": "execute_result"
    }
   ],
   "source": [
    "dfm[dfm['m'].notna()]"
   ]
  },
  {
   "cell_type": "markdown",
   "id": "449053f6",
   "metadata": {},
   "source": [
    "### 2.5.2. Fill with values"
   ]
  },
  {
   "cell_type": "markdown",
   "id": "18e0c5b9",
   "metadata": {},
   "source": [
    "* Fill all `NaN` cells with a specific value."
   ]
  },
  {
   "cell_type": "code",
   "execution_count": 75,
   "id": "6143065d",
   "metadata": {},
   "outputs": [
    {
     "data": {
      "text/html": [
       "<div>\n",
       "<style scoped>\n",
       "    .dataframe tbody tr th:only-of-type {\n",
       "        vertical-align: middle;\n",
       "    }\n",
       "\n",
       "    .dataframe tbody tr th {\n",
       "        vertical-align: top;\n",
       "    }\n",
       "\n",
       "    .dataframe thead th {\n",
       "        text-align: right;\n",
       "    }\n",
       "</style>\n",
       "<table border=\"1\" class=\"dataframe\">\n",
       "  <thead>\n",
       "    <tr style=\"text-align: right;\">\n",
       "      <th></th>\n",
       "      <th>m</th>\n",
       "      <th>n</th>\n",
       "      <th>o</th>\n",
       "      <th>p</th>\n",
       "    </tr>\n",
       "  </thead>\n",
       "  <tbody>\n",
       "    <tr>\n",
       "      <th>a</th>\n",
       "      <td>12345.000000</td>\n",
       "      <td>0.269408</td>\n",
       "      <td>0.086285</td>\n",
       "      <td>0.070749</td>\n",
       "    </tr>\n",
       "    <tr>\n",
       "      <th>b</th>\n",
       "      <td>12345.000000</td>\n",
       "      <td>12345.000000</td>\n",
       "      <td>12345.000000</td>\n",
       "      <td>12345.000000</td>\n",
       "    </tr>\n",
       "    <tr>\n",
       "      <th>c</th>\n",
       "      <td>12345.000000</td>\n",
       "      <td>0.401816</td>\n",
       "      <td>1.562977</td>\n",
       "      <td>0.462788</td>\n",
       "    </tr>\n",
       "    <tr>\n",
       "      <th>d</th>\n",
       "      <td>1.051363</td>\n",
       "      <td>12345.000000</td>\n",
       "      <td>12345.000000</td>\n",
       "      <td>12345.000000</td>\n",
       "    </tr>\n",
       "    <tr>\n",
       "      <th>e</th>\n",
       "      <td>0.059770</td>\n",
       "      <td>0.112994</td>\n",
       "      <td>0.570224</td>\n",
       "      <td>0.629993</td>\n",
       "    </tr>\n",
       "  </tbody>\n",
       "</table>\n",
       "</div>"
      ],
      "text/plain": [
       "              m             n             o             p\n",
       "a  12345.000000      0.269408      0.086285      0.070749\n",
       "b  12345.000000  12345.000000  12345.000000  12345.000000\n",
       "c  12345.000000      0.401816      1.562977      0.462788\n",
       "d      1.051363  12345.000000  12345.000000  12345.000000\n",
       "e      0.059770      0.112994      0.570224      0.629993"
      ]
     },
     "execution_count": 75,
     "metadata": {},
     "output_type": "execute_result"
    }
   ],
   "source": [
    "dfm.fillna(value=12345)"
   ]
  },
  {
   "cell_type": "markdown",
   "id": "e52664cb",
   "metadata": {},
   "source": [
    "* Fill all `NaN` cells in a column with the mean of that column"
   ]
  },
  {
   "cell_type": "code",
   "execution_count": 76,
   "id": "c0413c88",
   "metadata": {},
   "outputs": [
    {
     "data": {
      "text/plain": [
       "a    0.555566\n",
       "b    0.555566\n",
       "c    0.555566\n",
       "d    1.051363\n",
       "e    0.059770\n",
       "Name: m, dtype: float64"
      ]
     },
     "execution_count": 76,
     "metadata": {},
     "output_type": "execute_result"
    }
   ],
   "source": [
    "dfm['m'].fillna(value=dfm['m'].mean())"
   ]
  },
  {
   "cell_type": "markdown",
   "id": "aa64d4bd",
   "metadata": {},
   "source": [
    "* Fill all `NaN` cells in the dataframe - each cell is filled with the mean value of its columns"
   ]
  },
  {
   "cell_type": "code",
   "execution_count": 79,
   "id": "daff735e",
   "metadata": {},
   "outputs": [
    {
     "data": {
      "text/html": [
       "<div>\n",
       "<style scoped>\n",
       "    .dataframe tbody tr th:only-of-type {\n",
       "        vertical-align: middle;\n",
       "    }\n",
       "\n",
       "    .dataframe tbody tr th {\n",
       "        vertical-align: top;\n",
       "    }\n",
       "\n",
       "    .dataframe thead th {\n",
       "        text-align: right;\n",
       "    }\n",
       "</style>\n",
       "<table border=\"1\" class=\"dataframe\">\n",
       "  <thead>\n",
       "    <tr style=\"text-align: right;\">\n",
       "      <th></th>\n",
       "      <th>m</th>\n",
       "      <th>n</th>\n",
       "      <th>o</th>\n",
       "      <th>p</th>\n",
       "    </tr>\n",
       "  </thead>\n",
       "  <tbody>\n",
       "    <tr>\n",
       "      <th>a</th>\n",
       "      <td>NaN</td>\n",
       "      <td>0.269408</td>\n",
       "      <td>0.086285</td>\n",
       "      <td>0.070749</td>\n",
       "    </tr>\n",
       "    <tr>\n",
       "      <th>b</th>\n",
       "      <td>NaN</td>\n",
       "      <td>NaN</td>\n",
       "      <td>NaN</td>\n",
       "      <td>NaN</td>\n",
       "    </tr>\n",
       "    <tr>\n",
       "      <th>c</th>\n",
       "      <td>NaN</td>\n",
       "      <td>0.401816</td>\n",
       "      <td>1.562977</td>\n",
       "      <td>0.462788</td>\n",
       "    </tr>\n",
       "    <tr>\n",
       "      <th>d</th>\n",
       "      <td>1.051363</td>\n",
       "      <td>NaN</td>\n",
       "      <td>NaN</td>\n",
       "      <td>NaN</td>\n",
       "    </tr>\n",
       "    <tr>\n",
       "      <th>e</th>\n",
       "      <td>0.059770</td>\n",
       "      <td>0.112994</td>\n",
       "      <td>0.570224</td>\n",
       "      <td>0.629993</td>\n",
       "    </tr>\n",
       "  </tbody>\n",
       "</table>\n",
       "</div>"
      ],
      "text/plain": [
       "          m         n         o         p\n",
       "a       NaN  0.269408  0.086285  0.070749\n",
       "b       NaN       NaN       NaN       NaN\n",
       "c       NaN  0.401816  1.562977  0.462788\n",
       "d  1.051363       NaN       NaN       NaN\n",
       "e  0.059770  0.112994  0.570224  0.629993"
      ]
     },
     "execution_count": 79,
     "metadata": {},
     "output_type": "execute_result"
    }
   ],
   "source": [
    "dfm"
   ]
  },
  {
   "cell_type": "code",
   "execution_count": 80,
   "id": "482be13b",
   "metadata": {},
   "outputs": [
    {
     "data": {
      "text/html": [
       "<div>\n",
       "<style scoped>\n",
       "    .dataframe tbody tr th:only-of-type {\n",
       "        vertical-align: middle;\n",
       "    }\n",
       "\n",
       "    .dataframe tbody tr th {\n",
       "        vertical-align: top;\n",
       "    }\n",
       "\n",
       "    .dataframe thead th {\n",
       "        text-align: right;\n",
       "    }\n",
       "</style>\n",
       "<table border=\"1\" class=\"dataframe\">\n",
       "  <thead>\n",
       "    <tr style=\"text-align: right;\">\n",
       "      <th></th>\n",
       "      <th>m</th>\n",
       "      <th>n</th>\n",
       "      <th>o</th>\n",
       "      <th>p</th>\n",
       "    </tr>\n",
       "  </thead>\n",
       "  <tbody>\n",
       "    <tr>\n",
       "      <th>a</th>\n",
       "      <td>0.555566</td>\n",
       "      <td>0.269408</td>\n",
       "      <td>0.086285</td>\n",
       "      <td>0.070749</td>\n",
       "    </tr>\n",
       "    <tr>\n",
       "      <th>b</th>\n",
       "      <td>0.555566</td>\n",
       "      <td>0.261406</td>\n",
       "      <td>0.739829</td>\n",
       "      <td>0.387843</td>\n",
       "    </tr>\n",
       "    <tr>\n",
       "      <th>c</th>\n",
       "      <td>0.555566</td>\n",
       "      <td>0.401816</td>\n",
       "      <td>1.562977</td>\n",
       "      <td>0.462788</td>\n",
       "    </tr>\n",
       "    <tr>\n",
       "      <th>d</th>\n",
       "      <td>1.051363</td>\n",
       "      <td>0.261406</td>\n",
       "      <td>0.739829</td>\n",
       "      <td>0.387843</td>\n",
       "    </tr>\n",
       "    <tr>\n",
       "      <th>e</th>\n",
       "      <td>0.059770</td>\n",
       "      <td>0.112994</td>\n",
       "      <td>0.570224</td>\n",
       "      <td>0.629993</td>\n",
       "    </tr>\n",
       "  </tbody>\n",
       "</table>\n",
       "</div>"
      ],
      "text/plain": [
       "          m         n         o         p\n",
       "a  0.555566  0.269408  0.086285  0.070749\n",
       "b  0.555566  0.261406  0.739829  0.387843\n",
       "c  0.555566  0.401816  1.562977  0.462788\n",
       "d  1.051363  0.261406  0.739829  0.387843\n",
       "e  0.059770  0.112994  0.570224  0.629993"
      ]
     },
     "execution_count": 80,
     "metadata": {},
     "output_type": "execute_result"
    }
   ],
   "source": [
    "dfm.fillna(dfm.mean())"
   ]
  },
  {
   "cell_type": "markdown",
   "id": "9b1ec80f",
   "metadata": {},
   "source": [
    "## 2.6. `groupby` and aggregate functions"
   ]
  },
  {
   "cell_type": "code",
   "execution_count": 92,
   "id": "cb1bda8b",
   "metadata": {},
   "outputs": [],
   "source": [
    "data = {\n",
    "    'Student': ['Adam', 'Adam', 'Clair', 'Bob', 'Clair', 'Bob'],\n",
    "    'Course':  ['MATH1001', 'MATH2002', 'MATH2002', 'MATH2002', 'MATH1001', 'MATH1001'],\n",
    "    'Mark':    [     5,      6,       5,     4,      7,      6]\n",
    "}"
   ]
  },
  {
   "cell_type": "code",
   "execution_count": 93,
   "id": "ccb71632",
   "metadata": {},
   "outputs": [
    {
     "data": {
      "text/plain": [
       "{'Student': ['Adam', 'Adam', 'Clair', 'Bob', 'Clair', 'Bob'],\n",
       " 'Course': ['MATH1001',\n",
       "  'MATH2002',\n",
       "  'MATH2002',\n",
       "  'MATH2002',\n",
       "  'MATH1001',\n",
       "  'MATH1001'],\n",
       " 'Mark': [5, 6, 5, 4, 7, 6]}"
      ]
     },
     "execution_count": 93,
     "metadata": {},
     "output_type": "execute_result"
    }
   ],
   "source": [
    "data"
   ]
  },
  {
   "cell_type": "code",
   "execution_count": 94,
   "id": "f2bdc33c",
   "metadata": {},
   "outputs": [],
   "source": [
    "df = pd.DataFrame(data)"
   ]
  },
  {
   "cell_type": "code",
   "execution_count": 95,
   "id": "6b07b0d2",
   "metadata": {},
   "outputs": [
    {
     "data": {
      "text/html": [
       "<div>\n",
       "<style scoped>\n",
       "    .dataframe tbody tr th:only-of-type {\n",
       "        vertical-align: middle;\n",
       "    }\n",
       "\n",
       "    .dataframe tbody tr th {\n",
       "        vertical-align: top;\n",
       "    }\n",
       "\n",
       "    .dataframe thead th {\n",
       "        text-align: right;\n",
       "    }\n",
       "</style>\n",
       "<table border=\"1\" class=\"dataframe\">\n",
       "  <thead>\n",
       "    <tr style=\"text-align: right;\">\n",
       "      <th></th>\n",
       "      <th>Student</th>\n",
       "      <th>Course</th>\n",
       "      <th>Mark</th>\n",
       "    </tr>\n",
       "  </thead>\n",
       "  <tbody>\n",
       "    <tr>\n",
       "      <th>0</th>\n",
       "      <td>Adam</td>\n",
       "      <td>MATH1001</td>\n",
       "      <td>5</td>\n",
       "    </tr>\n",
       "    <tr>\n",
       "      <th>1</th>\n",
       "      <td>Adam</td>\n",
       "      <td>MATH2002</td>\n",
       "      <td>6</td>\n",
       "    </tr>\n",
       "    <tr>\n",
       "      <th>2</th>\n",
       "      <td>Clair</td>\n",
       "      <td>MATH2002</td>\n",
       "      <td>5</td>\n",
       "    </tr>\n",
       "    <tr>\n",
       "      <th>3</th>\n",
       "      <td>Bob</td>\n",
       "      <td>MATH2002</td>\n",
       "      <td>4</td>\n",
       "    </tr>\n",
       "    <tr>\n",
       "      <th>4</th>\n",
       "      <td>Clair</td>\n",
       "      <td>MATH1001</td>\n",
       "      <td>7</td>\n",
       "    </tr>\n",
       "    <tr>\n",
       "      <th>5</th>\n",
       "      <td>Bob</td>\n",
       "      <td>MATH1001</td>\n",
       "      <td>6</td>\n",
       "    </tr>\n",
       "  </tbody>\n",
       "</table>\n",
       "</div>"
      ],
      "text/plain": [
       "  Student    Course  Mark\n",
       "0    Adam  MATH1001     5\n",
       "1    Adam  MATH2002     6\n",
       "2   Clair  MATH2002     5\n",
       "3     Bob  MATH2002     4\n",
       "4   Clair  MATH1001     7\n",
       "5     Bob  MATH1001     6"
      ]
     },
     "execution_count": 95,
     "metadata": {},
     "output_type": "execute_result"
    }
   ],
   "source": [
    "df"
   ]
  },
  {
   "cell_type": "code",
   "execution_count": 97,
   "id": "224517ee",
   "metadata": {},
   "outputs": [
    {
     "data": {
      "text/html": [
       "<div>\n",
       "<style scoped>\n",
       "    .dataframe tbody tr th:only-of-type {\n",
       "        vertical-align: middle;\n",
       "    }\n",
       "\n",
       "    .dataframe tbody tr th {\n",
       "        vertical-align: top;\n",
       "    }\n",
       "\n",
       "    .dataframe thead th {\n",
       "        text-align: right;\n",
       "    }\n",
       "</style>\n",
       "<table border=\"1\" class=\"dataframe\">\n",
       "  <thead>\n",
       "    <tr style=\"text-align: right;\">\n",
       "      <th></th>\n",
       "      <th>Course</th>\n",
       "      <th>Mark</th>\n",
       "    </tr>\n",
       "    <tr>\n",
       "      <th>Student</th>\n",
       "      <th></th>\n",
       "      <th></th>\n",
       "    </tr>\n",
       "  </thead>\n",
       "  <tbody>\n",
       "    <tr>\n",
       "      <th>Adam</th>\n",
       "      <td>MATH2002</td>\n",
       "      <td>6</td>\n",
       "    </tr>\n",
       "    <tr>\n",
       "      <th>Bob</th>\n",
       "      <td>MATH2002</td>\n",
       "      <td>6</td>\n",
       "    </tr>\n",
       "    <tr>\n",
       "      <th>Clair</th>\n",
       "      <td>MATH2002</td>\n",
       "      <td>7</td>\n",
       "    </tr>\n",
       "  </tbody>\n",
       "</table>\n",
       "</div>"
      ],
      "text/plain": [
       "           Course  Mark\n",
       "Student                \n",
       "Adam     MATH2002     6\n",
       "Bob      MATH2002     6\n",
       "Clair    MATH2002     7"
      ]
     },
     "execution_count": 97,
     "metadata": {},
     "output_type": "execute_result"
    }
   ],
   "source": [
    "df.groupby('Student').max()"
   ]
  },
  {
   "cell_type": "code",
   "execution_count": 98,
   "id": "d2341f7e",
   "metadata": {},
   "outputs": [
    {
     "data": {
      "text/html": [
       "<div>\n",
       "<style scoped>\n",
       "    .dataframe tbody tr th:only-of-type {\n",
       "        vertical-align: middle;\n",
       "    }\n",
       "\n",
       "    .dataframe tbody tr th {\n",
       "        vertical-align: top;\n",
       "    }\n",
       "\n",
       "    .dataframe thead th {\n",
       "        text-align: right;\n",
       "    }\n",
       "</style>\n",
       "<table border=\"1\" class=\"dataframe\">\n",
       "  <thead>\n",
       "    <tr style=\"text-align: right;\">\n",
       "      <th></th>\n",
       "      <th>Mark</th>\n",
       "    </tr>\n",
       "    <tr>\n",
       "      <th>Course</th>\n",
       "      <th></th>\n",
       "    </tr>\n",
       "  </thead>\n",
       "  <tbody>\n",
       "    <tr>\n",
       "      <th>MATH1001</th>\n",
       "      <td>6</td>\n",
       "    </tr>\n",
       "    <tr>\n",
       "      <th>MATH2002</th>\n",
       "      <td>5</td>\n",
       "    </tr>\n",
       "  </tbody>\n",
       "</table>\n",
       "</div>"
      ],
      "text/plain": [
       "          Mark\n",
       "Course        \n",
       "MATH1001     6\n",
       "MATH2002     5"
      ]
     },
     "execution_count": 98,
     "metadata": {},
     "output_type": "execute_result"
    }
   ],
   "source": [
    "df.groupby('Course').mean()"
   ]
  },
  {
   "cell_type": "markdown",
   "id": "4a5c1a99",
   "metadata": {},
   "source": [
    "## 2.7. Column Operations"
   ]
  },
  {
   "cell_type": "markdown",
   "id": "0108c4ee",
   "metadata": {},
   "source": [
    "### 2.7.1. Unique values in a column"
   ]
  },
  {
   "cell_type": "code",
   "execution_count": 100,
   "id": "8cef1d7d",
   "metadata": {},
   "outputs": [
    {
     "data": {
      "text/html": [
       "<div>\n",
       "<style scoped>\n",
       "    .dataframe tbody tr th:only-of-type {\n",
       "        vertical-align: middle;\n",
       "    }\n",
       "\n",
       "    .dataframe tbody tr th {\n",
       "        vertical-align: top;\n",
       "    }\n",
       "\n",
       "    .dataframe thead th {\n",
       "        text-align: right;\n",
       "    }\n",
       "</style>\n",
       "<table border=\"1\" class=\"dataframe\">\n",
       "  <thead>\n",
       "    <tr style=\"text-align: right;\">\n",
       "      <th></th>\n",
       "      <th>Student</th>\n",
       "      <th>Course</th>\n",
       "      <th>Mark</th>\n",
       "    </tr>\n",
       "  </thead>\n",
       "  <tbody>\n",
       "    <tr>\n",
       "      <th>0</th>\n",
       "      <td>Adam</td>\n",
       "      <td>MATH1001</td>\n",
       "      <td>5</td>\n",
       "    </tr>\n",
       "    <tr>\n",
       "      <th>1</th>\n",
       "      <td>Adam</td>\n",
       "      <td>MATH2002</td>\n",
       "      <td>6</td>\n",
       "    </tr>\n",
       "    <tr>\n",
       "      <th>2</th>\n",
       "      <td>Clair</td>\n",
       "      <td>MATH2002</td>\n",
       "      <td>5</td>\n",
       "    </tr>\n",
       "    <tr>\n",
       "      <th>3</th>\n",
       "      <td>Bob</td>\n",
       "      <td>MATH2002</td>\n",
       "      <td>4</td>\n",
       "    </tr>\n",
       "    <tr>\n",
       "      <th>4</th>\n",
       "      <td>Clair</td>\n",
       "      <td>MATH1001</td>\n",
       "      <td>7</td>\n",
       "    </tr>\n",
       "    <tr>\n",
       "      <th>5</th>\n",
       "      <td>Bob</td>\n",
       "      <td>MATH1001</td>\n",
       "      <td>6</td>\n",
       "    </tr>\n",
       "  </tbody>\n",
       "</table>\n",
       "</div>"
      ],
      "text/plain": [
       "  Student    Course  Mark\n",
       "0    Adam  MATH1001     5\n",
       "1    Adam  MATH2002     6\n",
       "2   Clair  MATH2002     5\n",
       "3     Bob  MATH2002     4\n",
       "4   Clair  MATH1001     7\n",
       "5     Bob  MATH1001     6"
      ]
     },
     "execution_count": 100,
     "metadata": {},
     "output_type": "execute_result"
    }
   ],
   "source": [
    "df"
   ]
  },
  {
   "cell_type": "code",
   "execution_count": 102,
   "id": "5f217b35",
   "metadata": {},
   "outputs": [
    {
     "data": {
      "text/plain": [
       "array(['Adam', 'Clair', 'Bob'], dtype=object)"
      ]
     },
     "execution_count": 102,
     "metadata": {},
     "output_type": "execute_result"
    }
   ],
   "source": [
    "df['Student'].unique()"
   ]
  },
  {
   "cell_type": "code",
   "execution_count": 103,
   "id": "820bbf30",
   "metadata": {},
   "outputs": [
    {
     "data": {
      "text/plain": [
       "3"
      ]
     },
     "execution_count": 103,
     "metadata": {},
     "output_type": "execute_result"
    }
   ],
   "source": [
    "df['Student'].nunique()"
   ]
  },
  {
   "cell_type": "code",
   "execution_count": 104,
   "id": "8647a87d",
   "metadata": {},
   "outputs": [
    {
     "data": {
      "text/plain": [
       "Adam     2\n",
       "Clair    2\n",
       "Bob      2\n",
       "Name: Student, dtype: int64"
      ]
     },
     "execution_count": 104,
     "metadata": {},
     "output_type": "execute_result"
    }
   ],
   "source": [
    "df['Student'].value_counts()"
   ]
  },
  {
   "cell_type": "markdown",
   "id": "276385e9",
   "metadata": {},
   "source": [
    "### 2.7.2. Apply a function"
   ]
  },
  {
   "cell_type": "code",
   "execution_count": 106,
   "id": "e64444e1",
   "metadata": {},
   "outputs": [
    {
     "data": {
      "text/plain": [
       "0    5\n",
       "1    6\n",
       "2    5\n",
       "3    4\n",
       "4    7\n",
       "5    6\n",
       "Name: Mark, dtype: int64"
      ]
     },
     "execution_count": 106,
     "metadata": {},
     "output_type": "execute_result"
    }
   ],
   "source": [
    "df['Mark']"
   ]
  },
  {
   "cell_type": "code",
   "execution_count": 107,
   "id": "f7b1f2cf",
   "metadata": {},
   "outputs": [],
   "source": [
    "def add1(x):\n",
    "    return x + 1"
   ]
  },
  {
   "cell_type": "code",
   "execution_count": 108,
   "id": "4d5d23db",
   "metadata": {},
   "outputs": [
    {
     "data": {
      "text/plain": [
       "0    6\n",
       "1    7\n",
       "2    6\n",
       "3    5\n",
       "4    8\n",
       "5    7\n",
       "Name: Mark, dtype: int64"
      ]
     },
     "execution_count": 108,
     "metadata": {},
     "output_type": "execute_result"
    }
   ],
   "source": [
    "df['Mark'].apply(add1)"
   ]
  },
  {
   "cell_type": "code",
   "execution_count": 109,
   "id": "7d05c647",
   "metadata": {},
   "outputs": [
    {
     "data": {
      "text/plain": [
       "0    6\n",
       "1    7\n",
       "2    6\n",
       "3    5\n",
       "4    8\n",
       "5    7\n",
       "Name: Mark, dtype: int64"
      ]
     },
     "execution_count": 109,
     "metadata": {},
     "output_type": "execute_result"
    }
   ],
   "source": [
    "df['Mark'].apply(lambda x: x + 1)"
   ]
  },
  {
   "cell_type": "markdown",
   "id": "7758d013",
   "metadata": {},
   "source": [
    "### 2.7.3. Sort by a column"
   ]
  },
  {
   "cell_type": "code",
   "execution_count": 110,
   "id": "8e8e090b",
   "metadata": {},
   "outputs": [
    {
     "data": {
      "text/html": [
       "<div>\n",
       "<style scoped>\n",
       "    .dataframe tbody tr th:only-of-type {\n",
       "        vertical-align: middle;\n",
       "    }\n",
       "\n",
       "    .dataframe tbody tr th {\n",
       "        vertical-align: top;\n",
       "    }\n",
       "\n",
       "    .dataframe thead th {\n",
       "        text-align: right;\n",
       "    }\n",
       "</style>\n",
       "<table border=\"1\" class=\"dataframe\">\n",
       "  <thead>\n",
       "    <tr style=\"text-align: right;\">\n",
       "      <th></th>\n",
       "      <th>Student</th>\n",
       "      <th>Course</th>\n",
       "      <th>Mark</th>\n",
       "    </tr>\n",
       "  </thead>\n",
       "  <tbody>\n",
       "    <tr>\n",
       "      <th>0</th>\n",
       "      <td>Adam</td>\n",
       "      <td>MATH1001</td>\n",
       "      <td>5</td>\n",
       "    </tr>\n",
       "    <tr>\n",
       "      <th>1</th>\n",
       "      <td>Adam</td>\n",
       "      <td>MATH2002</td>\n",
       "      <td>6</td>\n",
       "    </tr>\n",
       "    <tr>\n",
       "      <th>2</th>\n",
       "      <td>Clair</td>\n",
       "      <td>MATH2002</td>\n",
       "      <td>5</td>\n",
       "    </tr>\n",
       "    <tr>\n",
       "      <th>3</th>\n",
       "      <td>Bob</td>\n",
       "      <td>MATH2002</td>\n",
       "      <td>4</td>\n",
       "    </tr>\n",
       "    <tr>\n",
       "      <th>4</th>\n",
       "      <td>Clair</td>\n",
       "      <td>MATH1001</td>\n",
       "      <td>7</td>\n",
       "    </tr>\n",
       "    <tr>\n",
       "      <th>5</th>\n",
       "      <td>Bob</td>\n",
       "      <td>MATH1001</td>\n",
       "      <td>6</td>\n",
       "    </tr>\n",
       "  </tbody>\n",
       "</table>\n",
       "</div>"
      ],
      "text/plain": [
       "  Student    Course  Mark\n",
       "0    Adam  MATH1001     5\n",
       "1    Adam  MATH2002     6\n",
       "2   Clair  MATH2002     5\n",
       "3     Bob  MATH2002     4\n",
       "4   Clair  MATH1001     7\n",
       "5     Bob  MATH1001     6"
      ]
     },
     "execution_count": 110,
     "metadata": {},
     "output_type": "execute_result"
    }
   ],
   "source": [
    "df"
   ]
  },
  {
   "cell_type": "code",
   "execution_count": 111,
   "id": "fbe493f5",
   "metadata": {},
   "outputs": [
    {
     "data": {
      "text/html": [
       "<div>\n",
       "<style scoped>\n",
       "    .dataframe tbody tr th:only-of-type {\n",
       "        vertical-align: middle;\n",
       "    }\n",
       "\n",
       "    .dataframe tbody tr th {\n",
       "        vertical-align: top;\n",
       "    }\n",
       "\n",
       "    .dataframe thead th {\n",
       "        text-align: right;\n",
       "    }\n",
       "</style>\n",
       "<table border=\"1\" class=\"dataframe\">\n",
       "  <thead>\n",
       "    <tr style=\"text-align: right;\">\n",
       "      <th></th>\n",
       "      <th>Student</th>\n",
       "      <th>Course</th>\n",
       "      <th>Mark</th>\n",
       "    </tr>\n",
       "  </thead>\n",
       "  <tbody>\n",
       "    <tr>\n",
       "      <th>3</th>\n",
       "      <td>Bob</td>\n",
       "      <td>MATH2002</td>\n",
       "      <td>4</td>\n",
       "    </tr>\n",
       "    <tr>\n",
       "      <th>0</th>\n",
       "      <td>Adam</td>\n",
       "      <td>MATH1001</td>\n",
       "      <td>5</td>\n",
       "    </tr>\n",
       "    <tr>\n",
       "      <th>2</th>\n",
       "      <td>Clair</td>\n",
       "      <td>MATH2002</td>\n",
       "      <td>5</td>\n",
       "    </tr>\n",
       "    <tr>\n",
       "      <th>1</th>\n",
       "      <td>Adam</td>\n",
       "      <td>MATH2002</td>\n",
       "      <td>6</td>\n",
       "    </tr>\n",
       "    <tr>\n",
       "      <th>5</th>\n",
       "      <td>Bob</td>\n",
       "      <td>MATH1001</td>\n",
       "      <td>6</td>\n",
       "    </tr>\n",
       "    <tr>\n",
       "      <th>4</th>\n",
       "      <td>Clair</td>\n",
       "      <td>MATH1001</td>\n",
       "      <td>7</td>\n",
       "    </tr>\n",
       "  </tbody>\n",
       "</table>\n",
       "</div>"
      ],
      "text/plain": [
       "  Student    Course  Mark\n",
       "3     Bob  MATH2002     4\n",
       "0    Adam  MATH1001     5\n",
       "2   Clair  MATH2002     5\n",
       "1    Adam  MATH2002     6\n",
       "5     Bob  MATH1001     6\n",
       "4   Clair  MATH1001     7"
      ]
     },
     "execution_count": 111,
     "metadata": {},
     "output_type": "execute_result"
    }
   ],
   "source": [
    "df.sort_values(by='Mark')"
   ]
  },
  {
   "cell_type": "code",
   "execution_count": 113,
   "id": "e7eb98ea",
   "metadata": {},
   "outputs": [
    {
     "data": {
      "text/html": [
       "<div>\n",
       "<style scoped>\n",
       "    .dataframe tbody tr th:only-of-type {\n",
       "        vertical-align: middle;\n",
       "    }\n",
       "\n",
       "    .dataframe tbody tr th {\n",
       "        vertical-align: top;\n",
       "    }\n",
       "\n",
       "    .dataframe thead th {\n",
       "        text-align: right;\n",
       "    }\n",
       "</style>\n",
       "<table border=\"1\" class=\"dataframe\">\n",
       "  <thead>\n",
       "    <tr style=\"text-align: right;\">\n",
       "      <th></th>\n",
       "      <th>Student</th>\n",
       "      <th>Course</th>\n",
       "      <th>Mark</th>\n",
       "    </tr>\n",
       "  </thead>\n",
       "  <tbody>\n",
       "    <tr>\n",
       "      <th>3</th>\n",
       "      <td>Bob</td>\n",
       "      <td>MATH2002</td>\n",
       "      <td>4</td>\n",
       "    </tr>\n",
       "    <tr>\n",
       "      <th>0</th>\n",
       "      <td>Adam</td>\n",
       "      <td>MATH1001</td>\n",
       "      <td>5</td>\n",
       "    </tr>\n",
       "    <tr>\n",
       "      <th>2</th>\n",
       "      <td>Clair</td>\n",
       "      <td>MATH2002</td>\n",
       "      <td>5</td>\n",
       "    </tr>\n",
       "    <tr>\n",
       "      <th>1</th>\n",
       "      <td>Adam</td>\n",
       "      <td>MATH2002</td>\n",
       "      <td>6</td>\n",
       "    </tr>\n",
       "    <tr>\n",
       "      <th>5</th>\n",
       "      <td>Bob</td>\n",
       "      <td>MATH1001</td>\n",
       "      <td>6</td>\n",
       "    </tr>\n",
       "    <tr>\n",
       "      <th>4</th>\n",
       "      <td>Clair</td>\n",
       "      <td>MATH1001</td>\n",
       "      <td>7</td>\n",
       "    </tr>\n",
       "  </tbody>\n",
       "</table>\n",
       "</div>"
      ],
      "text/plain": [
       "  Student    Course  Mark\n",
       "3     Bob  MATH2002     4\n",
       "0    Adam  MATH1001     5\n",
       "2   Clair  MATH2002     5\n",
       "1    Adam  MATH2002     6\n",
       "5     Bob  MATH1001     6\n",
       "4   Clair  MATH1001     7"
      ]
     },
     "execution_count": 113,
     "metadata": {},
     "output_type": "execute_result"
    }
   ],
   "source": [
    "df.sort_values(by=['Mark', 'Student'])"
   ]
  },
  {
   "cell_type": "markdown",
   "id": "1afa6f51",
   "metadata": {},
   "source": [
    "# 3. Input Data"
   ]
  },
  {
   "cell_type": "markdown",
   "id": "bf7f7123",
   "metadata": {},
   "source": [
    "## 3.1. csv files\n",
    "\n",
    "* Use the `pd.read_csv(file_path)` function."
   ]
  }
 ],
 "metadata": {
  "kernelspec": {
   "display_name": "Python 3",
   "language": "python",
   "name": "python3"
  },
  "language_info": {
   "codemirror_mode": {
    "name": "ipython",
    "version": 3
   },
   "file_extension": ".py",
   "mimetype": "text/x-python",
   "name": "python",
   "nbconvert_exporter": "python",
   "pygments_lexer": "ipython3",
   "version": "3.9.5"
  }
 },
 "nbformat": 4,
 "nbformat_minor": 5
}
