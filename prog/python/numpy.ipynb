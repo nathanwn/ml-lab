{
 "cells": [
  {
   "cell_type": "markdown",
   "id": "3b4709ea",
   "metadata": {},
   "source": [
    "# Numpy"
   ]
  },
  {
   "cell_type": "code",
   "execution_count": 56,
   "id": "c8361b59",
   "metadata": {},
   "outputs": [],
   "source": [
    "import numpy as np"
   ]
  },
  {
   "cell_type": "markdown",
   "id": "a71892c4",
   "metadata": {},
   "source": [
    "## 1. Create"
   ]
  },
  {
   "cell_type": "markdown",
   "id": "e7b0fb82",
   "metadata": {},
   "source": [
    "### 1.1. Arrays from Python List"
   ]
  },
  {
   "cell_type": "markdown",
   "id": "cf509dd1",
   "metadata": {},
   "source": [
    "* [`np.array(py_list)`](https://numpy.org/doc/stable/reference/random/generated/numpy.random.rand.html): Numpy array from python list `py_list`"
   ]
  },
  {
   "cell_type": "code",
   "execution_count": 57,
   "id": "e86edd7a",
   "metadata": {},
   "outputs": [
    {
     "data": {
      "text/plain": [
       "array([1, 2, 3, 4, 5])"
      ]
     },
     "execution_count": 57,
     "metadata": {},
     "output_type": "execute_result"
    }
   ],
   "source": [
    "np.array([1, 2, 3, 4, 5])"
   ]
  },
  {
   "cell_type": "markdown",
   "id": "8cd1b218",
   "metadata": {},
   "source": [
    "### 1.2. Arrays filled with single value"
   ]
  },
  {
   "cell_type": "markdown",
   "id": "10358297",
   "metadata": {},
   "source": [
    "* [`np.zeros(dim)`](https://numpy.org/doc/stable/reference/generated/numpy.zeros.html): Array full of zeros with dimensions given by `dim: tuple`"
   ]
  },
  {
   "cell_type": "code",
   "execution_count": 58,
   "id": "662a626c",
   "metadata": {
    "scrolled": true
   },
   "outputs": [
    {
     "data": {
      "text/plain": [
       "array([[0., 0., 0.],\n",
       "       [0., 0., 0.]])"
      ]
     },
     "execution_count": 58,
     "metadata": {},
     "output_type": "execute_result"
    }
   ],
   "source": [
    "np.zeros((2, 3))"
   ]
  },
  {
   "cell_type": "markdown",
   "id": "7b401e48",
   "metadata": {},
   "source": [
    "* [`np.ones(dim)`](https://numpy.org/doc/stable/reference/generated/numpy.zeros.html): Array full of ones with dimensions given by `dim: tuple`"
   ]
  },
  {
   "cell_type": "code",
   "execution_count": 59,
   "id": "d2d8ae5d",
   "metadata": {},
   "outputs": [
    {
     "data": {
      "text/plain": [
       "array([[1., 1.],\n",
       "       [1., 1.],\n",
       "       [1., 1.]])"
      ]
     },
     "execution_count": 59,
     "metadata": {},
     "output_type": "execute_result"
    }
   ],
   "source": [
    "np.ones((3, 2))"
   ]
  },
  {
   "cell_type": "markdown",
   "id": "2a45fa7c",
   "metadata": {},
   "source": [
    "### 1.3. Arrays generated from a range"
   ]
  },
  {
   "cell_type": "markdown",
   "id": "459e097f",
   "metadata": {},
   "source": [
    "* [`np.arange(start, stop, step)`](https://numpy.org/doc/stable/reference/generated/numpy.arange.html): Array generated from the interval [`start`, `stop`] with stepsize `step`"
   ]
  },
  {
   "cell_type": "code",
   "execution_count": 60,
   "id": "9b4e93ca",
   "metadata": {},
   "outputs": [
    {
     "data": {
      "text/plain": [
       "array([ 0,  2,  4,  6,  8, 10])"
      ]
     },
     "execution_count": 60,
     "metadata": {},
     "output_type": "execute_result"
    }
   ],
   "source": [
    "np.arange(0, 11, 2)"
   ]
  },
  {
   "cell_type": "markdown",
   "id": "10bfb7f1",
   "metadata": {},
   "source": [
    "* [`np.linspace(start, stop, num)`](https://numpy.org/doc/stable/reference/generated/numpy.linspace.html): Array of evenly spaced numbers over an interval [`start`, `stop`] with `num` samples"
   ]
  },
  {
   "cell_type": "code",
   "execution_count": 61,
   "id": "7995b197",
   "metadata": {},
   "outputs": [
    {
     "data": {
      "text/plain": [
       "array([ 0. ,  2.5,  5. ,  7.5, 10. ])"
      ]
     },
     "execution_count": 61,
     "metadata": {},
     "output_type": "execute_result"
    }
   ],
   "source": [
    "np.linspace(0, 10, 5)"
   ]
  },
  {
   "cell_type": "markdown",
   "id": "1abf2fd3",
   "metadata": {},
   "source": [
    "### 1.4. Identity matrix"
   ]
  },
  {
   "cell_type": "markdown",
   "id": "f74c49ff",
   "metadata": {},
   "source": [
    "* [`np.eye(d1, d2, ...)`](https://numpy.org/devdocs/reference/generated/numpy.eye.html): identity matrix"
   ]
  },
  {
   "cell_type": "code",
   "execution_count": 62,
   "id": "308fb905",
   "metadata": {},
   "outputs": [
    {
     "data": {
      "text/plain": [
       "array([[1., 0., 0.],\n",
       "       [0., 1., 0.],\n",
       "       [0., 0., 1.]])"
      ]
     },
     "execution_count": 62,
     "metadata": {},
     "output_type": "execute_result"
    }
   ],
   "source": [
    "np.eye(3)"
   ]
  },
  {
   "cell_type": "markdown",
   "id": "07c63eb3",
   "metadata": {},
   "source": [
    "### 1.5. Random arrays"
   ]
  },
  {
   "cell_type": "markdown",
   "id": "93270ca9",
   "metadata": {},
   "source": [
    "* [`np.random.rand(d1, d2, ...)`](https://numpy.org/doc/stable/reference/random/generated/numpy.random.rand.html): Array of random numbers from a **uniform distribution over [0, 1)**"
   ]
  },
  {
   "cell_type": "code",
   "execution_count": 63,
   "id": "83f96874",
   "metadata": {},
   "outputs": [
    {
     "data": {
      "text/plain": [
       "array([[0.52045215, 0.41602821, 0.30792845],\n",
       "       [0.24098193, 0.01397551, 0.88455005]])"
      ]
     },
     "execution_count": 63,
     "metadata": {},
     "output_type": "execute_result"
    }
   ],
   "source": [
    "np.random.rand(2, 3)"
   ]
  },
  {
   "cell_type": "markdown",
   "id": "b22e160b",
   "metadata": {},
   "source": [
    "* [`np.random.randn`](https://numpy.org/doc/stable/reference/random/generated/numpy.random.randn.html): Array of random numbers from a **standard normal distribution**"
   ]
  },
  {
   "cell_type": "code",
   "execution_count": 64,
   "id": "117ff66c",
   "metadata": {},
   "outputs": [
    {
     "data": {
      "text/plain": [
       "array([[-0.04326562, -1.62610118, -0.80611578],\n",
       "       [ 0.78051602,  0.29855186, -0.69190775]])"
      ]
     },
     "execution_count": 64,
     "metadata": {},
     "output_type": "execute_result"
    }
   ],
   "source": [
    "np.random.randn(2, 3)"
   ]
  },
  {
   "cell_type": "markdown",
   "id": "0dde07e2",
   "metadata": {},
   "source": [
    "* [`np.random.randint(low, high, dim)`](https://numpy.org/doc/stable/reference/random/generated/numpy.random.randint.html): Array with dimension `dim: tuple` of random integers from a **discrete uniform distribution [low, high)**"
   ]
  },
  {
   "cell_type": "code",
   "execution_count": 65,
   "id": "86f17132",
   "metadata": {},
   "outputs": [
    {
     "data": {
      "text/plain": [
       "array([[2, 6, 5],\n",
       "       [9, 0, 5]])"
      ]
     },
     "execution_count": 65,
     "metadata": {},
     "output_type": "execute_result"
    }
   ],
   "source": [
    "np.random.randint(0, 10, (2, 3))"
   ]
  },
  {
   "cell_type": "markdown",
   "id": "9bed6cca",
   "metadata": {},
   "source": [
    "## 2. Reshape"
   ]
  },
  {
   "cell_type": "markdown",
   "id": "8b72c76e",
   "metadata": {},
   "source": [
    "* [`arr.reshape(d1, d2, ...)`](https://numpy.org/doc/stable/reference/generated/numpy.reshape.html)"
   ]
  },
  {
   "cell_type": "code",
   "execution_count": 66,
   "id": "7820c688",
   "metadata": {},
   "outputs": [
    {
     "data": {
      "text/plain": [
       "array([[1, 2, 3],\n",
       "       [4, 5, 6],\n",
       "       [7, 8, 9]])"
      ]
     },
     "execution_count": 66,
     "metadata": {},
     "output_type": "execute_result"
    }
   ],
   "source": [
    "np.arange(1, 10).reshape(3, 3)"
   ]
  },
  {
   "cell_type": "code",
   "execution_count": 67,
   "id": "e84fdd9f",
   "metadata": {},
   "outputs": [
    {
     "data": {
      "text/plain": [
       "array([[1, 2],\n",
       "       [3, 4],\n",
       "       [5, 6]])"
      ]
     },
     "execution_count": 67,
     "metadata": {},
     "output_type": "execute_result"
    }
   ],
   "source": [
    "np.arange(1, 7).reshape(2, 3).reshape(3, 2)"
   ]
  },
  {
   "cell_type": "markdown",
   "id": "e7f82dfd",
   "metadata": {},
   "source": [
    "## 3. Min/max values"
   ]
  },
  {
   "cell_type": "code",
   "execution_count": 68,
   "id": "68ac95e8",
   "metadata": {},
   "outputs": [
    {
     "name": "stdout",
     "output_type": "stream",
     "text": [
      "[[1 2 3]\n",
      " [4 5 6]\n",
      " [7 8 9]]\n"
     ]
    }
   ],
   "source": [
    "a = np.arange(1, 10).reshape(3, 3)\n",
    "print(a)"
   ]
  },
  {
   "cell_type": "code",
   "execution_count": 69,
   "id": "71cd3fb2",
   "metadata": {},
   "outputs": [
    {
     "data": {
      "text/plain": [
       "9"
      ]
     },
     "execution_count": 69,
     "metadata": {},
     "output_type": "execute_result"
    }
   ],
   "source": [
    "a.max()"
   ]
  },
  {
   "cell_type": "code",
   "execution_count": 70,
   "id": "b5c57f95",
   "metadata": {},
   "outputs": [
    {
     "data": {
      "text/plain": [
       "1"
      ]
     },
     "execution_count": 70,
     "metadata": {},
     "output_type": "execute_result"
    }
   ],
   "source": [
    "a.min()"
   ]
  },
  {
   "cell_type": "markdown",
   "id": "ab46a956",
   "metadata": {},
   "source": [
    "## 4. Access/Select"
   ]
  },
  {
   "cell_type": "code",
   "execution_count": 71,
   "id": "447e165b",
   "metadata": {},
   "outputs": [
    {
     "data": {
      "text/plain": [
       "array([[1, 2, 3],\n",
       "       [4, 5, 6],\n",
       "       [7, 8, 9]])"
      ]
     },
     "execution_count": 71,
     "metadata": {},
     "output_type": "execute_result"
    }
   ],
   "source": [
    "a"
   ]
  },
  {
   "cell_type": "markdown",
   "id": "29df20a4",
   "metadata": {},
   "source": [
    "### 4.1. Access single element"
   ]
  },
  {
   "cell_type": "code",
   "execution_count": 72,
   "id": "145a692f",
   "metadata": {},
   "outputs": [
    {
     "data": {
      "text/plain": [
       "1"
      ]
     },
     "execution_count": 72,
     "metadata": {},
     "output_type": "execute_result"
    }
   ],
   "source": [
    "assert a[0][0] == a[0, 0]\n",
    "a[0, 0]"
   ]
  },
  {
   "cell_type": "markdown",
   "id": "8d7e83e3",
   "metadata": {},
   "source": [
    "### 4.2. Access single row/column"
   ]
  },
  {
   "cell_type": "code",
   "execution_count": 73,
   "id": "71e6e4ab",
   "metadata": {},
   "outputs": [
    {
     "data": {
      "text/plain": [
       "array([3, 6, 9])"
      ]
     },
     "execution_count": 73,
     "metadata": {},
     "output_type": "execute_result"
    }
   ],
   "source": [
    "a[:, 2]"
   ]
  },
  {
   "cell_type": "code",
   "execution_count": 74,
   "id": "4a3cd103",
   "metadata": {},
   "outputs": [
    {
     "data": {
      "text/plain": [
       "array([4, 5, 6])"
      ]
     },
     "execution_count": 74,
     "metadata": {},
     "output_type": "execute_result"
    }
   ],
   "source": [
    "a[1, :]"
   ]
  },
  {
   "cell_type": "markdown",
   "id": "a66c235c",
   "metadata": {},
   "source": [
    "### 4.3. Access multiple rows/columns"
   ]
  },
  {
   "cell_type": "code",
   "execution_count": 75,
   "id": "e0445f43",
   "metadata": {},
   "outputs": [
    {
     "data": {
      "text/plain": [
       "array([[1, 2],\n",
       "       [4, 5],\n",
       "       [7, 8]])"
      ]
     },
     "execution_count": 75,
     "metadata": {},
     "output_type": "execute_result"
    }
   ],
   "source": [
    "a[:, 0:2]"
   ]
  },
  {
   "cell_type": "code",
   "execution_count": 76,
   "id": "d1db9a69",
   "metadata": {},
   "outputs": [
    {
     "data": {
      "text/plain": [
       "array([[1, 2, 3],\n",
       "       [4, 5, 6]])"
      ]
     },
     "execution_count": 76,
     "metadata": {},
     "output_type": "execute_result"
    }
   ],
   "source": [
    "a[0:2, :]"
   ]
  },
  {
   "cell_type": "markdown",
   "id": "6e7347e3",
   "metadata": {},
   "source": [
    "**Important note**: accessing one or multiple rows/columns can be done by using the slice operator `:`. The slice operator on numpy array **does not create a new array, but instead point to the same location of the original array**."
   ]
  },
  {
   "cell_type": "code",
   "execution_count": 77,
   "id": "f3b156bb",
   "metadata": {},
   "outputs": [
    {
     "name": "stdout",
     "output_type": "stream",
     "text": [
      "[[1 2 3]\n",
      " [4 5 6]\n",
      " [7 8 9]]\n"
     ]
    }
   ],
   "source": [
    "print(a)"
   ]
  },
  {
   "cell_type": "code",
   "execution_count": 78,
   "id": "10fc9be4",
   "metadata": {},
   "outputs": [],
   "source": [
    "b = a[0:2, :]\n",
    "b[:] = 9"
   ]
  },
  {
   "cell_type": "code",
   "execution_count": 79,
   "id": "43aa098d",
   "metadata": {},
   "outputs": [
    {
     "data": {
      "text/plain": [
       "array([[9, 9, 9],\n",
       "       [9, 9, 9],\n",
       "       [7, 8, 9]])"
      ]
     },
     "execution_count": 79,
     "metadata": {},
     "output_type": "execute_result"
    }
   ],
   "source": [
    "a"
   ]
  },
  {
   "cell_type": "markdown",
   "id": "bc9a64b8",
   "metadata": {},
   "source": [
    "### 4.4. Conditional selection with Boolean array indexing"
   ]
  },
  {
   "cell_type": "markdown",
   "id": "1141ac26",
   "metadata": {},
   "source": [
    "More on this: [here](https://numpy.org/doc/stable/reference/arrays.indexing.html#boolean-array-indexing)"
   ]
  },
  {
   "cell_type": "markdown",
   "id": "14217735",
   "metadata": {},
   "source": [
    "#### 4.4.1. Conditional selection on 1d array"
   ]
  },
  {
   "cell_type": "code",
   "execution_count": 80,
   "id": "ea906b2d",
   "metadata": {},
   "outputs": [
    {
     "name": "stdout",
     "output_type": "stream",
     "text": [
      "[1 7 8 9 7]\n"
     ]
    }
   ],
   "source": [
    "a = np.random.randint(0, 10, 5)\n",
    "print(a)"
   ]
  },
  {
   "cell_type": "code",
   "execution_count": 81,
   "id": "0233adef",
   "metadata": {},
   "outputs": [
    {
     "name": "stdout",
     "output_type": "stream",
     "text": [
      "[False  True  True  True  True]\n"
     ]
    }
   ],
   "source": [
    "mask = a > 5\n",
    "print(mask)"
   ]
  },
  {
   "cell_type": "code",
   "execution_count": 82,
   "id": "f3cd6173",
   "metadata": {},
   "outputs": [
    {
     "data": {
      "text/plain": [
       "array([7, 8, 9, 7])"
      ]
     },
     "execution_count": 82,
     "metadata": {},
     "output_type": "execute_result"
    }
   ],
   "source": [
    "a[mask]"
   ]
  },
  {
   "cell_type": "code",
   "execution_count": 83,
   "id": "44e8b769",
   "metadata": {},
   "outputs": [],
   "source": [
    "a[mask] = 0"
   ]
  },
  {
   "cell_type": "code",
   "execution_count": 84,
   "id": "a1e03900",
   "metadata": {},
   "outputs": [
    {
     "data": {
      "text/plain": [
       "array([1, 0, 0, 0, 0])"
      ]
     },
     "execution_count": 84,
     "metadata": {},
     "output_type": "execute_result"
    }
   ],
   "source": [
    "a"
   ]
  },
  {
   "cell_type": "markdown",
   "id": "51c215cd",
   "metadata": {},
   "source": [
    "#### 4.4.2. Conditional selection on 2d array"
   ]
  },
  {
   "cell_type": "code",
   "execution_count": 85,
   "id": "132806be",
   "metadata": {},
   "outputs": [
    {
     "name": "stdout",
     "output_type": "stream",
     "text": [
      "[[1 2 0]\n",
      " [0 2 0]\n",
      " [1 2 1]\n",
      " [0 0 2]\n",
      " [0 1 2]\n",
      " [2 0 2]\n",
      " [0 2 2]\n",
      " [0 1 2]\n",
      " [1 2 2]\n",
      " [0 2 1]]\n"
     ]
    }
   ],
   "source": [
    "a = np.random.randint(0, 3, (10, 3))\n",
    "print(a)"
   ]
  },
  {
   "cell_type": "code",
   "execution_count": 86,
   "id": "15935403",
   "metadata": {},
   "outputs": [
    {
     "name": "stdout",
     "output_type": "stream",
     "text": [
      "[ True False  True False False False False False  True False]\n"
     ]
    }
   ],
   "source": [
    "mask = a[:, 0] == 1 # mask to select all rows having 1 in the first column\n",
    "print(mask)"
   ]
  },
  {
   "cell_type": "code",
   "execution_count": 87,
   "id": "f16bd9f9",
   "metadata": {},
   "outputs": [
    {
     "data": {
      "text/plain": [
       "array([[1, 2, 0],\n",
       "       [1, 2, 1],\n",
       "       [1, 2, 2]])"
      ]
     },
     "execution_count": 87,
     "metadata": {},
     "output_type": "execute_result"
    }
   ],
   "source": [
    "a[mask, :]"
   ]
  },
  {
   "cell_type": "markdown",
   "id": "0772d03e",
   "metadata": {},
   "source": [
    "## 5. Matrix Operations"
   ]
  },
  {
   "cell_type": "markdown",
   "id": "7bec12a8",
   "metadata": {},
   "source": [
    "### 5.1. Element-wise operations"
   ]
  },
  {
   "cell_type": "code",
   "execution_count": 88,
   "id": "3bc7816a",
   "metadata": {
    "scrolled": true
   },
   "outputs": [
    {
     "name": "stdout",
     "output_type": "stream",
     "text": [
      "[[5 3 5]\n",
      " [7 9 6]]\n",
      "[[ 1  1  5]\n",
      " [ 1  5 -4]]\n",
      "[[ 6  2  0]\n",
      " [12 14  5]]\n"
     ]
    }
   ],
   "source": [
    "a = np.array([[3, 2, 5],\n",
    "              [4, 7, 1]])\n",
    "b = np.array([[2, 1, 0],\n",
    "              [3, 2, 5]])\n",
    "print(a + b)\n",
    "print(a - b)\n",
    "print(a * b)"
   ]
  },
  {
   "cell_type": "markdown",
   "id": "544369f0",
   "metadata": {},
   "source": [
    "### 5.2. Broadcasting\n",
    "\n",
    "Read:\n",
    "* [Basic broadcasting](https://numpy.org/doc/stable/user/basics.broadcasting.html)\n",
    "* [Array broadcasting](https://numpy.org/doc/stable/user/theory.broadcasting.html#array-broadcasting-in-numpy)"
   ]
  },
  {
   "cell_type": "code",
   "execution_count": 89,
   "id": "828c5636",
   "metadata": {},
   "outputs": [
    {
     "data": {
      "text/plain": [
       "array([[ 9,  6, 15],\n",
       "       [12, 21,  3]])"
      ]
     },
     "execution_count": 89,
     "metadata": {},
     "output_type": "execute_result"
    }
   ],
   "source": [
    "a * 3"
   ]
  },
  {
   "cell_type": "markdown",
   "id": "9f1be4b3",
   "metadata": {},
   "source": [
    "### 5.3. Matrix multiplication"
   ]
  },
  {
   "cell_type": "code",
   "execution_count": 90,
   "id": "297e9365",
   "metadata": {},
   "outputs": [
    {
     "data": {
      "text/plain": [
       "array([[ 8, 38],\n",
       "       [15, 31]])"
      ]
     },
     "execution_count": 90,
     "metadata": {},
     "output_type": "execute_result"
    }
   ],
   "source": [
    "a @ b.T"
   ]
  },
  {
   "cell_type": "code",
   "execution_count": 91,
   "id": "654ea689",
   "metadata": {},
   "outputs": [
    {
     "data": {
      "text/plain": [
       "array([[ 8, 38],\n",
       "       [15, 31]])"
      ]
     },
     "execution_count": 91,
     "metadata": {},
     "output_type": "execute_result"
    }
   ],
   "source": [
    "np.matmul(a, b.T)"
   ]
  }
 ],
 "metadata": {
  "kernelspec": {
   "display_name": "Python 3",
   "language": "python",
   "name": "python3"
  },
  "language_info": {
   "codemirror_mode": {
    "name": "ipython",
    "version": 3
   },
   "file_extension": ".py",
   "mimetype": "text/x-python",
   "name": "python",
   "nbconvert_exporter": "python",
   "pygments_lexer": "ipython3",
   "version": "3.9.5"
  }
 },
 "nbformat": 4,
 "nbformat_minor": 5
}
