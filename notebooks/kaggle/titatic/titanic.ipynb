{
 "cells": [
  {
   "cell_type": "markdown",
   "id": "6a2cfdca",
   "metadata": {},
   "source": [
    "# Notes"
   ]
  },
  {
   "cell_type": "markdown",
   "id": "2f553954",
   "metadata": {},
   "source": [
    "This notebook is merely me trying to use various features of the common machine learning libraries.\n",
    "\n",
    "The analysis done in this notebook is not necessarily good/reasonable."
   ]
  },
  {
   "cell_type": "markdown",
   "id": "50adb34c",
   "metadata": {},
   "source": [
    "# Task"
   ]
  },
  {
   "cell_type": "markdown",
   "id": "d31850da",
   "metadata": {},
   "source": [
    "Contest: [url](https://www.kaggle.com/c/titanic/data)\n",
    "\n",
    "**Build a predictive model that answers the question: “what sorts of people were more likely to survive?” using passenger data (ie name, age, gender, socio-economic class, etc).**"
   ]
  },
  {
   "cell_type": "markdown",
   "id": "38f4dfcb",
   "metadata": {},
   "source": [
    "# Input Data"
   ]
  },
  {
   "cell_type": "code",
   "execution_count": 1,
   "id": "d9f0d528",
   "metadata": {},
   "outputs": [],
   "source": [
    "import numpy as np\n",
    "import pandas as pd\n",
    "import matplotlib.pyplot as plt\n",
    "import seaborn as sns\n",
    "import math"
   ]
  },
  {
   "cell_type": "code",
   "execution_count": 2,
   "id": "4db8ca29",
   "metadata": {},
   "outputs": [],
   "source": [
    "df_train = pd.read_csv('train.csv')\n",
    "df_test = pd.read_csv('test.csv')"
   ]
  },
  {
   "cell_type": "code",
   "execution_count": 3,
   "id": "283ed12b",
   "metadata": {},
   "outputs": [
    {
     "data": {
      "text/html": [
       "<div>\n",
       "<style scoped>\n",
       "    .dataframe tbody tr th:only-of-type {\n",
       "        vertical-align: middle;\n",
       "    }\n",
       "\n",
       "    .dataframe tbody tr th {\n",
       "        vertical-align: top;\n",
       "    }\n",
       "\n",
       "    .dataframe thead th {\n",
       "        text-align: right;\n",
       "    }\n",
       "</style>\n",
       "<table border=\"1\" class=\"dataframe\">\n",
       "  <thead>\n",
       "    <tr style=\"text-align: right;\">\n",
       "      <th></th>\n",
       "      <th>PassengerId</th>\n",
       "      <th>Survived</th>\n",
       "      <th>Pclass</th>\n",
       "      <th>Name</th>\n",
       "      <th>Sex</th>\n",
       "      <th>Age</th>\n",
       "      <th>SibSp</th>\n",
       "      <th>Parch</th>\n",
       "      <th>Ticket</th>\n",
       "      <th>Fare</th>\n",
       "      <th>Cabin</th>\n",
       "      <th>Embarked</th>\n",
       "    </tr>\n",
       "  </thead>\n",
       "  <tbody>\n",
       "    <tr>\n",
       "      <th>0</th>\n",
       "      <td>1</td>\n",
       "      <td>0</td>\n",
       "      <td>3</td>\n",
       "      <td>Braund, Mr. Owen Harris</td>\n",
       "      <td>male</td>\n",
       "      <td>22.0</td>\n",
       "      <td>1</td>\n",
       "      <td>0</td>\n",
       "      <td>A/5 21171</td>\n",
       "      <td>7.2500</td>\n",
       "      <td>NaN</td>\n",
       "      <td>S</td>\n",
       "    </tr>\n",
       "    <tr>\n",
       "      <th>1</th>\n",
       "      <td>2</td>\n",
       "      <td>1</td>\n",
       "      <td>1</td>\n",
       "      <td>Cumings, Mrs. John Bradley (Florence Briggs Th...</td>\n",
       "      <td>female</td>\n",
       "      <td>38.0</td>\n",
       "      <td>1</td>\n",
       "      <td>0</td>\n",
       "      <td>PC 17599</td>\n",
       "      <td>71.2833</td>\n",
       "      <td>C85</td>\n",
       "      <td>C</td>\n",
       "    </tr>\n",
       "    <tr>\n",
       "      <th>2</th>\n",
       "      <td>3</td>\n",
       "      <td>1</td>\n",
       "      <td>3</td>\n",
       "      <td>Heikkinen, Miss. Laina</td>\n",
       "      <td>female</td>\n",
       "      <td>26.0</td>\n",
       "      <td>0</td>\n",
       "      <td>0</td>\n",
       "      <td>STON/O2. 3101282</td>\n",
       "      <td>7.9250</td>\n",
       "      <td>NaN</td>\n",
       "      <td>S</td>\n",
       "    </tr>\n",
       "    <tr>\n",
       "      <th>3</th>\n",
       "      <td>4</td>\n",
       "      <td>1</td>\n",
       "      <td>1</td>\n",
       "      <td>Futrelle, Mrs. Jacques Heath (Lily May Peel)</td>\n",
       "      <td>female</td>\n",
       "      <td>35.0</td>\n",
       "      <td>1</td>\n",
       "      <td>0</td>\n",
       "      <td>113803</td>\n",
       "      <td>53.1000</td>\n",
       "      <td>C123</td>\n",
       "      <td>S</td>\n",
       "    </tr>\n",
       "    <tr>\n",
       "      <th>4</th>\n",
       "      <td>5</td>\n",
       "      <td>0</td>\n",
       "      <td>3</td>\n",
       "      <td>Allen, Mr. William Henry</td>\n",
       "      <td>male</td>\n",
       "      <td>35.0</td>\n",
       "      <td>0</td>\n",
       "      <td>0</td>\n",
       "      <td>373450</td>\n",
       "      <td>8.0500</td>\n",
       "      <td>NaN</td>\n",
       "      <td>S</td>\n",
       "    </tr>\n",
       "  </tbody>\n",
       "</table>\n",
       "</div>"
      ],
      "text/plain": [
       "   PassengerId  Survived  Pclass  \\\n",
       "0            1         0       3   \n",
       "1            2         1       1   \n",
       "2            3         1       3   \n",
       "3            4         1       1   \n",
       "4            5         0       3   \n",
       "\n",
       "                                                Name     Sex   Age  SibSp  \\\n",
       "0                            Braund, Mr. Owen Harris    male  22.0      1   \n",
       "1  Cumings, Mrs. John Bradley (Florence Briggs Th...  female  38.0      1   \n",
       "2                             Heikkinen, Miss. Laina  female  26.0      0   \n",
       "3       Futrelle, Mrs. Jacques Heath (Lily May Peel)  female  35.0      1   \n",
       "4                           Allen, Mr. William Henry    male  35.0      0   \n",
       "\n",
       "   Parch            Ticket     Fare Cabin Embarked  \n",
       "0      0         A/5 21171   7.2500   NaN        S  \n",
       "1      0          PC 17599  71.2833   C85        C  \n",
       "2      0  STON/O2. 3101282   7.9250   NaN        S  \n",
       "3      0            113803  53.1000  C123        S  \n",
       "4      0            373450   8.0500   NaN        S  "
      ]
     },
     "execution_count": 3,
     "metadata": {},
     "output_type": "execute_result"
    }
   ],
   "source": [
    "df_train.head()"
   ]
  },
  {
   "cell_type": "code",
   "execution_count": 4,
   "id": "34024c00",
   "metadata": {},
   "outputs": [
    {
     "name": "stdout",
     "output_type": "stream",
     "text": [
      "<class 'pandas.core.frame.DataFrame'>\n",
      "RangeIndex: 891 entries, 0 to 890\n",
      "Data columns (total 12 columns):\n",
      " #   Column       Non-Null Count  Dtype  \n",
      "---  ------       --------------  -----  \n",
      " 0   PassengerId  891 non-null    int64  \n",
      " 1   Survived     891 non-null    int64  \n",
      " 2   Pclass       891 non-null    int64  \n",
      " 3   Name         891 non-null    object \n",
      " 4   Sex          891 non-null    object \n",
      " 5   Age          714 non-null    float64\n",
      " 6   SibSp        891 non-null    int64  \n",
      " 7   Parch        891 non-null    int64  \n",
      " 8   Ticket       891 non-null    object \n",
      " 9   Fare         891 non-null    float64\n",
      " 10  Cabin        204 non-null    object \n",
      " 11  Embarked     889 non-null    object \n",
      "dtypes: float64(2), int64(5), object(5)\n",
      "memory usage: 83.7+ KB\n"
     ]
    }
   ],
   "source": [
    "df_train.info()"
   ]
  },
  {
   "cell_type": "markdown",
   "id": "f425c5e4",
   "metadata": {},
   "source": [
    "There are 12 variables in the training set:\n",
    "* `PassengerId`: passenger id\n",
    "* `Survived`: whether the passenger survived (0 = No, 1 = Yes)\n",
    "* `Pclass`: ticket class (1 = 1st, 2 = 2nd, 3 = 3rd)\n",
    "* `Name`: name\n",
    "* `Sex`: sex\n",
    "* `Age`: age in years\n",
    "* `SibSp`: number of siblings/spouses aboard the Titanic\n",
    "* `Parch`: number of parents or children aboard the Titanic\n",
    "* `Ticket`: Ticket number\n",
    "* `Fare`: Passenger fare\n",
    "* `Cabin`: Cabin number\n",
    "* `Embarked`: Port of Embarkation (C = Cherbourg, Q = Queenstown, S = Southampton)`"
   ]
  },
  {
   "cell_type": "markdown",
   "id": "6a67a760",
   "metadata": {},
   "source": [
    "We drop some columns: `PassengerID`, `Name`, `Ticket`, `Cabin`\n",
    "* `PassengerID`, `Name`, and `Ticket` do not seem to give us any useful information.\n",
    "* The `Cabin` column is rather complex to process and has a lot of `NaN` values (687/891, or 77.1%). "
   ]
  },
  {
   "cell_type": "code",
   "execution_count": 5,
   "id": "b24c6c22",
   "metadata": {},
   "outputs": [],
   "source": [
    "dropped_cols = ['PassengerId', 'Name', 'Ticket', 'Cabin']\n",
    "df_train.drop(labels=dropped_cols, axis=1, inplace=True)\n",
    "df_test.drop(labels=dropped_cols, axis=1, inplace=True)"
   ]
  },
  {
   "cell_type": "code",
   "execution_count": 6,
   "id": "fd134512",
   "metadata": {},
   "outputs": [
    {
     "name": "stdout",
     "output_type": "stream",
     "text": [
      "     Survived  Pclass     Sex    Age  SibSp  Parch      Fare Embarked\n",
      "0           0       3    male  22.00      1      0    7.2500        S\n",
      "1           1       1  female  38.00      1      0   71.2833        C\n",
      "2           1       3  female  26.00      0      0    7.9250        S\n",
      "3           1       1  female  35.00      1      0   53.1000        S\n",
      "4           0       3    male  35.00      0      0    8.0500        S\n",
      "5           0       3    male    NaN      0      0    8.4583        Q\n",
      "6           0       1    male  54.00      0      0   51.8625        S\n",
      "7           0       3    male   2.00      3      1   21.0750        S\n",
      "8           1       3  female  27.00      0      2   11.1333        S\n",
      "9           1       2  female  14.00      1      0   30.0708        C\n",
      "10          1       3  female   4.00      1      1   16.7000        S\n",
      "11          1       1  female  58.00      0      0   26.5500        S\n",
      "12          0       3    male  20.00      0      0    8.0500        S\n",
      "13          0       3    male  39.00      1      5   31.2750        S\n",
      "14          0       3  female  14.00      0      0    7.8542        S\n",
      "15          1       2  female  55.00      0      0   16.0000        S\n",
      "16          0       3    male   2.00      4      1   29.1250        Q\n",
      "17          1       2    male    NaN      0      0   13.0000        S\n",
      "18          0       3  female  31.00      1      0   18.0000        S\n",
      "19          1       3  female    NaN      0      0    7.2250        C\n",
      "20          0       2    male  35.00      0      0   26.0000        S\n",
      "21          1       2    male  34.00      0      0   13.0000        S\n",
      "22          1       3  female  15.00      0      0    8.0292        Q\n",
      "23          1       1    male  28.00      0      0   35.5000        S\n",
      "24          0       3  female   8.00      3      1   21.0750        S\n",
      "25          1       3  female  38.00      1      5   31.3875        S\n",
      "26          0       3    male    NaN      0      0    7.2250        C\n",
      "27          0       1    male  19.00      3      2  263.0000        S\n",
      "28          1       3  female    NaN      0      0    7.8792        Q\n",
      "29          0       3    male    NaN      0      0    7.8958        S\n",
      "30          0       1    male  40.00      0      0   27.7208        C\n",
      "31          1       1  female    NaN      1      0  146.5208        C\n",
      "32          1       3  female    NaN      0      0    7.7500        Q\n",
      "33          0       2    male  66.00      0      0   10.5000        S\n",
      "34          0       1    male  28.00      1      0   82.1708        C\n",
      "35          0       1    male  42.00      1      0   52.0000        S\n",
      "36          1       3    male    NaN      0      0    7.2292        C\n",
      "37          0       3    male  21.00      0      0    8.0500        S\n",
      "38          0       3  female  18.00      2      0   18.0000        S\n",
      "39          1       3  female  14.00      1      0   11.2417        C\n",
      "40          0       3  female  40.00      1      0    9.4750        S\n",
      "41          0       2  female  27.00      1      0   21.0000        S\n",
      "42          0       3    male    NaN      0      0    7.8958        C\n",
      "43          1       2  female   3.00      1      2   41.5792        C\n",
      "44          1       3  female  19.00      0      0    7.8792        Q\n",
      "45          0       3    male    NaN      0      0    8.0500        S\n",
      "46          0       3    male    NaN      1      0   15.5000        Q\n",
      "47          1       3  female    NaN      0      0    7.7500        Q\n",
      "48          0       3    male    NaN      2      0   21.6792        C\n",
      "49          0       3  female  18.00      1      0   17.8000        S\n",
      "50          0       3    male   7.00      4      1   39.6875        S\n",
      "51          0       3    male  21.00      0      0    7.8000        S\n",
      "52          1       1  female  49.00      1      0   76.7292        C\n",
      "53          1       2  female  29.00      1      0   26.0000        S\n",
      "54          0       1    male  65.00      0      1   61.9792        C\n",
      "55          1       1    male    NaN      0      0   35.5000        S\n",
      "56          1       2  female  21.00      0      0   10.5000        S\n",
      "57          0       3    male  28.50      0      0    7.2292        C\n",
      "58          1       2  female   5.00      1      2   27.7500        S\n",
      "59          0       3    male  11.00      5      2   46.9000        S\n",
      "60          0       3    male  22.00      0      0    7.2292        C\n",
      "61          1       1  female  38.00      0      0   80.0000      NaN\n",
      "62          0       1    male  45.00      1      0   83.4750        S\n",
      "63          0       3    male   4.00      3      2   27.9000        S\n",
      "64          0       1    male    NaN      0      0   27.7208        C\n",
      "65          1       3    male    NaN      1      1   15.2458        C\n",
      "66          1       2  female  29.00      0      0   10.5000        S\n",
      "67          0       3    male  19.00      0      0    8.1583        S\n",
      "68          1       3  female  17.00      4      2    7.9250        S\n",
      "69          0       3    male  26.00      2      0    8.6625        S\n",
      "70          0       2    male  32.00      0      0   10.5000        S\n",
      "71          0       3  female  16.00      5      2   46.9000        S\n",
      "72          0       2    male  21.00      0      0   73.5000        S\n",
      "73          0       3    male  26.00      1      0   14.4542        C\n",
      "74          1       3    male  32.00      0      0   56.4958        S\n",
      "75          0       3    male  25.00      0      0    7.6500        S\n",
      "76          0       3    male    NaN      0      0    7.8958        S\n",
      "77          0       3    male    NaN      0      0    8.0500        S\n",
      "78          1       2    male   0.83      0      2   29.0000        S\n",
      "79          1       3  female  30.00      0      0   12.4750        S\n",
      "80          0       3    male  22.00      0      0    9.0000        S\n",
      "81          1       3    male  29.00      0      0    9.5000        S\n",
      "82          1       3  female    NaN      0      0    7.7875        Q\n",
      "83          0       1    male  28.00      0      0   47.1000        S\n",
      "84          1       2  female  17.00      0      0   10.5000        S\n",
      "85          1       3  female  33.00      3      0   15.8500        S\n",
      "86          0       3    male  16.00      1      3   34.3750        S\n",
      "87          0       3    male    NaN      0      0    8.0500        S\n",
      "88          1       1  female  23.00      3      2  263.0000        S\n",
      "89          0       3    male  24.00      0      0    8.0500        S\n",
      "90          0       3    male  29.00      0      0    8.0500        S\n",
      "91          0       3    male  20.00      0      0    7.8542        S\n",
      "92          0       1    male  46.00      1      0   61.1750        S\n",
      "93          0       3    male  26.00      1      2   20.5750        S\n",
      "94          0       3    male  59.00      0      0    7.2500        S\n",
      "95          0       3    male    NaN      0      0    8.0500        S\n",
      "96          0       1    male  71.00      0      0   34.6542        C\n",
      "97          1       1    male  23.00      0      1   63.3583        C\n",
      "98          1       2  female  34.00      0      1   23.0000        S\n",
      "99          0       2    male  34.00      1      0   26.0000        S\n",
      "100         0       3  female  28.00      0      0    7.8958        S\n",
      "101         0       3    male    NaN      0      0    7.8958        S\n",
      "102         0       1    male  21.00      0      1   77.2875        S\n",
      "103         0       3    male  33.00      0      0    8.6542        S\n",
      "104         0       3    male  37.00      2      0    7.9250        S\n",
      "105         0       3    male  28.00      0      0    7.8958        S\n",
      "106         1       3  female  21.00      0      0    7.6500        S\n",
      "107         1       3    male    NaN      0      0    7.7750        S\n",
      "108         0       3    male  38.00      0      0    7.8958        S\n",
      "109         1       3  female    NaN      1      0   24.1500        Q\n",
      "110         0       1    male  47.00      0      0   52.0000        S\n",
      "111         0       3  female  14.50      1      0   14.4542        C\n",
      "112         0       3    male  22.00      0      0    8.0500        S\n",
      "113         0       3  female  20.00      1      0    9.8250        S\n",
      "114         0       3  female  17.00      0      0   14.4583        C\n",
      "115         0       3    male  21.00      0      0    7.9250        S\n",
      "116         0       3    male  70.50      0      0    7.7500        Q\n",
      "117         0       2    male  29.00      1      0   21.0000        S\n",
      "118         0       1    male  24.00      0      1  247.5208        C\n",
      "119         0       3  female   2.00      4      2   31.2750        S\n",
      "120         0       2    male  21.00      2      0   73.5000        S\n",
      "121         0       3    male    NaN      0      0    8.0500        S\n",
      "122         0       2    male  32.50      1      0   30.0708        C\n",
      "123         1       2  female  32.50      0      0   13.0000        S\n",
      "124         0       1    male  54.00      0      1   77.2875        S\n",
      "125         1       3    male  12.00      1      0   11.2417        C\n",
      "126         0       3    male    NaN      0      0    7.7500        Q\n",
      "127         1       3    male  24.00      0      0    7.1417        S\n",
      "128         1       3  female    NaN      1      1   22.3583        C\n",
      "129         0       3    male  45.00      0      0    6.9750        S\n",
      "130         0       3    male  33.00      0      0    7.8958        C\n",
      "131         0       3    male  20.00      0      0    7.0500        S\n",
      "132         0       3  female  47.00      1      0   14.5000        S\n",
      "133         1       2  female  29.00      1      0   26.0000        S\n",
      "134         0       2    male  25.00      0      0   13.0000        S\n",
      "135         0       2    male  23.00      0      0   15.0458        C\n",
      "136         1       1  female  19.00      0      2   26.2833        S\n",
      "137         0       1    male  37.00      1      0   53.1000        S\n",
      "138         0       3    male  16.00      0      0    9.2167        S\n",
      "139         0       1    male  24.00      0      0   79.2000        C\n",
      "140         0       3  female    NaN      0      2   15.2458        C\n",
      "141         1       3  female  22.00      0      0    7.7500        S\n",
      "142         1       3  female  24.00      1      0   15.8500        S\n",
      "143         0       3    male  19.00      0      0    6.7500        Q\n",
      "144         0       2    male  18.00      0      0   11.5000        S\n",
      "145         0       2    male  19.00      1      1   36.7500        S\n",
      "146         1       3    male  27.00      0      0    7.7958        S\n",
      "147         0       3  female   9.00      2      2   34.3750        S\n",
      "148         0       2    male  36.50      0      2   26.0000        S\n",
      "149         0       2    male  42.00      0      0   13.0000        S\n",
      "150         0       2    male  51.00      0      0   12.5250        S\n",
      "151         1       1  female  22.00      1      0   66.6000        S\n",
      "152         0       3    male  55.50      0      0    8.0500        S\n",
      "153         0       3    male  40.50      0      2   14.5000        S\n",
      "154         0       3    male    NaN      0      0    7.3125        S\n",
      "155         0       1    male  51.00      0      1   61.3792        C\n",
      "156         1       3  female  16.00      0      0    7.7333        Q\n",
      "157         0       3    male  30.00      0      0    8.0500        S\n",
      "158         0       3    male    NaN      0      0    8.6625        S\n",
      "159         0       3    male    NaN      8      2   69.5500        S\n",
      "160         0       3    male  44.00      0      1   16.1000        S\n",
      "161         1       2  female  40.00      0      0   15.7500        S\n",
      "162         0       3    male  26.00      0      0    7.7750        S\n",
      "163         0       3    male  17.00      0      0    8.6625        S\n",
      "164         0       3    male   1.00      4      1   39.6875        S\n",
      "165         1       3    male   9.00      0      2   20.5250        S\n",
      "166         1       1  female    NaN      0      1   55.0000        S\n",
      "167         0       3  female  45.00      1      4   27.9000        S\n",
      "168         0       1    male    NaN      0      0   25.9250        S\n",
      "169         0       3    male  28.00      0      0   56.4958        S\n",
      "170         0       1    male  61.00      0      0   33.5000        S\n",
      "171         0       3    male   4.00      4      1   29.1250        Q\n",
      "172         1       3  female   1.00      1      1   11.1333        S\n",
      "173         0       3    male  21.00      0      0    7.9250        S\n",
      "174         0       1    male  56.00      0      0   30.6958        C\n",
      "175         0       3    male  18.00      1      1    7.8542        S\n",
      "176         0       3    male    NaN      3      1   25.4667        S\n",
      "177         0       1  female  50.00      0      0   28.7125        C\n",
      "178         0       2    male  30.00      0      0   13.0000        S\n",
      "179         0       3    male  36.00      0      0    0.0000        S\n",
      "180         0       3  female    NaN      8      2   69.5500        S\n",
      "181         0       2    male    NaN      0      0   15.0500        C\n",
      "182         0       3    male   9.00      4      2   31.3875        S\n",
      "183         1       2    male   1.00      2      1   39.0000        S\n",
      "184         1       3  female   4.00      0      2   22.0250        S\n",
      "185         0       1    male    NaN      0      0   50.0000        S\n",
      "186         1       3  female    NaN      1      0   15.5000        Q\n",
      "187         1       1    male  45.00      0      0   26.5500        S\n",
      "188         0       3    male  40.00      1      1   15.5000        Q\n",
      "189         0       3    male  36.00      0      0    7.8958        S\n",
      "190         1       2  female  32.00      0      0   13.0000        S\n",
      "191         0       2    male  19.00      0      0   13.0000        S\n",
      "192         1       3  female  19.00      1      0    7.8542        S\n",
      "193         1       2    male   3.00      1      1   26.0000        S\n",
      "194         1       1  female  44.00      0      0   27.7208        C\n",
      "195         1       1  female  58.00      0      0  146.5208        C\n",
      "196         0       3    male    NaN      0      0    7.7500        Q\n",
      "197         0       3    male  42.00      0      1    8.4042        S\n",
      "198         1       3  female    NaN      0      0    7.7500        Q\n",
      "199         0       2  female  24.00      0      0   13.0000        S\n",
      "200         0       3    male  28.00      0      0    9.5000        S\n",
      "201         0       3    male    NaN      8      2   69.5500        S\n",
      "202         0       3    male  34.00      0      0    6.4958        S\n",
      "203         0       3    male  45.50      0      0    7.2250        C\n",
      "204         1       3    male  18.00      0      0    8.0500        S\n",
      "205         0       3  female   2.00      0      1   10.4625        S\n",
      "206         0       3    male  32.00      1      0   15.8500        S\n",
      "207         1       3    male  26.00      0      0   18.7875        C\n",
      "208         1       3  female  16.00      0      0    7.7500        Q\n",
      "209         1       1    male  40.00      0      0   31.0000        C\n",
      "210         0       3    male  24.00      0      0    7.0500        S\n",
      "211         1       2  female  35.00      0      0   21.0000        S\n",
      "212         0       3    male  22.00      0      0    7.2500        S\n",
      "213         0       2    male  30.00      0      0   13.0000        S\n",
      "214         0       3    male    NaN      1      0    7.7500        Q\n",
      "215         1       1  female  31.00      1      0  113.2750        C\n",
      "216         1       3  female  27.00      0      0    7.9250        S\n",
      "217         0       2    male  42.00      1      0   27.0000        S\n",
      "218         1       1  female  32.00      0      0   76.2917        C\n",
      "219         0       2    male  30.00      0      0   10.5000        S\n",
      "220         1       3    male  16.00      0      0    8.0500        S\n",
      "221         0       2    male  27.00      0      0   13.0000        S\n",
      "222         0       3    male  51.00      0      0    8.0500        S\n",
      "223         0       3    male    NaN      0      0    7.8958        S\n",
      "224         1       1    male  38.00      1      0   90.0000        S\n",
      "225         0       3    male  22.00      0      0    9.3500        S\n",
      "226         1       2    male  19.00      0      0   10.5000        S\n",
      "227         0       3    male  20.50      0      0    7.2500        S\n",
      "228         0       2    male  18.00      0      0   13.0000        S\n",
      "229         0       3  female    NaN      3      1   25.4667        S\n",
      "230         1       1  female  35.00      1      0   83.4750        S\n",
      "231         0       3    male  29.00      0      0    7.7750        S\n",
      "232         0       2    male  59.00      0      0   13.5000        S\n",
      "233         1       3  female   5.00      4      2   31.3875        S\n",
      "234         0       2    male  24.00      0      0   10.5000        S\n",
      "235         0       3  female    NaN      0      0    7.5500        S\n",
      "236         0       2    male  44.00      1      0   26.0000        S\n",
      "237         1       2  female   8.00      0      2   26.2500        S\n",
      "238         0       2    male  19.00      0      0   10.5000        S\n",
      "239         0       2    male  33.00      0      0   12.2750        S\n",
      "240         0       3  female    NaN      1      0   14.4542        C\n",
      "241         1       3  female    NaN      1      0   15.5000        Q\n",
      "242         0       2    male  29.00      0      0   10.5000        S\n",
      "243         0       3    male  22.00      0      0    7.1250        S\n",
      "244         0       3    male  30.00      0      0    7.2250        C\n",
      "245         0       1    male  44.00      2      0   90.0000        Q\n",
      "246         0       3  female  25.00      0      0    7.7750        S\n",
      "247         1       2  female  24.00      0      2   14.5000        S\n",
      "248         1       1    male  37.00      1      1   52.5542        S\n",
      "249         0       2    male  54.00      1      0   26.0000        S\n",
      "250         0       3    male    NaN      0      0    7.2500        S\n",
      "251         0       3  female  29.00      1      1   10.4625        S\n",
      "252         0       1    male  62.00      0      0   26.5500        S\n",
      "253         0       3    male  30.00      1      0   16.1000        S\n",
      "254         0       3  female  41.00      0      2   20.2125        S\n",
      "255         1       3  female  29.00      0      2   15.2458        C\n",
      "256         1       1  female    NaN      0      0   79.2000        C\n",
      "257         1       1  female  30.00      0      0   86.5000        S\n",
      "258         1       1  female  35.00      0      0  512.3292        C\n",
      "259         1       2  female  50.00      0      1   26.0000        S\n",
      "260         0       3    male    NaN      0      0    7.7500        Q\n",
      "261         1       3    male   3.00      4      2   31.3875        S\n",
      "262         0       1    male  52.00      1      1   79.6500        S\n",
      "263         0       1    male  40.00      0      0    0.0000        S\n",
      "264         0       3  female    NaN      0      0    7.7500        Q\n",
      "265         0       2    male  36.00      0      0   10.5000        S\n",
      "266         0       3    male  16.00      4      1   39.6875        S\n",
      "267         1       3    male  25.00      1      0    7.7750        S\n",
      "268         1       1  female  58.00      0      1  153.4625        S\n",
      "269         1       1  female  35.00      0      0  135.6333        S\n",
      "270         0       1    male    NaN      0      0   31.0000        S\n",
      "271         1       3    male  25.00      0      0    0.0000        S\n",
      "272         1       2  female  41.00      0      1   19.5000        S\n",
      "273         0       1    male  37.00      0      1   29.7000        C\n",
      "274         1       3  female    NaN      0      0    7.7500        Q\n",
      "275         1       1  female  63.00      1      0   77.9583        S\n",
      "276         0       3  female  45.00      0      0    7.7500        S\n",
      "277         0       2    male    NaN      0      0    0.0000        S\n",
      "278         0       3    male   7.00      4      1   29.1250        Q\n",
      "279         1       3  female  35.00      1      1   20.2500        S\n",
      "280         0       3    male  65.00      0      0    7.7500        Q\n",
      "281         0       3    male  28.00      0      0    7.8542        S\n",
      "282         0       3    male  16.00      0      0    9.5000        S\n",
      "283         1       3    male  19.00      0      0    8.0500        S\n",
      "284         0       1    male    NaN      0      0   26.0000        S\n",
      "285         0       3    male  33.00      0      0    8.6625        C\n",
      "286         1       3    male  30.00      0      0    9.5000        S\n",
      "287         0       3    male  22.00      0      0    7.8958        S\n",
      "288         1       2    male  42.00      0      0   13.0000        S\n",
      "289         1       3  female  22.00      0      0    7.7500        Q\n",
      "290         1       1  female  26.00      0      0   78.8500        S\n",
      "291         1       1  female  19.00      1      0   91.0792        C\n",
      "292         0       2    male  36.00      0      0   12.8750        C\n",
      "293         0       3  female  24.00      0      0    8.8500        S\n",
      "294         0       3    male  24.00      0      0    7.8958        S\n",
      "295         0       1    male    NaN      0      0   27.7208        C\n",
      "296         0       3    male  23.50      0      0    7.2292        C\n",
      "297         0       1  female   2.00      1      2  151.5500        S\n",
      "298         1       1    male    NaN      0      0   30.5000        S\n",
      "299         1       1  female  50.00      0      1  247.5208        C\n",
      "300         1       3  female    NaN      0      0    7.7500        Q\n",
      "301         1       3    male    NaN      2      0   23.2500        Q\n",
      "302         0       3    male  19.00      0      0    0.0000        S\n",
      "303         1       2  female    NaN      0      0   12.3500        Q\n",
      "304         0       3    male    NaN      0      0    8.0500        S\n",
      "305         1       1    male   0.92      1      2  151.5500        S\n",
      "306         1       1  female    NaN      0      0  110.8833        C\n",
      "307         1       1  female  17.00      1      0  108.9000        C\n",
      "308         0       2    male  30.00      1      0   24.0000        C\n",
      "309         1       1  female  30.00      0      0   56.9292        C\n",
      "310         1       1  female  24.00      0      0   83.1583        C\n",
      "311         1       1  female  18.00      2      2  262.3750        C\n",
      "312         0       2  female  26.00      1      1   26.0000        S\n",
      "313         0       3    male  28.00      0      0    7.8958        S\n",
      "314         0       2    male  43.00      1      1   26.2500        S\n",
      "315         1       3  female  26.00      0      0    7.8542        S\n",
      "316         1       2  female  24.00      1      0   26.0000        S\n",
      "317         0       2    male  54.00      0      0   14.0000        S\n",
      "318         1       1  female  31.00      0      2  164.8667        S\n",
      "319         1       1  female  40.00      1      1  134.5000        C\n",
      "320         0       3    male  22.00      0      0    7.2500        S\n",
      "321         0       3    male  27.00      0      0    7.8958        S\n",
      "322         1       2  female  30.00      0      0   12.3500        Q\n",
      "323         1       2  female  22.00      1      1   29.0000        S\n",
      "324         0       3    male    NaN      8      2   69.5500        S\n",
      "325         1       1  female  36.00      0      0  135.6333        C\n",
      "326         0       3    male  61.00      0      0    6.2375        S\n",
      "327         1       2  female  36.00      0      0   13.0000        S\n",
      "328         1       3  female  31.00      1      1   20.5250        S\n",
      "329         1       1  female  16.00      0      1   57.9792        C\n",
      "330         1       3  female    NaN      2      0   23.2500        Q\n",
      "331         0       1    male  45.50      0      0   28.5000        S\n",
      "332         0       1    male  38.00      0      1  153.4625        S\n",
      "333         0       3    male  16.00      2      0   18.0000        S\n",
      "334         1       1  female    NaN      1      0  133.6500        S\n",
      "335         0       3    male    NaN      0      0    7.8958        S\n",
      "336         0       1    male  29.00      1      0   66.6000        S\n",
      "337         1       1  female  41.00      0      0  134.5000        C\n",
      "338         1       3    male  45.00      0      0    8.0500        S\n",
      "339         0       1    male  45.00      0      0   35.5000        S\n",
      "340         1       2    male   2.00      1      1   26.0000        S\n",
      "341         1       1  female  24.00      3      2  263.0000        S\n",
      "342         0       2    male  28.00      0      0   13.0000        S\n",
      "343         0       2    male  25.00      0      0   13.0000        S\n",
      "344         0       2    male  36.00      0      0   13.0000        S\n",
      "345         1       2  female  24.00      0      0   13.0000        S\n",
      "346         1       2  female  40.00      0      0   13.0000        S\n",
      "347         1       3  female    NaN      1      0   16.1000        S\n",
      "348         1       3    male   3.00      1      1   15.9000        S\n",
      "349         0       3    male  42.00      0      0    8.6625        S\n",
      "350         0       3    male  23.00      0      0    9.2250        S\n",
      "351         0       1    male    NaN      0      0   35.0000        S\n",
      "352         0       3    male  15.00      1      1    7.2292        C\n",
      "353         0       3    male  25.00      1      0   17.8000        S\n",
      "354         0       3    male    NaN      0      0    7.2250        C\n",
      "355         0       3    male  28.00      0      0    9.5000        S\n",
      "356         1       1  female  22.00      0      1   55.0000        S\n",
      "357         0       2  female  38.00      0      0   13.0000        S\n",
      "358         1       3  female    NaN      0      0    7.8792        Q\n",
      "359         1       3  female    NaN      0      0    7.8792        Q\n",
      "360         0       3    male  40.00      1      4   27.9000        S\n",
      "361         0       2    male  29.00      1      0   27.7208        C\n",
      "362         0       3  female  45.00      0      1   14.4542        C\n",
      "363         0       3    male  35.00      0      0    7.0500        S\n",
      "364         0       3    male    NaN      1      0   15.5000        Q\n",
      "365         0       3    male  30.00      0      0    7.2500        S\n",
      "366         1       1  female  60.00      1      0   75.2500        C\n",
      "367         1       3  female    NaN      0      0    7.2292        C\n",
      "368         1       3  female    NaN      0      0    7.7500        Q\n",
      "369         1       1  female  24.00      0      0   69.3000        C\n",
      "370         1       1    male  25.00      1      0   55.4417        C\n",
      "371         0       3    male  18.00      1      0    6.4958        S\n",
      "372         0       3    male  19.00      0      0    8.0500        S\n",
      "373         0       1    male  22.00      0      0  135.6333        C\n",
      "374         0       3  female   3.00      3      1   21.0750        S\n",
      "375         1       1  female    NaN      1      0   82.1708        C\n",
      "376         1       3  female  22.00      0      0    7.2500        S\n",
      "377         0       1    male  27.00      0      2  211.5000        C\n",
      "378         0       3    male  20.00      0      0    4.0125        C\n",
      "379         0       3    male  19.00      0      0    7.7750        S\n",
      "380         1       1  female  42.00      0      0  227.5250        C\n",
      "381         1       3  female   1.00      0      2   15.7417        C\n",
      "382         0       3    male  32.00      0      0    7.9250        S\n",
      "383         1       1  female  35.00      1      0   52.0000        S\n",
      "384         0       3    male    NaN      0      0    7.8958        S\n",
      "385         0       2    male  18.00      0      0   73.5000        S\n",
      "386         0       3    male   1.00      5      2   46.9000        S\n",
      "387         1       2  female  36.00      0      0   13.0000        S\n",
      "388         0       3    male    NaN      0      0    7.7292        Q\n",
      "389         1       2  female  17.00      0      0   12.0000        C\n",
      "390         1       1    male  36.00      1      2  120.0000        S\n",
      "391         1       3    male  21.00      0      0    7.7958        S\n",
      "392         0       3    male  28.00      2      0    7.9250        S\n",
      "393         1       1  female  23.00      1      0  113.2750        C\n",
      "394         1       3  female  24.00      0      2   16.7000        S\n",
      "395         0       3    male  22.00      0      0    7.7958        S\n",
      "396         0       3  female  31.00      0      0    7.8542        S\n",
      "397         0       2    male  46.00      0      0   26.0000        S\n",
      "398         0       2    male  23.00      0      0   10.5000        S\n",
      "399         1       2  female  28.00      0      0   12.6500        S\n",
      "400         1       3    male  39.00      0      0    7.9250        S\n",
      "401         0       3    male  26.00      0      0    8.0500        S\n",
      "402         0       3  female  21.00      1      0    9.8250        S\n",
      "403         0       3    male  28.00      1      0   15.8500        S\n",
      "404         0       3  female  20.00      0      0    8.6625        S\n",
      "405         0       2    male  34.00      1      0   21.0000        S\n",
      "406         0       3    male  51.00      0      0    7.7500        S\n",
      "407         1       2    male   3.00      1      1   18.7500        S\n",
      "408         0       3    male  21.00      0      0    7.7750        S\n",
      "409         0       3  female    NaN      3      1   25.4667        S\n",
      "410         0       3    male    NaN      0      0    7.8958        S\n",
      "411         0       3    male    NaN      0      0    6.8583        Q\n",
      "412         1       1  female  33.00      1      0   90.0000        Q\n",
      "413         0       2    male    NaN      0      0    0.0000        S\n",
      "414         1       3    male  44.00      0      0    7.9250        S\n",
      "415         0       3  female    NaN      0      0    8.0500        S\n",
      "416         1       2  female  34.00      1      1   32.5000        S\n",
      "417         1       2  female  18.00      0      2   13.0000        S\n",
      "418         0       2    male  30.00      0      0   13.0000        S\n",
      "419         0       3  female  10.00      0      2   24.1500        S\n",
      "420         0       3    male    NaN      0      0    7.8958        C\n",
      "421         0       3    male  21.00      0      0    7.7333        Q\n",
      "422         0       3    male  29.00      0      0    7.8750        S\n",
      "423         0       3  female  28.00      1      1   14.4000        S\n",
      "424         0       3    male  18.00      1      1   20.2125        S\n",
      "425         0       3    male    NaN      0      0    7.2500        S\n",
      "426         1       2  female  28.00      1      0   26.0000        S\n",
      "427         1       2  female  19.00      0      0   26.0000        S\n",
      "428         0       3    male    NaN      0      0    7.7500        Q\n",
      "429         1       3    male  32.00      0      0    8.0500        S\n",
      "430         1       1    male  28.00      0      0   26.5500        S\n",
      "431         1       3  female    NaN      1      0   16.1000        S\n",
      "432         1       2  female  42.00      1      0   26.0000        S\n",
      "433         0       3    male  17.00      0      0    7.1250        S\n",
      "434         0       1    male  50.00      1      0   55.9000        S\n",
      "435         1       1  female  14.00      1      2  120.0000        S\n",
      "436         0       3  female  21.00      2      2   34.3750        S\n",
      "437         1       2  female  24.00      2      3   18.7500        S\n",
      "438         0       1    male  64.00      1      4  263.0000        S\n",
      "439         0       2    male  31.00      0      0   10.5000        S\n",
      "440         1       2  female  45.00      1      1   26.2500        S\n",
      "441         0       3    male  20.00      0      0    9.5000        S\n",
      "442         0       3    male  25.00      1      0    7.7750        S\n",
      "443         1       2  female  28.00      0      0   13.0000        S\n",
      "444         1       3    male    NaN      0      0    8.1125        S\n",
      "445         1       1    male   4.00      0      2   81.8583        S\n",
      "446         1       2  female  13.00      0      1   19.5000        S\n",
      "447         1       1    male  34.00      0      0   26.5500        S\n",
      "448         1       3  female   5.00      2      1   19.2583        C\n",
      "449         1       1    male  52.00      0      0   30.5000        S\n",
      "450         0       2    male  36.00      1      2   27.7500        S\n",
      "451         0       3    male    NaN      1      0   19.9667        S\n",
      "452         0       1    male  30.00      0      0   27.7500        C\n",
      "453         1       1    male  49.00      1      0   89.1042        C\n",
      "454         0       3    male    NaN      0      0    8.0500        S\n",
      "455         1       3    male  29.00      0      0    7.8958        C\n",
      "456         0       1    male  65.00      0      0   26.5500        S\n",
      "457         1       1  female    NaN      1      0   51.8625        S\n",
      "458         1       2  female  50.00      0      0   10.5000        S\n",
      "459         0       3    male    NaN      0      0    7.7500        Q\n",
      "460         1       1    male  48.00      0      0   26.5500        S\n",
      "461         0       3    male  34.00      0      0    8.0500        S\n",
      "462         0       1    male  47.00      0      0   38.5000        S\n",
      "463         0       2    male  48.00      0      0   13.0000        S\n",
      "464         0       3    male    NaN      0      0    8.0500        S\n",
      "465         0       3    male  38.00      0      0    7.0500        S\n",
      "466         0       2    male    NaN      0      0    0.0000        S\n",
      "467         0       1    male  56.00      0      0   26.5500        S\n",
      "468         0       3    male    NaN      0      0    7.7250        Q\n",
      "469         1       3  female   0.75      2      1   19.2583        C\n",
      "470         0       3    male    NaN      0      0    7.2500        S\n",
      "471         0       3    male  38.00      0      0    8.6625        S\n",
      "472         1       2  female  33.00      1      2   27.7500        S\n",
      "473         1       2  female  23.00      0      0   13.7917        C\n",
      "474         0       3  female  22.00      0      0    9.8375        S\n",
      "475         0       1    male    NaN      0      0   52.0000        S\n",
      "476         0       2    male  34.00      1      0   21.0000        S\n",
      "477         0       3    male  29.00      1      0    7.0458        S\n",
      "478         0       3    male  22.00      0      0    7.5208        S\n",
      "479         1       3  female   2.00      0      1   12.2875        S\n",
      "480         0       3    male   9.00      5      2   46.9000        S\n",
      "481         0       2    male    NaN      0      0    0.0000        S\n",
      "482         0       3    male  50.00      0      0    8.0500        S\n",
      "483         1       3  female  63.00      0      0    9.5875        S\n",
      "484         1       1    male  25.00      1      0   91.0792        C\n",
      "485         0       3  female    NaN      3      1   25.4667        S\n",
      "486         1       1  female  35.00      1      0   90.0000        S\n",
      "487         0       1    male  58.00      0      0   29.7000        C\n",
      "488         0       3    male  30.00      0      0    8.0500        S\n",
      "489         1       3    male   9.00      1      1   15.9000        S\n",
      "490         0       3    male    NaN      1      0   19.9667        S\n",
      "491         0       3    male  21.00      0      0    7.2500        S\n",
      "492         0       1    male  55.00      0      0   30.5000        S\n",
      "493         0       1    male  71.00      0      0   49.5042        C\n",
      "494         0       3    male  21.00      0      0    8.0500        S\n",
      "495         0       3    male    NaN      0      0   14.4583        C\n",
      "496         1       1  female  54.00      1      0   78.2667        C\n",
      "497         0       3    male    NaN      0      0   15.1000        S\n",
      "498         0       1  female  25.00      1      2  151.5500        S\n",
      "499         0       3    male  24.00      0      0    7.7958        S\n",
      "500         0       3    male  17.00      0      0    8.6625        S\n",
      "501         0       3  female  21.00      0      0    7.7500        Q\n",
      "502         0       3  female    NaN      0      0    7.6292        Q\n",
      "503         0       3  female  37.00      0      0    9.5875        S\n",
      "504         1       1  female  16.00      0      0   86.5000        S\n",
      "505         0       1    male  18.00      1      0  108.9000        C\n",
      "506         1       2  female  33.00      0      2   26.0000        S\n",
      "507         1       1    male    NaN      0      0   26.5500        S\n",
      "508         0       3    male  28.00      0      0   22.5250        S\n",
      "509         1       3    male  26.00      0      0   56.4958        S\n",
      "510         1       3    male  29.00      0      0    7.7500        Q\n",
      "511         0       3    male    NaN      0      0    8.0500        S\n",
      "512         1       1    male  36.00      0      0   26.2875        S\n",
      "513         1       1  female  54.00      1      0   59.4000        C\n",
      "514         0       3    male  24.00      0      0    7.4958        S\n",
      "515         0       1    male  47.00      0      0   34.0208        S\n",
      "516         1       2  female  34.00      0      0   10.5000        S\n",
      "517         0       3    male    NaN      0      0   24.1500        Q\n",
      "518         1       2  female  36.00      1      0   26.0000        S\n",
      "519         0       3    male  32.00      0      0    7.8958        S\n",
      "520         1       1  female  30.00      0      0   93.5000        S\n",
      "521         0       3    male  22.00      0      0    7.8958        S\n",
      "522         0       3    male    NaN      0      0    7.2250        C\n",
      "523         1       1  female  44.00      0      1   57.9792        C\n",
      "524         0       3    male    NaN      0      0    7.2292        C\n",
      "525         0       3    male  40.50      0      0    7.7500        Q\n",
      "526         1       2  female  50.00      0      0   10.5000        S\n",
      "527         0       1    male    NaN      0      0  221.7792        S\n",
      "528         0       3    male  39.00      0      0    7.9250        S\n",
      "529         0       2    male  23.00      2      1   11.5000        S\n",
      "530         1       2  female   2.00      1      1   26.0000        S\n",
      "531         0       3    male    NaN      0      0    7.2292        C\n",
      "532         0       3    male  17.00      1      1    7.2292        C\n",
      "533         1       3  female    NaN      0      2   22.3583        C\n",
      "534         0       3  female  30.00      0      0    8.6625        S\n",
      "535         1       2  female   7.00      0      2   26.2500        S\n",
      "536         0       1    male  45.00      0      0   26.5500        S\n",
      "537         1       1  female  30.00      0      0  106.4250        C\n",
      "538         0       3    male    NaN      0      0   14.5000        S\n",
      "539         1       1  female  22.00      0      2   49.5000        C\n",
      "540         1       1  female  36.00      0      2   71.0000        S\n",
      "541         0       3  female   9.00      4      2   31.2750        S\n",
      "542         0       3  female  11.00      4      2   31.2750        S\n",
      "543         1       2    male  32.00      1      0   26.0000        S\n",
      "544         0       1    male  50.00      1      0  106.4250        C\n",
      "545         0       1    male  64.00      0      0   26.0000        S\n",
      "546         1       2  female  19.00      1      0   26.0000        S\n",
      "547         1       2    male    NaN      0      0   13.8625        C\n",
      "548         0       3    male  33.00      1      1   20.5250        S\n",
      "549         1       2    male   8.00      1      1   36.7500        S\n",
      "550         1       1    male  17.00      0      2  110.8833        C\n",
      "551         0       2    male  27.00      0      0   26.0000        S\n",
      "552         0       3    male    NaN      0      0    7.8292        Q\n",
      "553         1       3    male  22.00      0      0    7.2250        C\n",
      "554         1       3  female  22.00      0      0    7.7750        S\n",
      "555         0       1    male  62.00      0      0   26.5500        S\n",
      "556         1       1  female  48.00      1      0   39.6000        C\n",
      "557         0       1    male    NaN      0      0  227.5250        C\n",
      "558         1       1  female  39.00      1      1   79.6500        S\n",
      "559         1       3  female  36.00      1      0   17.4000        S\n",
      "560         0       3    male    NaN      0      0    7.7500        Q\n",
      "561         0       3    male  40.00      0      0    7.8958        S\n",
      "562         0       2    male  28.00      0      0   13.5000        S\n",
      "563         0       3    male    NaN      0      0    8.0500        S\n",
      "564         0       3  female    NaN      0      0    8.0500        S\n",
      "565         0       3    male  24.00      2      0   24.1500        S\n",
      "566         0       3    male  19.00      0      0    7.8958        S\n",
      "567         0       3  female  29.00      0      4   21.0750        S\n",
      "568         0       3    male    NaN      0      0    7.2292        C\n",
      "569         1       3    male  32.00      0      0    7.8542        S\n",
      "570         1       2    male  62.00      0      0   10.5000        S\n",
      "571         1       1  female  53.00      2      0   51.4792        S\n",
      "572         1       1    male  36.00      0      0   26.3875        S\n",
      "573         1       3  female    NaN      0      0    7.7500        Q\n",
      "574         0       3    male  16.00      0      0    8.0500        S\n",
      "575         0       3    male  19.00      0      0   14.5000        S\n",
      "576         1       2  female  34.00      0      0   13.0000        S\n",
      "577         1       1  female  39.00      1      0   55.9000        S\n",
      "578         0       3  female    NaN      1      0   14.4583        C\n",
      "579         1       3    male  32.00      0      0    7.9250        S\n",
      "580         1       2  female  25.00      1      1   30.0000        S\n",
      "581         1       1  female  39.00      1      1  110.8833        C\n",
      "582         0       2    male  54.00      0      0   26.0000        S\n",
      "583         0       1    male  36.00      0      0   40.1250        C\n",
      "584         0       3    male    NaN      0      0    8.7125        C\n",
      "585         1       1  female  18.00      0      2   79.6500        S\n",
      "586         0       2    male  47.00      0      0   15.0000        S\n",
      "587         1       1    male  60.00      1      1   79.2000        C\n",
      "588         0       3    male  22.00      0      0    8.0500        S\n",
      "589         0       3    male    NaN      0      0    8.0500        S\n",
      "590         0       3    male  35.00      0      0    7.1250        S\n",
      "591         1       1  female  52.00      1      0   78.2667        C\n",
      "592         0       3    male  47.00      0      0    7.2500        S\n",
      "593         0       3  female    NaN      0      2    7.7500        Q\n",
      "594         0       2    male  37.00      1      0   26.0000        S\n",
      "595         0       3    male  36.00      1      1   24.1500        S\n",
      "596         1       2  female    NaN      0      0   33.0000        S\n",
      "597         0       3    male  49.00      0      0    0.0000        S\n",
      "598         0       3    male    NaN      0      0    7.2250        C\n",
      "599         1       1    male  49.00      1      0   56.9292        C\n",
      "600         1       2  female  24.00      2      1   27.0000        S\n",
      "601         0       3    male    NaN      0      0    7.8958        S\n",
      "602         0       1    male    NaN      0      0   42.4000        S\n",
      "603         0       3    male  44.00      0      0    8.0500        S\n",
      "604         1       1    male  35.00      0      0   26.5500        C\n",
      "605         0       3    male  36.00      1      0   15.5500        S\n",
      "606         0       3    male  30.00      0      0    7.8958        S\n",
      "607         1       1    male  27.00      0      0   30.5000        S\n",
      "608         1       2  female  22.00      1      2   41.5792        C\n",
      "609         1       1  female  40.00      0      0  153.4625        S\n",
      "610         0       3  female  39.00      1      5   31.2750        S\n",
      "611         0       3    male    NaN      0      0    7.0500        S\n",
      "612         1       3  female    NaN      1      0   15.5000        Q\n",
      "613         0       3    male    NaN      0      0    7.7500        Q\n",
      "614         0       3    male  35.00      0      0    8.0500        S\n",
      "615         1       2  female  24.00      1      2   65.0000        S\n",
      "616         0       3    male  34.00      1      1   14.4000        S\n",
      "617         0       3  female  26.00      1      0   16.1000        S\n",
      "618         1       2  female   4.00      2      1   39.0000        S\n",
      "619         0       2    male  26.00      0      0   10.5000        S\n",
      "620         0       3    male  27.00      1      0   14.4542        C\n",
      "621         1       1    male  42.00      1      0   52.5542        S\n",
      "622         1       3    male  20.00      1      1   15.7417        C\n",
      "623         0       3    male  21.00      0      0    7.8542        S\n",
      "624         0       3    male  21.00      0      0   16.1000        S\n",
      "625         0       1    male  61.00      0      0   32.3208        S\n",
      "626         0       2    male  57.00      0      0   12.3500        Q\n",
      "627         1       1  female  21.00      0      0   77.9583        S\n",
      "628         0       3    male  26.00      0      0    7.8958        S\n",
      "629         0       3    male    NaN      0      0    7.7333        Q\n",
      "630         1       1    male  80.00      0      0   30.0000        S\n",
      "631         0       3    male  51.00      0      0    7.0542        S\n",
      "632         1       1    male  32.00      0      0   30.5000        C\n",
      "633         0       1    male    NaN      0      0    0.0000        S\n",
      "634         0       3  female   9.00      3      2   27.9000        S\n",
      "635         1       2  female  28.00      0      0   13.0000        S\n",
      "636         0       3    male  32.00      0      0    7.9250        S\n",
      "637         0       2    male  31.00      1      1   26.2500        S\n",
      "638         0       3  female  41.00      0      5   39.6875        S\n",
      "639         0       3    male    NaN      1      0   16.1000        S\n",
      "640         0       3    male  20.00      0      0    7.8542        S\n",
      "641         1       1  female  24.00      0      0   69.3000        C\n",
      "642         0       3  female   2.00      3      2   27.9000        S\n",
      "643         1       3    male    NaN      0      0   56.4958        S\n",
      "644         1       3  female   0.75      2      1   19.2583        C\n",
      "645         1       1    male  48.00      1      0   76.7292        C\n",
      "646         0       3    male  19.00      0      0    7.8958        S\n",
      "647         1       1    male  56.00      0      0   35.5000        C\n",
      "648         0       3    male    NaN      0      0    7.5500        S\n",
      "649         1       3  female  23.00      0      0    7.5500        S\n",
      "650         0       3    male    NaN      0      0    7.8958        S\n",
      "651         1       2  female  18.00      0      1   23.0000        S\n",
      "652         0       3    male  21.00      0      0    8.4333        S\n",
      "653         1       3  female    NaN      0      0    7.8292        Q\n",
      "654         0       3  female  18.00      0      0    6.7500        Q\n",
      "655         0       2    male  24.00      2      0   73.5000        S\n",
      "656         0       3    male    NaN      0      0    7.8958        S\n",
      "657         0       3  female  32.00      1      1   15.5000        Q\n",
      "658         0       2    male  23.00      0      0   13.0000        S\n",
      "659         0       1    male  58.00      0      2  113.2750        C\n",
      "660         1       1    male  50.00      2      0  133.6500        S\n",
      "661         0       3    male  40.00      0      0    7.2250        C\n",
      "662         0       1    male  47.00      0      0   25.5875        S\n",
      "663         0       3    male  36.00      0      0    7.4958        S\n",
      "664         1       3    male  20.00      1      0    7.9250        S\n",
      "665         0       2    male  32.00      2      0   73.5000        S\n",
      "666         0       2    male  25.00      0      0   13.0000        S\n",
      "667         0       3    male    NaN      0      0    7.7750        S\n",
      "668         0       3    male  43.00      0      0    8.0500        S\n",
      "669         1       1  female    NaN      1      0   52.0000        S\n",
      "670         1       2  female  40.00      1      1   39.0000        S\n",
      "671         0       1    male  31.00      1      0   52.0000        S\n",
      "672         0       2    male  70.00      0      0   10.5000        S\n",
      "673         1       2    male  31.00      0      0   13.0000        S\n",
      "674         0       2    male    NaN      0      0    0.0000        S\n",
      "675         0       3    male  18.00      0      0    7.7750        S\n",
      "676         0       3    male  24.50      0      0    8.0500        S\n",
      "677         1       3  female  18.00      0      0    9.8417        S\n",
      "678         0       3  female  43.00      1      6   46.9000        S\n",
      "679         1       1    male  36.00      0      1  512.3292        C\n",
      "680         0       3  female    NaN      0      0    8.1375        Q\n",
      "681         1       1    male  27.00      0      0   76.7292        C\n",
      "682         0       3    male  20.00      0      0    9.2250        S\n",
      "683         0       3    male  14.00      5      2   46.9000        S\n",
      "684         0       2    male  60.00      1      1   39.0000        S\n",
      "685         0       2    male  25.00      1      2   41.5792        C\n",
      "686         0       3    male  14.00      4      1   39.6875        S\n",
      "687         0       3    male  19.00      0      0   10.1708        S\n",
      "688         0       3    male  18.00      0      0    7.7958        S\n",
      "689         1       1  female  15.00      0      1  211.3375        S\n",
      "690         1       1    male  31.00      1      0   57.0000        S\n",
      "691         1       3  female   4.00      0      1   13.4167        C\n",
      "692         1       3    male    NaN      0      0   56.4958        S\n",
      "693         0       3    male  25.00      0      0    7.2250        C\n",
      "694         0       1    male  60.00      0      0   26.5500        S\n",
      "695         0       2    male  52.00      0      0   13.5000        S\n",
      "696         0       3    male  44.00      0      0    8.0500        S\n",
      "697         1       3  female    NaN      0      0    7.7333        Q\n",
      "698         0       1    male  49.00      1      1  110.8833        C\n",
      "699         0       3    male  42.00      0      0    7.6500        S\n",
      "700         1       1  female  18.00      1      0  227.5250        C\n",
      "701         1       1    male  35.00      0      0   26.2875        S\n",
      "702         0       3  female  18.00      0      1   14.4542        C\n",
      "703         0       3    male  25.00      0      0    7.7417        Q\n",
      "704         0       3    male  26.00      1      0    7.8542        S\n",
      "705         0       2    male  39.00      0      0   26.0000        S\n",
      "706         1       2  female  45.00      0      0   13.5000        S\n",
      "707         1       1    male  42.00      0      0   26.2875        S\n",
      "708         1       1  female  22.00      0      0  151.5500        S\n",
      "709         1       3    male    NaN      1      1   15.2458        C\n",
      "710         1       1  female  24.00      0      0   49.5042        C\n",
      "711         0       1    male    NaN      0      0   26.5500        S\n",
      "712         1       1    male  48.00      1      0   52.0000        S\n",
      "713         0       3    male  29.00      0      0    9.4833        S\n",
      "714         0       2    male  52.00      0      0   13.0000        S\n",
      "715         0       3    male  19.00      0      0    7.6500        S\n",
      "716         1       1  female  38.00      0      0  227.5250        C\n",
      "717         1       2  female  27.00      0      0   10.5000        S\n",
      "718         0       3    male    NaN      0      0   15.5000        Q\n",
      "719         0       3    male  33.00      0      0    7.7750        S\n",
      "720         1       2  female   6.00      0      1   33.0000        S\n",
      "721         0       3    male  17.00      1      0    7.0542        S\n",
      "722         0       2    male  34.00      0      0   13.0000        S\n",
      "723         0       2    male  50.00      0      0   13.0000        S\n",
      "724         1       1    male  27.00      1      0   53.1000        S\n",
      "725         0       3    male  20.00      0      0    8.6625        S\n",
      "726         1       2  female  30.00      3      0   21.0000        S\n",
      "727         1       3  female    NaN      0      0    7.7375        Q\n",
      "728         0       2    male  25.00      1      0   26.0000        S\n",
      "729         0       3  female  25.00      1      0    7.9250        S\n",
      "730         1       1  female  29.00      0      0  211.3375        S\n",
      "731         0       3    male  11.00      0      0   18.7875        C\n",
      "732         0       2    male    NaN      0      0    0.0000        S\n",
      "733         0       2    male  23.00      0      0   13.0000        S\n",
      "734         0       2    male  23.00      0      0   13.0000        S\n",
      "735         0       3    male  28.50      0      0   16.1000        S\n",
      "736         0       3  female  48.00      1      3   34.3750        S\n",
      "737         1       1    male  35.00      0      0  512.3292        C\n",
      "738         0       3    male    NaN      0      0    7.8958        S\n",
      "739         0       3    male    NaN      0      0    7.8958        S\n",
      "740         1       1    male    NaN      0      0   30.0000        S\n",
      "741         0       1    male  36.00      1      0   78.8500        S\n",
      "742         1       1  female  21.00      2      2  262.3750        C\n",
      "743         0       3    male  24.00      1      0   16.1000        S\n",
      "744         1       3    male  31.00      0      0    7.9250        S\n",
      "745         0       1    male  70.00      1      1   71.0000        S\n",
      "746         0       3    male  16.00      1      1   20.2500        S\n",
      "747         1       2  female  30.00      0      0   13.0000        S\n",
      "748         0       1    male  19.00      1      0   53.1000        S\n",
      "749         0       3    male  31.00      0      0    7.7500        Q\n",
      "750         1       2  female   4.00      1      1   23.0000        S\n",
      "751         1       3    male   6.00      0      1   12.4750        S\n",
      "752         0       3    male  33.00      0      0    9.5000        S\n",
      "753         0       3    male  23.00      0      0    7.8958        S\n",
      "754         1       2  female  48.00      1      2   65.0000        S\n",
      "755         1       2    male   0.67      1      1   14.5000        S\n",
      "756         0       3    male  28.00      0      0    7.7958        S\n",
      "757         0       2    male  18.00      0      0   11.5000        S\n",
      "758         0       3    male  34.00      0      0    8.0500        S\n",
      "759         1       1  female  33.00      0      0   86.5000        S\n",
      "760         0       3    male    NaN      0      0   14.5000        S\n",
      "761         0       3    male  41.00      0      0    7.1250        S\n",
      "762         1       3    male  20.00      0      0    7.2292        C\n",
      "763         1       1  female  36.00      1      2  120.0000        S\n",
      "764         0       3    male  16.00      0      0    7.7750        S\n",
      "765         1       1  female  51.00      1      0   77.9583        S\n",
      "766         0       1    male    NaN      0      0   39.6000        C\n",
      "767         0       3  female  30.50      0      0    7.7500        Q\n",
      "768         0       3    male    NaN      1      0   24.1500        Q\n",
      "769         0       3    male  32.00      0      0    8.3625        S\n",
      "770         0       3    male  24.00      0      0    9.5000        S\n",
      "771         0       3    male  48.00      0      0    7.8542        S\n",
      "772         0       2  female  57.00      0      0   10.5000        S\n",
      "773         0       3    male    NaN      0      0    7.2250        C\n",
      "774         1       2  female  54.00      1      3   23.0000        S\n",
      "775         0       3    male  18.00      0      0    7.7500        S\n",
      "776         0       3    male    NaN      0      0    7.7500        Q\n",
      "777         1       3  female   5.00      0      0   12.4750        S\n",
      "778         0       3    male    NaN      0      0    7.7375        Q\n",
      "779         1       1  female  43.00      0      1  211.3375        S\n",
      "780         1       3  female  13.00      0      0    7.2292        C\n",
      "781         1       1  female  17.00      1      0   57.0000        S\n",
      "782         0       1    male  29.00      0      0   30.0000        S\n",
      "783         0       3    male    NaN      1      2   23.4500        S\n",
      "784         0       3    male  25.00      0      0    7.0500        S\n",
      "785         0       3    male  25.00      0      0    7.2500        S\n",
      "786         1       3  female  18.00      0      0    7.4958        S\n",
      "787         0       3    male   8.00      4      1   29.1250        Q\n",
      "788         1       3    male   1.00      1      2   20.5750        S\n",
      "789         0       1    male  46.00      0      0   79.2000        C\n",
      "790         0       3    male    NaN      0      0    7.7500        Q\n",
      "791         0       2    male  16.00      0      0   26.0000        S\n",
      "792         0       3  female    NaN      8      2   69.5500        S\n",
      "793         0       1    male    NaN      0      0   30.6958        C\n",
      "794         0       3    male  25.00      0      0    7.8958        S\n",
      "795         0       2    male  39.00      0      0   13.0000        S\n",
      "796         1       1  female  49.00      0      0   25.9292        S\n",
      "797         1       3  female  31.00      0      0    8.6833        S\n",
      "798         0       3    male  30.00      0      0    7.2292        C\n",
      "799         0       3  female  30.00      1      1   24.1500        S\n",
      "800         0       2    male  34.00      0      0   13.0000        S\n",
      "801         1       2  female  31.00      1      1   26.2500        S\n",
      "802         1       1    male  11.00      1      2  120.0000        S\n",
      "803         1       3    male   0.42      0      1    8.5167        C\n",
      "804         1       3    male  27.00      0      0    6.9750        S\n",
      "805         0       3    male  31.00      0      0    7.7750        S\n",
      "806         0       1    male  39.00      0      0    0.0000        S\n",
      "807         0       3  female  18.00      0      0    7.7750        S\n",
      "808         0       2    male  39.00      0      0   13.0000        S\n",
      "809         1       1  female  33.00      1      0   53.1000        S\n",
      "810         0       3    male  26.00      0      0    7.8875        S\n",
      "811         0       3    male  39.00      0      0   24.1500        S\n",
      "812         0       2    male  35.00      0      0   10.5000        S\n",
      "813         0       3  female   6.00      4      2   31.2750        S\n",
      "814         0       3    male  30.50      0      0    8.0500        S\n",
      "815         0       1    male    NaN      0      0    0.0000        S\n",
      "816         0       3  female  23.00      0      0    7.9250        S\n",
      "817         0       2    male  31.00      1      1   37.0042        C\n",
      "818         0       3    male  43.00      0      0    6.4500        S\n",
      "819         0       3    male  10.00      3      2   27.9000        S\n",
      "820         1       1  female  52.00      1      1   93.5000        S\n",
      "821         1       3    male  27.00      0      0    8.6625        S\n",
      "822         0       1    male  38.00      0      0    0.0000        S\n",
      "823         1       3  female  27.00      0      1   12.4750        S\n",
      "824         0       3    male   2.00      4      1   39.6875        S\n",
      "825         0       3    male    NaN      0      0    6.9500        Q\n",
      "826         0       3    male    NaN      0      0   56.4958        S\n",
      "827         1       2    male   1.00      0      2   37.0042        C\n",
      "828         1       3    male    NaN      0      0    7.7500        Q\n",
      "829         1       1  female  62.00      0      0   80.0000      NaN\n",
      "830         1       3  female  15.00      1      0   14.4542        C\n",
      "831         1       2    male   0.83      1      1   18.7500        S\n",
      "832         0       3    male    NaN      0      0    7.2292        C\n",
      "833         0       3    male  23.00      0      0    7.8542        S\n",
      "834         0       3    male  18.00      0      0    8.3000        S\n",
      "835         1       1  female  39.00      1      1   83.1583        C\n",
      "836         0       3    male  21.00      0      0    8.6625        S\n",
      "837         0       3    male    NaN      0      0    8.0500        S\n",
      "838         1       3    male  32.00      0      0   56.4958        S\n",
      "839         1       1    male    NaN      0      0   29.7000        C\n",
      "840         0       3    male  20.00      0      0    7.9250        S\n",
      "841         0       2    male  16.00      0      0   10.5000        S\n",
      "842         1       1  female  30.00      0      0   31.0000        C\n",
      "843         0       3    male  34.50      0      0    6.4375        C\n",
      "844         0       3    male  17.00      0      0    8.6625        S\n",
      "845         0       3    male  42.00      0      0    7.5500        S\n",
      "846         0       3    male    NaN      8      2   69.5500        S\n",
      "847         0       3    male  35.00      0      0    7.8958        C\n",
      "848         0       2    male  28.00      0      1   33.0000        S\n",
      "849         1       1  female    NaN      1      0   89.1042        C\n",
      "850         0       3    male   4.00      4      2   31.2750        S\n",
      "851         0       3    male  74.00      0      0    7.7750        S\n",
      "852         0       3  female   9.00      1      1   15.2458        C\n",
      "853         1       1  female  16.00      0      1   39.4000        S\n",
      "854         0       2  female  44.00      1      0   26.0000        S\n",
      "855         1       3  female  18.00      0      1    9.3500        S\n",
      "856         1       1  female  45.00      1      1  164.8667        S\n",
      "857         1       1    male  51.00      0      0   26.5500        S\n",
      "858         1       3  female  24.00      0      3   19.2583        C\n",
      "859         0       3    male    NaN      0      0    7.2292        C\n",
      "860         0       3    male  41.00      2      0   14.1083        S\n",
      "861         0       2    male  21.00      1      0   11.5000        S\n",
      "862         1       1  female  48.00      0      0   25.9292        S\n",
      "863         0       3  female    NaN      8      2   69.5500        S\n",
      "864         0       2    male  24.00      0      0   13.0000        S\n",
      "865         1       2  female  42.00      0      0   13.0000        S\n",
      "866         1       2  female  27.00      1      0   13.8583        C\n",
      "867         0       1    male  31.00      0      0   50.4958        S\n",
      "868         0       3    male    NaN      0      0    9.5000        S\n",
      "869         1       3    male   4.00      1      1   11.1333        S\n",
      "870         0       3    male  26.00      0      0    7.8958        S\n",
      "871         1       1  female  47.00      1      1   52.5542        S\n",
      "872         0       1    male  33.00      0      0    5.0000        S\n",
      "873         0       3    male  47.00      0      0    9.0000        S\n",
      "874         1       2  female  28.00      1      0   24.0000        C\n",
      "875         1       3  female  15.00      0      0    7.2250        C\n",
      "876         0       3    male  20.00      0      0    9.8458        S\n",
      "877         0       3    male  19.00      0      0    7.8958        S\n",
      "878         0       3    male    NaN      0      0    7.8958        S\n",
      "879         1       1  female  56.00      0      1   83.1583        C\n",
      "880         1       2  female  25.00      0      1   26.0000        S\n",
      "881         0       3    male  33.00      0      0    7.8958        S\n",
      "882         0       3  female  22.00      0      0   10.5167        S\n",
      "883         0       2    male  28.00      0      0   10.5000        S\n",
      "884         0       3    male  25.00      0      0    7.0500        S\n",
      "885         0       3  female  39.00      0      5   29.1250        Q\n",
      "886         0       2    male  27.00      0      0   13.0000        S\n",
      "887         1       1  female  19.00      0      0   30.0000        S\n",
      "888         0       3  female    NaN      1      2   23.4500        S\n",
      "889         1       1    male  26.00      0      0   30.0000        C\n",
      "890         0       3    male  32.00      0      0    7.7500        Q\n"
     ]
    }
   ],
   "source": [
    "with pd.option_context('display.max_rows', None, 'display.max_columns', None):\n",
    "    print(df_train)"
   ]
  },
  {
   "cell_type": "code",
   "execution_count": 7,
   "id": "4d6a8303",
   "metadata": {},
   "outputs": [],
   "source": [
    "cat_features = ['Pclass', 'Sex', 'Embarked']\n",
    "num_features = ['Age', 'SibSp', 'Parch', 'Fare']\n",
    "\n",
    "# X_train = df_train[cat_features + num_features]\n",
    "# Y_train = df_train['Survived']\n",
    "# X_test = df_test"
   ]
  },
  {
   "cell_type": "markdown",
   "id": "a3bbf161",
   "metadata": {},
   "source": [
    "In order to predict survivability of each passenger, we have 7 features:\n",
    "* 3 categorical features:\n",
    "  * `Survived`\n",
    "  * `Pclass`\n",
    "  * `Sex`\n",
    "  * `Embarked`\n",
    "* 4 numerical features:\n",
    "  * `Age`\n",
    "  * `SibSp`\n",
    "  * `Parch`\n",
    "  * `Fare`"
   ]
  },
  {
   "cell_type": "code",
   "execution_count": 8,
   "id": "0e33b28b",
   "metadata": {},
   "outputs": [],
   "source": [
    "# assert all(feature in X_train.columns for feature in cat_features)\n",
    "# assert all(feature in X_test.columns for feature in num_features)\n",
    "\n",
    "# for feature in cat_features:\n",
    "#     X_train.loc[:, [feature]] = X_train.loc[:, [feature]].astype('category');"
   ]
  },
  {
   "cell_type": "code",
   "execution_count": 9,
   "id": "33f98595",
   "metadata": {},
   "outputs": [
    {
     "data": {
      "text/plain": [
       "Survived      int64\n",
       "Pclass        int64\n",
       "Sex          object\n",
       "Age         float64\n",
       "SibSp         int64\n",
       "Parch         int64\n",
       "Fare        float64\n",
       "Embarked     object\n",
       "dtype: object"
      ]
     },
     "execution_count": 9,
     "metadata": {},
     "output_type": "execute_result"
    }
   ],
   "source": [
    "df_train.dtypes"
   ]
  },
  {
   "cell_type": "markdown",
   "id": "b85a382c",
   "metadata": {},
   "source": [
    "# Exploratory Data Analysis (EDA)"
   ]
  },
  {
   "cell_type": "markdown",
   "id": "87e5dc08",
   "metadata": {},
   "source": [
    "## Overview"
   ]
  },
  {
   "cell_type": "markdown",
   "id": "b9d0b49a",
   "metadata": {},
   "source": [
    "* There are 891 examples in the training set."
   ]
  },
  {
   "cell_type": "markdown",
   "id": "7ab62cfb",
   "metadata": {},
   "source": [
    "## Categorical features"
   ]
  },
  {
   "cell_type": "code",
   "execution_count": 10,
   "id": "6727b7ab",
   "metadata": {},
   "outputs": [
    {
     "data": {
      "image/png": "[encoded data removed]",
      "text/plain": [
       "<Figure size 216x864 with 3 Axes>"
      ]
     },
     "metadata": {
      "needs_background": "light"
     },
     "output_type": "display_data"
    }
   ],
   "source": [
    "fig, axes = plt.subplots(len(cat_features), 1, figsize=(3, len(cat_features) * 4))\n",
    "for feature, ax in zip(cat_features, axes.reshape(-1)):\n",
    "    sns.countplot(data=df_train, x=feature, ax=ax)"
   ]
  },
  {
   "cell_type": "markdown",
   "id": "ee5de256",
   "metadata": {},
   "source": [
    "## Numerical features"
   ]
  },
  {
   "cell_type": "code",
   "execution_count": 11,
   "id": "96627d3a",
   "metadata": {},
   "outputs": [
    {
     "data": {
      "text/html": [
       "<div>\n",
       "<style scoped>\n",
       "    .dataframe tbody tr th:only-of-type {\n",
       "        vertical-align: middle;\n",
       "    }\n",
       "\n",
       "    .dataframe tbody tr th {\n",
       "        vertical-align: top;\n",
       "    }\n",
       "\n",
       "    .dataframe thead th {\n",
       "        text-align: right;\n",
       "    }\n",
       "</style>\n",
       "<table border=\"1\" class=\"dataframe\">\n",
       "  <thead>\n",
       "    <tr style=\"text-align: right;\">\n",
       "      <th></th>\n",
       "      <th>Age</th>\n",
       "      <th>SibSp</th>\n",
       "      <th>Parch</th>\n",
       "      <th>Fare</th>\n",
       "    </tr>\n",
       "  </thead>\n",
       "  <tbody>\n",
       "    <tr>\n",
       "      <th>0</th>\n",
       "      <td>22.0</td>\n",
       "      <td>1</td>\n",
       "      <td>0</td>\n",
       "      <td>7.2500</td>\n",
       "    </tr>\n",
       "    <tr>\n",
       "      <th>1</th>\n",
       "      <td>38.0</td>\n",
       "      <td>1</td>\n",
       "      <td>0</td>\n",
       "      <td>71.2833</td>\n",
       "    </tr>\n",
       "    <tr>\n",
       "      <th>2</th>\n",
       "      <td>26.0</td>\n",
       "      <td>0</td>\n",
       "      <td>0</td>\n",
       "      <td>7.9250</td>\n",
       "    </tr>\n",
       "    <tr>\n",
       "      <th>3</th>\n",
       "      <td>35.0</td>\n",
       "      <td>1</td>\n",
       "      <td>0</td>\n",
       "      <td>53.1000</td>\n",
       "    </tr>\n",
       "    <tr>\n",
       "      <th>4</th>\n",
       "      <td>35.0</td>\n",
       "      <td>0</td>\n",
       "      <td>0</td>\n",
       "      <td>8.0500</td>\n",
       "    </tr>\n",
       "    <tr>\n",
       "      <th>...</th>\n",
       "      <td>...</td>\n",
       "      <td>...</td>\n",
       "      <td>...</td>\n",
       "      <td>...</td>\n",
       "    </tr>\n",
       "    <tr>\n",
       "      <th>886</th>\n",
       "      <td>27.0</td>\n",
       "      <td>0</td>\n",
       "      <td>0</td>\n",
       "      <td>13.0000</td>\n",
       "    </tr>\n",
       "    <tr>\n",
       "      <th>887</th>\n",
       "      <td>19.0</td>\n",
       "      <td>0</td>\n",
       "      <td>0</td>\n",
       "      <td>30.0000</td>\n",
       "    </tr>\n",
       "    <tr>\n",
       "      <th>888</th>\n",
       "      <td>NaN</td>\n",
       "      <td>1</td>\n",
       "      <td>2</td>\n",
       "      <td>23.4500</td>\n",
       "    </tr>\n",
       "    <tr>\n",
       "      <th>889</th>\n",
       "      <td>26.0</td>\n",
       "      <td>0</td>\n",
       "      <td>0</td>\n",
       "      <td>30.0000</td>\n",
       "    </tr>\n",
       "    <tr>\n",
       "      <th>890</th>\n",
       "      <td>32.0</td>\n",
       "      <td>0</td>\n",
       "      <td>0</td>\n",
       "      <td>7.7500</td>\n",
       "    </tr>\n",
       "  </tbody>\n",
       "</table>\n",
       "<p>891 rows × 4 columns</p>\n",
       "</div>"
      ],
      "text/plain": [
       "      Age  SibSp  Parch     Fare\n",
       "0    22.0      1      0   7.2500\n",
       "1    38.0      1      0  71.2833\n",
       "2    26.0      0      0   7.9250\n",
       "3    35.0      1      0  53.1000\n",
       "4    35.0      0      0   8.0500\n",
       "..    ...    ...    ...      ...\n",
       "886  27.0      0      0  13.0000\n",
       "887  19.0      0      0  30.0000\n",
       "888   NaN      1      2  23.4500\n",
       "889  26.0      0      0  30.0000\n",
       "890  32.0      0      0   7.7500\n",
       "\n",
       "[891 rows x 4 columns]"
      ]
     },
     "execution_count": 11,
     "metadata": {},
     "output_type": "execute_result"
    }
   ],
   "source": [
    "df_train[num_features]"
   ]
  },
  {
   "cell_type": "code",
   "execution_count": 12,
   "id": "0f548925",
   "metadata": {},
   "outputs": [
    {
     "data": {
      "text/plain": [
       "<seaborn.axisgrid.PairGrid at 0x7f6541496e50>"
      ]
     },
     "execution_count": 12,
     "metadata": {},
     "output_type": "execute_result"
    },
    {
     "data": {
      "image/png": "[encoded data removed]",
      "text/plain": [
       "<Figure size 951.875x900 with 25 Axes>"
      ]
     },
     "metadata": {
      "needs_background": "light"
     },
     "output_type": "display_data"
    }
   ],
   "source": [
    "g = sns.PairGrid(df_train, hue='Survived')\n",
    "# g.map_diag(sns.histplot)\n",
    "g.map_offdiag(sns.scatterplot)\n",
    "g.add_legend()"
   ]
  },
  {
   "cell_type": "code",
   "execution_count": 13,
   "id": "bea8df0a",
   "metadata": {},
   "outputs": [
    {
     "data": {
      "text/plain": [
       "0      22.0\n",
       "1      38.0\n",
       "2      26.0\n",
       "3      35.0\n",
       "4      35.0\n",
       "       ... \n",
       "886    27.0\n",
       "887    19.0\n",
       "888     NaN\n",
       "889    26.0\n",
       "890    32.0\n",
       "Name: Age, Length: 891, dtype: float64"
      ]
     },
     "execution_count": 13,
     "metadata": {},
     "output_type": "execute_result"
    }
   ],
   "source": [
    "df_train['Age']"
   ]
  },
  {
   "cell_type": "code",
   "execution_count": 14,
   "id": "21c3685f",
   "metadata": {},
   "outputs": [
    {
     "data": {
      "text/plain": [
       "<AxesSubplot:xlabel='Age', ylabel='Count'>"
      ]
     },
     "execution_count": 14,
     "metadata": {},
     "output_type": "execute_result"
    },
    {
     "data": {
      "image/png": "[encoded data removed]",
      "text/plain": [
       "<Figure size 432x288 with 1 Axes>"
      ]
     },
     "metadata": {
      "needs_background": "light"
     },
     "output_type": "display_data"
    }
   ],
   "source": [
    "sns.histplot(x='Age', hue='Survived', data=df_train, element='step')"
   ]
  },
  {
   "cell_type": "code",
   "execution_count": 15,
   "id": "42c4869e",
   "metadata": {},
   "outputs": [
    {
     "data": {
      "image/png": "[encoded data removed]",
      "text/plain": [
       "<Figure size 951.875x900 with 30 Axes>"
      ]
     },
     "metadata": {
      "needs_background": "light"
     },
     "output_type": "display_data"
    }
   ],
   "source": [
    "g = sns.pairplot(df_train, hue='Survived')"
   ]
  },
  {
   "cell_type": "code",
   "execution_count": 16,
   "id": "4220fb28",
   "metadata": {},
   "outputs": [
    {
     "data": {
      "image/png": "[encoded data removed]",
      "text/plain": [
       "<Figure size 216x1152 with 4 Axes>"
      ]
     },
     "metadata": {
      "needs_background": "light"
     },
     "output_type": "display_data"
    }
   ],
   "source": [
    "fig, axes = plt.subplots(len(num_features), 1, figsize=(3, len(num_features) * 4))\n",
    "for feature, ax in zip(num_features, axes.reshape(-1)):\n",
    "    sns.histplot(data=df_train, x=feature, ax=ax, hue='Survived', element='step')"
   ]
  },
  {
   "cell_type": "markdown",
   "id": "bee09d99",
   "metadata": {},
   "source": [
    "# Data Preparation"
   ]
  },
  {
   "cell_type": "markdown",
   "id": "26c61b69",
   "metadata": {},
   "source": [
    "## Imputation"
   ]
  },
  {
   "cell_type": "code",
   "execution_count": 17,
   "id": "c95c3f87",
   "metadata": {},
   "outputs": [
    {
     "data": {
      "text/plain": [
       "['Age', 'Embarked']"
      ]
     },
     "execution_count": 17,
     "metadata": {},
     "output_type": "execute_result"
    }
   ],
   "source": [
    "df_train.columns[df_train.isna().any()].tolist()"
   ]
  },
  {
   "cell_type": "markdown",
   "id": "40bb7849",
   "metadata": {},
   "source": [
    "There are two columns having `NaN` values in the training set: `Age` and `Embarked`."
   ]
  },
  {
   "cell_type": "code",
   "execution_count": 18,
   "id": "44b8b93a",
   "metadata": {},
   "outputs": [
    {
     "data": {
      "text/plain": [
       "['Age', 'Fare']"
      ]
     },
     "execution_count": 18,
     "metadata": {},
     "output_type": "execute_result"
    }
   ],
   "source": [
    "df_test.columns[df_test.isna().any()].tolist()"
   ]
  },
  {
   "cell_type": "code",
   "execution_count": 19,
   "id": "82ec6117",
   "metadata": {},
   "outputs": [
    {
     "data": {
      "text/plain": [
       "Survived      0\n",
       "Pclass        0\n",
       "Sex           0\n",
       "Age         177\n",
       "SibSp         0\n",
       "Parch         0\n",
       "Fare          0\n",
       "Embarked      2\n",
       "dtype: int64"
      ]
     },
     "execution_count": 19,
     "metadata": {},
     "output_type": "execute_result"
    }
   ],
   "source": [
    "df_train.isna().sum()"
   ]
  },
  {
   "cell_type": "code",
   "execution_count": 20,
   "id": "4afd0bed",
   "metadata": {},
   "outputs": [
    {
     "data": {
      "text/plain": [
       "Pclass       0\n",
       "Sex          0\n",
       "Age         86\n",
       "SibSp        0\n",
       "Parch        0\n",
       "Fare         1\n",
       "Embarked     0\n",
       "dtype: int64"
      ]
     },
     "execution_count": 20,
     "metadata": {},
     "output_type": "execute_result"
    }
   ],
   "source": [
    "df_test.isna().sum()"
   ]
  },
  {
   "cell_type": "markdown",
   "id": "e34a4dad",
   "metadata": {},
   "source": [
    "I remove all rows without age, since I cannot think of any good imputing strategy here. For instance, imputing by replacing `NaN` with the mean age does not make sense here, since there were more children and old people survived than people having their ages around the mean value.\n",
    "\n",
    "I also remove all rows with empty `Embarked` values. This is a categorical variable, so using a mean imputer will not work. On the other hand, there are only 2 rows without `Embarked` values. Therefore, removing them would not cause any significant change to the dataset."
   ]
  },
  {
   "cell_type": "code",
   "execution_count": 21,
   "id": "bbadd879",
   "metadata": {},
   "outputs": [],
   "source": [
    "df_train = df_train.dropna(subset=['Age', 'Embarked'])\n",
    "df_test = df_test.dropna(subset=['Age', 'Fare'])"
   ]
  },
  {
   "cell_type": "markdown",
   "id": "b0b2a7fe",
   "metadata": {},
   "source": [
    "## Split features and labels"
   ]
  },
  {
   "cell_type": "code",
   "execution_count": 22,
   "id": "1bac9cd5",
   "metadata": {},
   "outputs": [],
   "source": [
    "X_train = df_train[num_features + cat_features]\n",
    "Y_train = df_train['Survived']\n",
    "X_test = df_test"
   ]
  },
  {
   "cell_type": "markdown",
   "id": "59555c45",
   "metadata": {},
   "source": [
    "## Encoding"
   ]
  },
  {
   "cell_type": "code",
   "execution_count": 23,
   "id": "e956450c",
   "metadata": {},
   "outputs": [
    {
     "data": {
      "text/plain": [
       "0      0\n",
       "1      1\n",
       "2      1\n",
       "3      1\n",
       "4      0\n",
       "      ..\n",
       "885    0\n",
       "886    0\n",
       "887    1\n",
       "889    1\n",
       "890    0\n",
       "Name: Survived, Length: 712, dtype: int64"
      ]
     },
     "execution_count": 23,
     "metadata": {},
     "output_type": "execute_result"
    }
   ],
   "source": [
    "Y_train"
   ]
  },
  {
   "cell_type": "markdown",
   "id": "4718b13c",
   "metadata": {},
   "source": [
    "## Encoding Categorical features"
   ]
  },
  {
   "cell_type": "markdown",
   "id": "dde3714f",
   "metadata": {},
   "source": [
    "Some ML algorithms only takes numerical values. Therefore, we should convert all categorical features into some numerical form. This is called encoding."
   ]
  },
  {
   "cell_type": "code",
   "execution_count": 24,
   "id": "5b56675a",
   "metadata": {},
   "outputs": [
    {
     "data": {
      "text/plain": [
       "['Pclass', 'Sex', 'Embarked']"
      ]
     },
     "execution_count": 24,
     "metadata": {},
     "output_type": "execute_result"
    }
   ],
   "source": [
    "X_train[cat_features].columns.tolist()"
   ]
  },
  {
   "cell_type": "markdown",
   "id": "fd794fab",
   "metadata": {},
   "source": [
    "* `Sex`: since there are only two different values, we can use binary encoding: `0` for female and `1` for male, for instance.\n",
    "* `Pclass`: ticket classesj may have an order, and in that case we may consider using `OrdinalEncoding`. However, `OrdinalEncoding` makes handling unknown a bit more complicated than `OneHotEncoder`.\n",
    "* `Embarked`: since the data has no order, `OneHotEncoder` is the sensible choice here."
   ]
  },
  {
   "cell_type": "code",
   "execution_count": 25,
   "id": "9c802a59",
   "metadata": {},
   "outputs": [],
   "source": [
    "from sklearn.preprocessing import OrdinalEncoder"
   ]
  },
  {
   "cell_type": "code",
   "execution_count": 26,
   "id": "6ca9ba02",
   "metadata": {},
   "outputs": [],
   "source": [
    "from sklearn.preprocessing import OneHotEncoder"
   ]
  },
  {
   "cell_type": "markdown",
   "id": "30e0434c",
   "metadata": {},
   "source": [
    "## Column Transformer"
   ]
  },
  {
   "cell_type": "code",
   "execution_count": 27,
   "id": "20d36fd8",
   "metadata": {},
   "outputs": [],
   "source": [
    "from sklearn.compose import ColumnTransformer\n",
    "\n",
    "cat_encoder = ColumnTransformer(\n",
    "    [\n",
    "        ('ordinal encode Sex', OrdinalEncoder(), ['Sex']),\n",
    "        ('one-hot encode Pclass', OneHotEncoder(), ['Pclass']),\n",
    "        ('one-hot encode Embarked', OneHotEncoder(), ['Embarked']),\n",
    "    ],\n",
    "    remainder='passthrough'\n",
    ")\n",
    "\n",
    "Z_data = cat_encoder.fit_transform(X_train)"
   ]
  },
  {
   "cell_type": "code",
   "execution_count": 28,
   "id": "359b087e",
   "metadata": {},
   "outputs": [],
   "source": [
    "Z = pd.DataFrame(Z_data)"
   ]
  },
  {
   "cell_type": "code",
   "execution_count": 29,
   "id": "524af4b2",
   "metadata": {},
   "outputs": [
    {
     "data": {
      "text/html": [
       "<div>\n",
       "<style scoped>\n",
       "    .dataframe tbody tr th:only-of-type {\n",
       "        vertical-align: middle;\n",
       "    }\n",
       "\n",
       "    .dataframe tbody tr th {\n",
       "        vertical-align: top;\n",
       "    }\n",
       "\n",
       "    .dataframe thead th {\n",
       "        text-align: right;\n",
       "    }\n",
       "</style>\n",
       "<table border=\"1\" class=\"dataframe\">\n",
       "  <thead>\n",
       "    <tr style=\"text-align: right;\">\n",
       "      <th></th>\n",
       "      <th>0</th>\n",
       "      <th>1</th>\n",
       "      <th>2</th>\n",
       "      <th>3</th>\n",
       "      <th>4</th>\n",
       "      <th>5</th>\n",
       "      <th>6</th>\n",
       "      <th>7</th>\n",
       "      <th>8</th>\n",
       "      <th>9</th>\n",
       "      <th>10</th>\n",
       "    </tr>\n",
       "  </thead>\n",
       "  <tbody>\n",
       "    <tr>\n",
       "      <th>0</th>\n",
       "      <td>1.0</td>\n",
       "      <td>0.0</td>\n",
       "      <td>0.0</td>\n",
       "      <td>1.0</td>\n",
       "      <td>0.0</td>\n",
       "      <td>0.0</td>\n",
       "      <td>1.0</td>\n",
       "      <td>22.0</td>\n",
       "      <td>1.0</td>\n",
       "      <td>0.0</td>\n",
       "      <td>7.2500</td>\n",
       "    </tr>\n",
       "    <tr>\n",
       "      <th>1</th>\n",
       "      <td>0.0</td>\n",
       "      <td>1.0</td>\n",
       "      <td>0.0</td>\n",
       "      <td>0.0</td>\n",
       "      <td>1.0</td>\n",
       "      <td>0.0</td>\n",
       "      <td>0.0</td>\n",
       "      <td>38.0</td>\n",
       "      <td>1.0</td>\n",
       "      <td>0.0</td>\n",
       "      <td>71.2833</td>\n",
       "    </tr>\n",
       "    <tr>\n",
       "      <th>2</th>\n",
       "      <td>0.0</td>\n",
       "      <td>0.0</td>\n",
       "      <td>0.0</td>\n",
       "      <td>1.0</td>\n",
       "      <td>0.0</td>\n",
       "      <td>0.0</td>\n",
       "      <td>1.0</td>\n",
       "      <td>26.0</td>\n",
       "      <td>0.0</td>\n",
       "      <td>0.0</td>\n",
       "      <td>7.9250</td>\n",
       "    </tr>\n",
       "    <tr>\n",
       "      <th>3</th>\n",
       "      <td>0.0</td>\n",
       "      <td>1.0</td>\n",
       "      <td>0.0</td>\n",
       "      <td>0.0</td>\n",
       "      <td>0.0</td>\n",
       "      <td>0.0</td>\n",
       "      <td>1.0</td>\n",
       "      <td>35.0</td>\n",
       "      <td>1.0</td>\n",
       "      <td>0.0</td>\n",
       "      <td>53.1000</td>\n",
       "    </tr>\n",
       "    <tr>\n",
       "      <th>4</th>\n",
       "      <td>1.0</td>\n",
       "      <td>0.0</td>\n",
       "      <td>0.0</td>\n",
       "      <td>1.0</td>\n",
       "      <td>0.0</td>\n",
       "      <td>0.0</td>\n",
       "      <td>1.0</td>\n",
       "      <td>35.0</td>\n",
       "      <td>0.0</td>\n",
       "      <td>0.0</td>\n",
       "      <td>8.0500</td>\n",
       "    </tr>\n",
       "    <tr>\n",
       "      <th>...</th>\n",
       "      <td>...</td>\n",
       "      <td>...</td>\n",
       "      <td>...</td>\n",
       "      <td>...</td>\n",
       "      <td>...</td>\n",
       "      <td>...</td>\n",
       "      <td>...</td>\n",
       "      <td>...</td>\n",
       "      <td>...</td>\n",
       "      <td>...</td>\n",
       "      <td>...</td>\n",
       "    </tr>\n",
       "    <tr>\n",
       "      <th>707</th>\n",
       "      <td>0.0</td>\n",
       "      <td>0.0</td>\n",
       "      <td>0.0</td>\n",
       "      <td>1.0</td>\n",
       "      <td>0.0</td>\n",
       "      <td>1.0</td>\n",
       "      <td>0.0</td>\n",
       "      <td>39.0</td>\n",
       "      <td>0.0</td>\n",
       "      <td>5.0</td>\n",
       "      <td>29.1250</td>\n",
       "    </tr>\n",
       "    <tr>\n",
       "      <th>708</th>\n",
       "      <td>1.0</td>\n",
       "      <td>0.0</td>\n",
       "      <td>1.0</td>\n",
       "      <td>0.0</td>\n",
       "      <td>0.0</td>\n",
       "      <td>0.0</td>\n",
       "      <td>1.0</td>\n",
       "      <td>27.0</td>\n",
       "      <td>0.0</td>\n",
       "      <td>0.0</td>\n",
       "      <td>13.0000</td>\n",
       "    </tr>\n",
       "    <tr>\n",
       "      <th>709</th>\n",
       "      <td>0.0</td>\n",
       "      <td>1.0</td>\n",
       "      <td>0.0</td>\n",
       "      <td>0.0</td>\n",
       "      <td>0.0</td>\n",
       "      <td>0.0</td>\n",
       "      <td>1.0</td>\n",
       "      <td>19.0</td>\n",
       "      <td>0.0</td>\n",
       "      <td>0.0</td>\n",
       "      <td>30.0000</td>\n",
       "    </tr>\n",
       "    <tr>\n",
       "      <th>710</th>\n",
       "      <td>1.0</td>\n",
       "      <td>1.0</td>\n",
       "      <td>0.0</td>\n",
       "      <td>0.0</td>\n",
       "      <td>1.0</td>\n",
       "      <td>0.0</td>\n",
       "      <td>0.0</td>\n",
       "      <td>26.0</td>\n",
       "      <td>0.0</td>\n",
       "      <td>0.0</td>\n",
       "      <td>30.0000</td>\n",
       "    </tr>\n",
       "    <tr>\n",
       "      <th>711</th>\n",
       "      <td>1.0</td>\n",
       "      <td>0.0</td>\n",
       "      <td>0.0</td>\n",
       "      <td>1.0</td>\n",
       "      <td>0.0</td>\n",
       "      <td>1.0</td>\n",
       "      <td>0.0</td>\n",
       "      <td>32.0</td>\n",
       "      <td>0.0</td>\n",
       "      <td>0.0</td>\n",
       "      <td>7.7500</td>\n",
       "    </tr>\n",
       "  </tbody>\n",
       "</table>\n",
       "<p>712 rows × 11 columns</p>\n",
       "</div>"
      ],
      "text/plain": [
       "      0    1    2    3    4    5    6     7    8    9        10\n",
       "0    1.0  0.0  0.0  1.0  0.0  0.0  1.0  22.0  1.0  0.0   7.2500\n",
       "1    0.0  1.0  0.0  0.0  1.0  0.0  0.0  38.0  1.0  0.0  71.2833\n",
       "2    0.0  0.0  0.0  1.0  0.0  0.0  1.0  26.0  0.0  0.0   7.9250\n",
       "3    0.0  1.0  0.0  0.0  0.0  0.0  1.0  35.0  1.0  0.0  53.1000\n",
       "4    1.0  0.0  0.0  1.0  0.0  0.0  1.0  35.0  0.0  0.0   8.0500\n",
       "..   ...  ...  ...  ...  ...  ...  ...   ...  ...  ...      ...\n",
       "707  0.0  0.0  0.0  1.0  0.0  1.0  0.0  39.0  0.0  5.0  29.1250\n",
       "708  1.0  0.0  1.0  0.0  0.0  0.0  1.0  27.0  0.0  0.0  13.0000\n",
       "709  0.0  1.0  0.0  0.0  0.0  0.0  1.0  19.0  0.0  0.0  30.0000\n",
       "710  1.0  1.0  0.0  0.0  1.0  0.0  0.0  26.0  0.0  0.0  30.0000\n",
       "711  1.0  0.0  0.0  1.0  0.0  1.0  0.0  32.0  0.0  0.0   7.7500\n",
       "\n",
       "[712 rows x 11 columns]"
      ]
     },
     "execution_count": 29,
     "metadata": {},
     "output_type": "execute_result"
    }
   ],
   "source": [
    "Z"
   ]
  },
  {
   "cell_type": "markdown",
   "id": "e56a34f3",
   "metadata": {},
   "source": [
    "## Feature Scaling"
   ]
  },
  {
   "cell_type": "markdown",
   "id": "5c748929",
   "metadata": {},
   "source": [
    "Features come in different scales. To ensure that most algorithms will work properly, we use feature scaling."
   ]
  },
  {
   "cell_type": "code",
   "execution_count": 30,
   "id": "1ce398da",
   "metadata": {},
   "outputs": [],
   "source": [
    "from sklearn.preprocessing import StandardScaler"
   ]
  },
  {
   "cell_type": "markdown",
   "id": "83f83bfa",
   "metadata": {},
   "source": [
    "## Data Preparation Pipeline"
   ]
  },
  {
   "cell_type": "code",
   "execution_count": 31,
   "id": "2e306a62",
   "metadata": {},
   "outputs": [],
   "source": [
    "from sklearn.pipeline import Pipeline"
   ]
  },
  {
   "cell_type": "code",
   "execution_count": 32,
   "id": "ae7990f4",
   "metadata": {},
   "outputs": [],
   "source": [
    "data_prep_pipeline = Pipeline([\n",
    "    ('cat_encoder', cat_encoder),\n",
    "    ('std_scaler', StandardScaler()),\n",
    "])"
   ]
  },
  {
   "cell_type": "code",
   "execution_count": 33,
   "id": "7a1bcb8e",
   "metadata": {},
   "outputs": [],
   "source": [
    "X_train = data_prep_pipeline.fit_transform(X_train)\n",
    "X_test = data_prep_pipeline.fit_transform(X_test)"
   ]
  },
  {
   "cell_type": "markdown",
   "id": "6a4d9646",
   "metadata": {},
   "source": [
    "# Classification Models"
   ]
  },
  {
   "cell_type": "markdown",
   "id": "e210eed4",
   "metadata": {},
   "source": [
    "## Helpers"
   ]
  },
  {
   "cell_type": "code",
   "execution_count": 34,
   "id": "068bdcfc",
   "metadata": {},
   "outputs": [],
   "source": [
    "from sklearn.metrics import accuracy_score\n",
    "from sklearn.metrics import confusion_matrix\n",
    "from sklearn.metrics import precision_score, recall_score"
   ]
  },
  {
   "cell_type": "code",
   "execution_count": 35,
   "id": "4a012536",
   "metadata": {},
   "outputs": [],
   "source": [
    "clf = {}\n",
    "Y_pred = {}"
   ]
  },
  {
   "cell_type": "code",
   "execution_count": 36,
   "id": "1a001a2c",
   "metadata": {},
   "outputs": [],
   "source": [
    "def plot_confusion_matrix(Y_true, Y_pred, classes, title):\n",
    "    fig = plt.figure(); ax = fig.add_subplot(111)\n",
    "    sns.heatmap(confusion_matrix(Y_true, Y_pred), cmap='coolwarm', ax=ax)\n",
    "    ax.set_xticklabels(classes)\n",
    "    ax.set_yticklabels(classes)\n",
    "    plt.xlabel('Predicted')\n",
    "    plt.ylabel('True')\n",
    "    plt.title(title)"
   ]
  },
  {
   "cell_type": "code",
   "execution_count": 37,
   "id": "d2ea7208",
   "metadata": {},
   "outputs": [],
   "source": [
    "def confusion_matrix_table(Y_true, Y_pred, classes):\n",
    "    return pd.DataFrame(\n",
    "        confusion_matrix(Y_train, Y_pred),\n",
    "        index=[['True'] * len(classes), classes],\n",
    "        columns=[['Predicted'] * len(classes), classes]\n",
    "    )"
   ]
  },
  {
   "cell_type": "markdown",
   "id": "ad775001",
   "metadata": {},
   "source": [
    "## Decision Tree Classifier"
   ]
  },
  {
   "cell_type": "code",
   "execution_count": 38,
   "id": "577dc9a0",
   "metadata": {},
   "outputs": [],
   "source": [
    "from sklearn.tree import DecisionTreeClassifier\n",
    "from sklearn.tree import export_text\n",
    "\n",
    "clf['decision_tree'] = DecisionTreeClassifier()"
   ]
  },
  {
   "cell_type": "code",
   "execution_count": 39,
   "id": "f2d557ec",
   "metadata": {},
   "outputs": [
    {
     "data": {
      "text/plain": [
       "DecisionTreeClassifier()"
      ]
     },
     "execution_count": 39,
     "metadata": {},
     "output_type": "execute_result"
    }
   ],
   "source": [
    "clf['decision_tree'].fit(X_train, Y_train)"
   ]
  },
  {
   "cell_type": "code",
   "execution_count": 40,
   "id": "fe6ed5c9",
   "metadata": {},
   "outputs": [],
   "source": [
    "Y_pred['decision_tree'] = clf['decision_tree'].predict(X_train)"
   ]
  },
  {
   "cell_type": "code",
   "execution_count": 41,
   "id": "68ffd216",
   "metadata": {},
   "outputs": [
    {
     "data": {
      "text/plain": [
       "0.9859550561797753"
      ]
     },
     "execution_count": 41,
     "metadata": {},
     "output_type": "execute_result"
    }
   ],
   "source": [
    "accuracy_score(Y_train, Y_pred['decision_tree'])"
   ]
  },
  {
   "cell_type": "code",
   "execution_count": 42,
   "id": "334a4697",
   "metadata": {},
   "outputs": [
    {
     "data": {
      "text/html": [
       "<div>\n",
       "<style scoped>\n",
       "    .dataframe tbody tr th:only-of-type {\n",
       "        vertical-align: middle;\n",
       "    }\n",
       "\n",
       "    .dataframe tbody tr th {\n",
       "        vertical-align: top;\n",
       "    }\n",
       "\n",
       "    .dataframe thead tr th {\n",
       "        text-align: left;\n",
       "    }\n",
       "</style>\n",
       "<table border=\"1\" class=\"dataframe\">\n",
       "  <thead>\n",
       "    <tr>\n",
       "      <th></th>\n",
       "      <th></th>\n",
       "      <th colspan=\"2\" halign=\"left\">Predicted</th>\n",
       "    </tr>\n",
       "    <tr>\n",
       "      <th></th>\n",
       "      <th></th>\n",
       "      <th>Dead</th>\n",
       "      <th>Alive</th>\n",
       "    </tr>\n",
       "  </thead>\n",
       "  <tbody>\n",
       "    <tr>\n",
       "      <th rowspan=\"2\" valign=\"top\">True</th>\n",
       "      <th>Dead</th>\n",
       "      <td>424</td>\n",
       "      <td>0</td>\n",
       "    </tr>\n",
       "    <tr>\n",
       "      <th>Alive</th>\n",
       "      <td>10</td>\n",
       "      <td>278</td>\n",
       "    </tr>\n",
       "  </tbody>\n",
       "</table>\n",
       "</div>"
      ],
      "text/plain": [
       "           Predicted      \n",
       "                Dead Alive\n",
       "True Dead        424     0\n",
       "     Alive        10   278"
      ]
     },
     "execution_count": 42,
     "metadata": {},
     "output_type": "execute_result"
    }
   ],
   "source": [
    "confusion_matrix_table(\n",
    "    Y_true=Y_train,\n",
    "    Y_pred=Y_pred['decision_tree'],\n",
    "    classes=['Dead', 'Alive'],\n",
    ")"
   ]
  },
  {
   "cell_type": "code",
   "execution_count": 62,
   "id": "88f4e7e1",
   "metadata": {},
   "outputs": [
    {
     "name": "stdout",
     "output_type": "stream",
     "text": [
      "Precision Score: 1.0\n",
      "Recall Score: 0.9652777777777778\n"
     ]
    }
   ],
   "source": [
    "print(f\"Precision Score: {precision_score(Y_train, Y_pred['decision_tree'])}\")\n",
    "print(f\"Recall Score: {recall_score(Y_train, Y_pred['decision_tree'])}\")"
   ]
  },
  {
   "cell_type": "code",
   "execution_count": 44,
   "id": "128af2f2",
   "metadata": {},
   "outputs": [
    {
     "data": {
      "image/png": "[encoded data removed]",
      "text/plain": [
       "<Figure size 432x288 with 2 Axes>"
      ]
     },
     "metadata": {
      "needs_background": "light"
     },
     "output_type": "display_data"
    }
   ],
   "source": [
    "plot_confusion_matrix(\n",
    "    Y_true=Y_train,\n",
    "    Y_pred=Y_pred['decision_tree'],\n",
    "    classes=['Dead', 'Alive'],\n",
    "    title='Decision Tree Confusion Matrix on Training Set'\n",
    ")"
   ]
  },
  {
   "cell_type": "markdown",
   "id": "c42253ba",
   "metadata": {},
   "source": [
    "## Support-Vector Classifier"
   ]
  },
  {
   "cell_type": "code",
   "execution_count": 45,
   "id": "72bac453",
   "metadata": {},
   "outputs": [
    {
     "data": {
      "text/plain": [
       "SVC()"
      ]
     },
     "execution_count": 45,
     "metadata": {},
     "output_type": "execute_result"
    }
   ],
   "source": [
    "from sklearn.svm import SVC\n",
    "\n",
    "clf['svc'] = SVC()\n",
    "clf['svc'].fit(X_train, Y_train)"
   ]
  },
  {
   "cell_type": "code",
   "execution_count": 46,
   "id": "468a6bbd",
   "metadata": {},
   "outputs": [],
   "source": [
    "Y_pred['svc'] = clf['svc'].predict(X_train)"
   ]
  },
  {
   "cell_type": "code",
   "execution_count": 47,
   "id": "c0e7d9aa",
   "metadata": {},
   "outputs": [
    {
     "data": {
      "text/plain": [
       "0.8356741573033708"
      ]
     },
     "execution_count": 47,
     "metadata": {},
     "output_type": "execute_result"
    }
   ],
   "source": [
    "accuracy_score(Y_train, Y_pred['svc'])"
   ]
  },
  {
   "cell_type": "code",
   "execution_count": 48,
   "id": "9d1cf308",
   "metadata": {},
   "outputs": [
    {
     "data": {
      "text/html": [
       "<div>\n",
       "<style scoped>\n",
       "    .dataframe tbody tr th:only-of-type {\n",
       "        vertical-align: middle;\n",
       "    }\n",
       "\n",
       "    .dataframe tbody tr th {\n",
       "        vertical-align: top;\n",
       "    }\n",
       "\n",
       "    .dataframe thead tr th {\n",
       "        text-align: left;\n",
       "    }\n",
       "</style>\n",
       "<table border=\"1\" class=\"dataframe\">\n",
       "  <thead>\n",
       "    <tr>\n",
       "      <th></th>\n",
       "      <th></th>\n",
       "      <th colspan=\"2\" halign=\"left\">Predicted</th>\n",
       "    </tr>\n",
       "    <tr>\n",
       "      <th></th>\n",
       "      <th></th>\n",
       "      <th>Dead</th>\n",
       "      <th>Alive</th>\n",
       "    </tr>\n",
       "  </thead>\n",
       "  <tbody>\n",
       "    <tr>\n",
       "      <th rowspan=\"2\" valign=\"top\">True</th>\n",
       "      <th>Dead</th>\n",
       "      <td>404</td>\n",
       "      <td>20</td>\n",
       "    </tr>\n",
       "    <tr>\n",
       "      <th>Alive</th>\n",
       "      <td>97</td>\n",
       "      <td>191</td>\n",
       "    </tr>\n",
       "  </tbody>\n",
       "</table>\n",
       "</div>"
      ],
      "text/plain": [
       "           Predicted      \n",
       "                Dead Alive\n",
       "True Dead        404    20\n",
       "     Alive        97   191"
      ]
     },
     "execution_count": 48,
     "metadata": {},
     "output_type": "execute_result"
    }
   ],
   "source": [
    "confusion_matrix_table(\n",
    "    Y_true=Y_train,\n",
    "    Y_pred=Y_pred['svc'],\n",
    "    classes=['Dead', 'Alive'],\n",
    ")"
   ]
  },
  {
   "cell_type": "code",
   "execution_count": 49,
   "id": "9182ea45",
   "metadata": {},
   "outputs": [
    {
     "data": {
      "image/png": "[encoded data removed]",
      "text/plain": [
       "<Figure size 432x288 with 2 Axes>"
      ]
     },
     "metadata": {
      "needs_background": "light"
     },
     "output_type": "display_data"
    }
   ],
   "source": [
    "plot_confusion_matrix(\n",
    "    Y_true=Y_train,\n",
    "    Y_pred=Y_pred['svc'],\n",
    "    classes=['Dead', 'Alive'],\n",
    "    title='SVC Confusion Matrix on Training Set'\n",
    ")"
   ]
  },
  {
   "cell_type": "markdown",
   "id": "01f193dd",
   "metadata": {},
   "source": [
    "## Gaussian Naive-Bayes Classifier"
   ]
  },
  {
   "cell_type": "code",
   "execution_count": 50,
   "id": "79e3d835",
   "metadata": {},
   "outputs": [],
   "source": [
    "from sklearn.naive_bayes import GaussianNB"
   ]
  },
  {
   "cell_type": "code",
   "execution_count": 51,
   "id": "38761628",
   "metadata": {},
   "outputs": [
    {
     "data": {
      "text/plain": [
       "GaussianNB()"
      ]
     },
     "execution_count": 51,
     "metadata": {},
     "output_type": "execute_result"
    }
   ],
   "source": [
    "clf['gaussian_nb'] = GaussianNB()\n",
    "clf['gaussian_nb'].fit(X_train, Y_train)"
   ]
  },
  {
   "cell_type": "code",
   "execution_count": 52,
   "id": "cd0d8d85",
   "metadata": {},
   "outputs": [],
   "source": [
    "Y_pred['gaussian_nb'] = clf['gaussian_nb'].predict(X_train)"
   ]
  },
  {
   "cell_type": "code",
   "execution_count": 53,
   "id": "7935a202",
   "metadata": {},
   "outputs": [
    {
     "data": {
      "text/plain": [
       "0.7780898876404494"
      ]
     },
     "execution_count": 53,
     "metadata": {},
     "output_type": "execute_result"
    }
   ],
   "source": [
    "accuracy_score(Y_train, Y_pred['gaussian_nb'])"
   ]
  },
  {
   "cell_type": "code",
   "execution_count": 54,
   "id": "489960cb",
   "metadata": {},
   "outputs": [
    {
     "data": {
      "text/html": [
       "<div>\n",
       "<style scoped>\n",
       "    .dataframe tbody tr th:only-of-type {\n",
       "        vertical-align: middle;\n",
       "    }\n",
       "\n",
       "    .dataframe tbody tr th {\n",
       "        vertical-align: top;\n",
       "    }\n",
       "\n",
       "    .dataframe thead tr th {\n",
       "        text-align: left;\n",
       "    }\n",
       "</style>\n",
       "<table border=\"1\" class=\"dataframe\">\n",
       "  <thead>\n",
       "    <tr>\n",
       "      <th></th>\n",
       "      <th></th>\n",
       "      <th colspan=\"2\" halign=\"left\">Predicted</th>\n",
       "    </tr>\n",
       "    <tr>\n",
       "      <th></th>\n",
       "      <th></th>\n",
       "      <th>Dead</th>\n",
       "      <th>Alive</th>\n",
       "    </tr>\n",
       "  </thead>\n",
       "  <tbody>\n",
       "    <tr>\n",
       "      <th rowspan=\"2\" valign=\"top\">True</th>\n",
       "      <th>Dead</th>\n",
       "      <td>371</td>\n",
       "      <td>53</td>\n",
       "    </tr>\n",
       "    <tr>\n",
       "      <th>Alive</th>\n",
       "      <td>105</td>\n",
       "      <td>183</td>\n",
       "    </tr>\n",
       "  </tbody>\n",
       "</table>\n",
       "</div>"
      ],
      "text/plain": [
       "           Predicted      \n",
       "                Dead Alive\n",
       "True Dead        371    53\n",
       "     Alive       105   183"
      ]
     },
     "execution_count": 54,
     "metadata": {},
     "output_type": "execute_result"
    }
   ],
   "source": [
    "confusion_matrix_table(\n",
    "    Y_true=Y_train,\n",
    "    Y_pred=Y_pred['gaussian_nb'],\n",
    "    classes=['Dead', 'Alive'],\n",
    ")"
   ]
  },
  {
   "cell_type": "code",
   "execution_count": 55,
   "id": "288c0ff2",
   "metadata": {},
   "outputs": [
    {
     "data": {
      "image/png": "[encoded data removed]",
      "text/plain": [
       "<Figure size 432x288 with 2 Axes>"
      ]
     },
     "metadata": {
      "needs_background": "light"
     },
     "output_type": "display_data"
    }
   ],
   "source": [
    "plot_confusion_matrix(\n",
    "    Y_true=Y_train,\n",
    "    Y_pred=Y_pred['gaussian_nb'],\n",
    "    classes=['Dead', 'Alive'],\n",
    "    title='SVC Confusion Matrix on Training Set'\n",
    ")"
   ]
  },
  {
   "cell_type": "markdown",
   "id": "78717a22",
   "metadata": {},
   "source": [
    "## Random Forest Classifier"
   ]
  },
  {
   "cell_type": "code",
   "execution_count": 56,
   "id": "73b6b877",
   "metadata": {},
   "outputs": [],
   "source": [
    "from sklearn.ensemble import RandomForestClassifier"
   ]
  },
  {
   "cell_type": "code",
   "execution_count": 57,
   "id": "e84b9036",
   "metadata": {},
   "outputs": [
    {
     "data": {
      "text/plain": [
       "RandomForestClassifier()"
      ]
     },
     "execution_count": 57,
     "metadata": {},
     "output_type": "execute_result"
    }
   ],
   "source": [
    "clf['random_forest'] = RandomForestClassifier()\n",
    "clf['random_forest'].fit(X_train, Y_train)"
   ]
  },
  {
   "cell_type": "code",
   "execution_count": 58,
   "id": "b9c8319f",
   "metadata": {},
   "outputs": [],
   "source": [
    "Y_pred['random_forest'] = clf['random_forest'].predict(X_train)"
   ]
  },
  {
   "cell_type": "code",
   "execution_count": 59,
   "id": "44fdfca2",
   "metadata": {},
   "outputs": [
    {
     "data": {
      "text/plain": [
       "0.9859550561797753"
      ]
     },
     "execution_count": 59,
     "metadata": {},
     "output_type": "execute_result"
    }
   ],
   "source": [
    "accuracy_score(Y_train, Y_pred['random_forest'])"
   ]
  },
  {
   "cell_type": "code",
   "execution_count": 60,
   "id": "360ebac3",
   "metadata": {},
   "outputs": [
    {
     "data": {
      "text/html": [
       "<div>\n",
       "<style scoped>\n",
       "    .dataframe tbody tr th:only-of-type {\n",
       "        vertical-align: middle;\n",
       "    }\n",
       "\n",
       "    .dataframe tbody tr th {\n",
       "        vertical-align: top;\n",
       "    }\n",
       "\n",
       "    .dataframe thead tr th {\n",
       "        text-align: left;\n",
       "    }\n",
       "</style>\n",
       "<table border=\"1\" class=\"dataframe\">\n",
       "  <thead>\n",
       "    <tr>\n",
       "      <th></th>\n",
       "      <th></th>\n",
       "      <th colspan=\"2\" halign=\"left\">Predicted</th>\n",
       "    </tr>\n",
       "    <tr>\n",
       "      <th></th>\n",
       "      <th></th>\n",
       "      <th>Dead</th>\n",
       "      <th>Alive</th>\n",
       "    </tr>\n",
       "  </thead>\n",
       "  <tbody>\n",
       "    <tr>\n",
       "      <th rowspan=\"2\" valign=\"top\">True</th>\n",
       "      <th>Dead</th>\n",
       "      <td>422</td>\n",
       "      <td>2</td>\n",
       "    </tr>\n",
       "    <tr>\n",
       "      <th>Alive</th>\n",
       "      <td>8</td>\n",
       "      <td>280</td>\n",
       "    </tr>\n",
       "  </tbody>\n",
       "</table>\n",
       "</div>"
      ],
      "text/plain": [
       "           Predicted      \n",
       "                Dead Alive\n",
       "True Dead        422     2\n",
       "     Alive         8   280"
      ]
     },
     "execution_count": 60,
     "metadata": {},
     "output_type": "execute_result"
    }
   ],
   "source": [
    "confusion_matrix_table(\n",
    "    Y_true=Y_train,\n",
    "    Y_pred=Y_pred['random_forest'],\n",
    "    classes=['Dead', 'Alive'],\n",
    ")"
   ]
  },
  {
   "cell_type": "code",
   "execution_count": 63,
   "id": "6fd8ef13",
   "metadata": {},
   "outputs": [
    {
     "data": {
      "image/png": "[encoded data removed]",
      "text/plain": [
       "<Figure size 432x288 with 2 Axes>"
      ]
     },
     "metadata": {
      "needs_background": "light"
     },
     "output_type": "display_data"
    }
   ],
   "source": [
    "plot_confusion_matrix(\n",
    "    Y_true=Y_train,\n",
    "    Y_pred=Y_pred['random_forest'],\n",
    "    classes=['Dead', 'Alive'],\n",
    "    title='SVC Confusion Matrix on Training Set'\n",
    ")"
   ]
  },
  {
   "cell_type": "code",
   "execution_count": 64,
   "id": "52d1d8e8",
   "metadata": {},
   "outputs": [
    {
     "name": "stdout",
     "output_type": "stream",
     "text": [
      "Precision Score: 0.9929078014184397\n",
      "Recall Score: 0.9722222222222222\n"
     ]
    }
   ],
   "source": [
    "print(f\"Precision Score: {precision_score(Y_train, Y_pred['random_forest'])}\")\n",
    "print(f\"Recall Score: {recall_score(Y_train, Y_pred['random_forest'])}\")"
   ]
  }
 ],
 "metadata": {
  "kernelspec": {
   "display_name": "Python 3",
   "language": "python",
   "name": "python3"
  },
  "language_info": {
   "codemirror_mode": {
    "name": "ipython",
    "version": 3
   },
   "file_extension": ".py",
   "mimetype": "text/x-python",
   "name": "python",
   "nbconvert_exporter": "python",
   "pygments_lexer": "ipython3",
   "version": "3.9.5"
  }
 },
 "nbformat": 4,
 "nbformat_minor": 5
}
