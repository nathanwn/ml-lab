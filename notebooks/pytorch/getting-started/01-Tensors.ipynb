{
 "cells": [
  {
   "cell_type": "markdown",
   "id": "75f6db93",
   "metadata": {},
   "source": [
    "From: [PyTorch doc](https://pytorch.org/tutorials/beginner/basics/intro.html)"
   ]
  },
  {
   "cell_type": "markdown",
   "id": "ab2bd339",
   "metadata": {},
   "source": [
    "# Tensors"
   ]
  },
  {
   "cell_type": "markdown",
   "id": "e34a694f",
   "metadata": {},
   "source": [
    "* A special data structure that are very similar to arrays and matrices.\n",
    "* Used to encode the inputs, outputs, and parameters of a model.\n",
    "* Similar to NumPy's `ndarray`, except that tensors can run on  hardware accelerators such as GPUs.\n",
    "* Tensors and NumPY's arrays can often share the same underlying memory, eliminating the need to copy data (see [Bridge with NumPy](https://pytorch.org/tutorials/beginner/blitz/tensor_tutorial.html#bridge-to-np-label))\n",
    "* Tensors are optimized for automatic differentiation (see [Autograd](https://pytorch.org/tutorials/beginner/basics/autogradqs_tutorial.html))"
   ]
  },
  {
   "cell_type": "code",
   "execution_count": 1,
   "id": "af665121",
   "metadata": {},
   "outputs": [],
   "source": [
    "import torch\n",
    "import numpy as np"
   ]
  },
  {
   "cell_type": "markdown",
   "id": "92f1f02c",
   "metadata": {},
   "source": [
    "## Initializing a Tensor"
   ]
  },
  {
   "cell_type": "markdown",
   "id": "6a02b059",
   "metadata": {},
   "source": [
    "### Directly from data"
   ]
  },
  {
   "cell_type": "code",
   "execution_count": 2,
   "id": "e8925022",
   "metadata": {},
   "outputs": [],
   "source": [
    "data = [[1, 2], [3, 4]]\n",
    "x_data = torch.tensor(data)"
   ]
  },
  {
   "cell_type": "markdown",
   "id": "4c1d50de",
   "metadata": {},
   "source": [
    "### From a NumPy array"
   ]
  },
  {
   "cell_type": "code",
   "execution_count": 3,
   "id": "8d9ada9d",
   "metadata": {},
   "outputs": [],
   "source": [
    "np_arr = np.array(data)\n",
    "x_np = torch.from_numpy(np_arr)"
   ]
  },
  {
   "cell_type": "markdown",
   "id": "d4d79e95",
   "metadata": {},
   "source": [
    "### From another tensor"
   ]
  },
  {
   "cell_type": "markdown",
   "id": "269276a6",
   "metadata": {},
   "source": [
    "The new tensor retains the properties (shape, datatype) of the argument tensor, unless explicitly overriden."
   ]
  },
  {
   "cell_type": "code",
   "execution_count": 4,
   "id": "56eb7bae",
   "metadata": {},
   "outputs": [
    {
     "name": "stdout",
     "output_type": "stream",
     "text": [
      "tensor([[1, 1],\n",
      "        [1, 1]])\n"
     ]
    }
   ],
   "source": [
    "x_ones = torch.ones_like(x_data);\n",
    "print(x_ones)"
   ]
  },
  {
   "cell_type": "code",
   "execution_count": 5,
   "id": "8c08aa01",
   "metadata": {},
   "outputs": [
    {
     "name": "stdout",
     "output_type": "stream",
     "text": [
      "tensor([[0.6344, 0.2014],\n",
      "        [0.8269, 0.0569]])\n"
     ]
    }
   ],
   "source": [
    "x_rand = torch.rand_like(x_data, dtype=torch.float);\n",
    "print(x_rand)"
   ]
  },
  {
   "cell_type": "markdown",
   "id": "f649d6a6",
   "metadata": {},
   "source": [
    "### With random or constant values"
   ]
  },
  {
   "cell_type": "code",
   "execution_count": 6,
   "id": "cff97d17",
   "metadata": {},
   "outputs": [],
   "source": [
    "shape = (2, 3,)"
   ]
  },
  {
   "cell_type": "code",
   "execution_count": 7,
   "id": "e6f710ca",
   "metadata": {},
   "outputs": [
    {
     "data": {
      "text/plain": [
       "tensor([[0.8932, 0.5327, 0.0120],\n",
       "        [0.9442, 0.5825, 0.8924]])"
      ]
     },
     "execution_count": 7,
     "metadata": {},
     "output_type": "execute_result"
    }
   ],
   "source": [
    "torch.rand(shape)"
   ]
  },
  {
   "cell_type": "code",
   "execution_count": 8,
   "id": "16f67d28",
   "metadata": {},
   "outputs": [
    {
     "data": {
      "text/plain": [
       "tensor([[1., 1., 1.],\n",
       "        [1., 1., 1.]])"
      ]
     },
     "execution_count": 8,
     "metadata": {},
     "output_type": "execute_result"
    }
   ],
   "source": [
    "torch.ones(shape)"
   ]
  },
  {
   "cell_type": "code",
   "execution_count": 9,
   "id": "e6ea567d",
   "metadata": {},
   "outputs": [
    {
     "data": {
      "text/plain": [
       "tensor([[0., 0., 0.],\n",
       "        [0., 0., 0.]])"
      ]
     },
     "execution_count": 9,
     "metadata": {},
     "output_type": "execute_result"
    }
   ],
   "source": [
    "torch.zeros(shape)"
   ]
  },
  {
   "cell_type": "markdown",
   "id": "379ae792",
   "metadata": {},
   "source": [
    "## Attributes of a Tensor"
   ]
  },
  {
   "cell_type": "code",
   "execution_count": 10,
   "id": "e8364aba",
   "metadata": {},
   "outputs": [],
   "source": [
    "tensor = torch.rand(3, 4)"
   ]
  },
  {
   "cell_type": "code",
   "execution_count": 11,
   "id": "5fef1c91",
   "metadata": {},
   "outputs": [
    {
     "data": {
      "text/plain": [
       "torch.Size([3, 4])"
      ]
     },
     "execution_count": 11,
     "metadata": {},
     "output_type": "execute_result"
    }
   ],
   "source": [
    "tensor.shape"
   ]
  },
  {
   "cell_type": "code",
   "execution_count": 12,
   "id": "7c4394a6",
   "metadata": {},
   "outputs": [
    {
     "data": {
      "text/plain": [
       "torch.float32"
      ]
     },
     "execution_count": 12,
     "metadata": {},
     "output_type": "execute_result"
    }
   ],
   "source": [
    "tensor.dtype"
   ]
  },
  {
   "cell_type": "code",
   "execution_count": 13,
   "id": "6768a80f",
   "metadata": {},
   "outputs": [
    {
     "data": {
      "text/plain": [
       "device(type='cpu')"
      ]
     },
     "execution_count": 13,
     "metadata": {},
     "output_type": "execute_result"
    }
   ],
   "source": [
    "tensor.device"
   ]
  },
  {
   "cell_type": "markdown",
   "id": "9d621566",
   "metadata": {},
   "source": [
    "## Operations on Tensors"
   ]
  },
  {
   "cell_type": "markdown",
   "id": "6dc9f61e",
   "metadata": {},
   "source": [
    "* Comprehensive list, including arithmetic, linear algebra, matrix multiplication, sampling, and more can be found [here](https://pytorch.org/docs/stable/torch.html).\n",
    "* Each operation can be run on the GPU.\n",
    "* By default, tensors are created on the CPU. We need to explicitly move tensors to the GPU using `.to` method (after checking for GPU availability).\n",
    "  * Note that copying large tensors across devices can be expensive in terms of time and memory."
   ]
  },
  {
   "cell_type": "code",
   "execution_count": 14,
   "id": "ab17220e",
   "metadata": {},
   "outputs": [
    {
     "name": "stdout",
     "output_type": "stream",
     "text": [
      "Cuda is available. Using cuda...\n"
     ]
    }
   ],
   "source": [
    "if torch.cuda.is_available():\n",
    "    print('Cuda is available. Using cuda...')\n",
    "    tensor = tensor.to('cuda')\n",
    "else:\n",
    "    print('Cuda is unavailable. Using cpu...')"
   ]
  },
  {
   "cell_type": "markdown",
   "id": "67247e81",
   "metadata": {},
   "source": [
    "### Indexing and Slicing (numpy-like)"
   ]
  },
  {
   "cell_type": "code",
   "execution_count": 15,
   "id": "2bfe5e95",
   "metadata": {},
   "outputs": [],
   "source": [
    "tensor = torch.from_numpy(np.arange(12).reshape(3, 4) + 1)"
   ]
  },
  {
   "cell_type": "code",
   "execution_count": 16,
   "id": "e322bb06",
   "metadata": {},
   "outputs": [
    {
     "data": {
      "text/plain": [
       "tensor([[ 1,  2,  3,  4],\n",
       "        [ 5,  6,  7,  8],\n",
       "        [ 9, 10, 11, 12]])"
      ]
     },
     "execution_count": 16,
     "metadata": {},
     "output_type": "execute_result"
    }
   ],
   "source": [
    "tensor"
   ]
  },
  {
   "cell_type": "code",
   "execution_count": 17,
   "id": "3f633ba8",
   "metadata": {},
   "outputs": [
    {
     "data": {
      "text/plain": [
       "tensor([1, 2, 3, 4])"
      ]
     },
     "execution_count": 17,
     "metadata": {},
     "output_type": "execute_result"
    }
   ],
   "source": [
    "tensor[0]"
   ]
  },
  {
   "cell_type": "code",
   "execution_count": 18,
   "id": "f9361bb9",
   "metadata": {},
   "outputs": [
    {
     "data": {
      "text/plain": [
       "tensor([1, 5, 9])"
      ]
     },
     "execution_count": 18,
     "metadata": {},
     "output_type": "execute_result"
    }
   ],
   "source": [
    "tensor[:, 0]"
   ]
  },
  {
   "cell_type": "code",
   "execution_count": 19,
   "id": "8bc0b127",
   "metadata": {},
   "outputs": [
    {
     "data": {
      "text/plain": [
       "tensor([ 4,  8, 12])"
      ]
     },
     "execution_count": 19,
     "metadata": {},
     "output_type": "execute_result"
    }
   ],
   "source": [
    "tensor[..., -1]"
   ]
  },
  {
   "cell_type": "code",
   "execution_count": 20,
   "id": "9f82d422",
   "metadata": {},
   "outputs": [],
   "source": [
    "tensor[:, 1] = 0"
   ]
  },
  {
   "cell_type": "code",
   "execution_count": 21,
   "id": "c812bfea",
   "metadata": {},
   "outputs": [
    {
     "data": {
      "text/plain": [
       "tensor([[ 1,  0,  3,  4],\n",
       "        [ 5,  0,  7,  8],\n",
       "        [ 9,  0, 11, 12]])"
      ]
     },
     "execution_count": 21,
     "metadata": {},
     "output_type": "execute_result"
    }
   ],
   "source": [
    "tensor"
   ]
  },
  {
   "cell_type": "code",
   "execution_count": 22,
   "id": "0eeb67f3",
   "metadata": {},
   "outputs": [
    {
     "data": {
      "text/plain": [
       "tensor([[ 1,  0,  3,  4,  1,  0,  3,  4],\n",
       "        [ 5,  0,  7,  8,  5,  0,  7,  8],\n",
       "        [ 9,  0, 11, 12,  9,  0, 11, 12]])"
      ]
     },
     "execution_count": 22,
     "metadata": {},
     "output_type": "execute_result"
    }
   ],
   "source": [
    "torch.cat([tensor, tensor], dim = 1)"
   ]
  },
  {
   "cell_type": "code",
   "execution_count": 23,
   "id": "829482c7",
   "metadata": {},
   "outputs": [
    {
     "data": {
      "text/plain": [
       "tensor([[ 1,  0,  3,  4],\n",
       "        [ 5,  0,  7,  8],\n",
       "        [ 9,  0, 11, 12],\n",
       "        [ 1,  0,  3,  4],\n",
       "        [ 5,  0,  7,  8],\n",
       "        [ 9,  0, 11, 12]])"
      ]
     },
     "execution_count": 23,
     "metadata": {},
     "output_type": "execute_result"
    }
   ],
   "source": [
    "torch.cat([tensor, tensor], dim = 0)"
   ]
  },
  {
   "cell_type": "markdown",
   "id": "2dd75b86",
   "metadata": {},
   "source": [
    "### Arithmetic operations"
   ]
  },
  {
   "cell_type": "markdown",
   "id": "0b69f7cf",
   "metadata": {},
   "source": [
    "#### Matrix multiplication"
   ]
  },
  {
   "cell_type": "code",
   "execution_count": 24,
   "id": "4f14b27a",
   "metadata": {},
   "outputs": [
    {
     "data": {
      "text/plain": [
       "tensor([[ 26,  58,  90],\n",
       "        [ 58, 138, 218],\n",
       "        [ 90, 218, 346]])"
      ]
     },
     "execution_count": 24,
     "metadata": {},
     "output_type": "execute_result"
    }
   ],
   "source": [
    "tensor @ tensor.T"
   ]
  },
  {
   "cell_type": "code",
   "execution_count": 25,
   "id": "e379b177",
   "metadata": {},
   "outputs": [
    {
     "data": {
      "text/plain": [
       "tensor([[ 26,  58,  90],\n",
       "        [ 58, 138, 218],\n",
       "        [ 90, 218, 346]])"
      ]
     },
     "execution_count": 25,
     "metadata": {},
     "output_type": "execute_result"
    }
   ],
   "source": [
    "tensor.matmul(tensor.T)"
   ]
  },
  {
   "cell_type": "markdown",
   "id": "1a9e4fa1",
   "metadata": {},
   "source": [
    "#### Element-wise product"
   ]
  },
  {
   "cell_type": "code",
   "execution_count": 26,
   "id": "fccb043b",
   "metadata": {},
   "outputs": [
    {
     "data": {
      "text/plain": [
       "tensor([[  1,   0,   9,  16],\n",
       "        [ 25,   0,  49,  64],\n",
       "        [ 81,   0, 121, 144]])"
      ]
     },
     "execution_count": 26,
     "metadata": {},
     "output_type": "execute_result"
    }
   ],
   "source": [
    "tensor * tensor"
   ]
  },
  {
   "cell_type": "code",
   "execution_count": 27,
   "id": "30374927",
   "metadata": {},
   "outputs": [
    {
     "data": {
      "text/plain": [
       "tensor([[  1,   0,   9,  16],\n",
       "        [ 25,   0,  49,  64],\n",
       "        [ 81,   0, 121, 144]])"
      ]
     },
     "execution_count": 27,
     "metadata": {},
     "output_type": "execute_result"
    }
   ],
   "source": [
    "tensor.mul(tensor)"
   ]
  },
  {
   "cell_type": "code",
   "execution_count": 28,
   "id": "4082f0dc",
   "metadata": {},
   "outputs": [
    {
     "data": {
      "text/plain": [
       "tensor([[0.7362, 0.8756, 0.7110, 0.0362],\n",
       "        [0.9215, 0.7803, 0.4575, 0.9803],\n",
       "        [0.5080, 0.4605, 0.5902, 0.6911]])"
      ]
     },
     "execution_count": 28,
     "metadata": {},
     "output_type": "execute_result"
    }
   ],
   "source": [
    "torch.rand_like(tensor, dtype=torch.float)"
   ]
  },
  {
   "cell_type": "markdown",
   "id": "9d6e81b7",
   "metadata": {},
   "source": [
    "#### Single-element tensors (e.g. after aggregation)"
   ]
  },
  {
   "cell_type": "code",
   "execution_count": 29,
   "id": "53d2623b",
   "metadata": {},
   "outputs": [
    {
     "data": {
      "text/plain": [
       "tensor(60)"
      ]
     },
     "execution_count": 29,
     "metadata": {},
     "output_type": "execute_result"
    }
   ],
   "source": [
    "tensor.sum()"
   ]
  },
  {
   "cell_type": "code",
   "execution_count": 30,
   "id": "20e8a800",
   "metadata": {},
   "outputs": [
    {
     "data": {
      "text/plain": [
       "60"
      ]
     },
     "execution_count": 30,
     "metadata": {},
     "output_type": "execute_result"
    }
   ],
   "source": [
    "tensor.sum().item()"
   ]
  },
  {
   "cell_type": "markdown",
   "id": "96f6f8e8",
   "metadata": {},
   "source": [
    "#### In-place operations"
   ]
  },
  {
   "cell_type": "markdown",
   "id": "91520aa4",
   "metadata": {},
   "source": [
    "Operations that store the result into the operand are called in-place. They are denoted by a `_` suffix."
   ]
  },
  {
   "cell_type": "code",
   "execution_count": 31,
   "id": "aee9cb1c",
   "metadata": {},
   "outputs": [],
   "source": [
    "t1 = tensor.detach().clone()"
   ]
  },
  {
   "cell_type": "code",
   "execution_count": 32,
   "id": "5fd408e4",
   "metadata": {},
   "outputs": [
    {
     "data": {
      "text/plain": [
       "tensor([[ 3,  2,  5,  6],\n",
       "        [ 7,  2,  9, 10],\n",
       "        [11,  2, 13, 14]])"
      ]
     },
     "execution_count": 32,
     "metadata": {},
     "output_type": "execute_result"
    }
   ],
   "source": [
    "t1.add_(2)"
   ]
  },
  {
   "cell_type": "code",
   "execution_count": 33,
   "id": "b374f618",
   "metadata": {},
   "outputs": [
    {
     "data": {
      "text/plain": [
       "tensor([[ 1,  0,  3,  4],\n",
       "        [ 5,  0,  7,  8],\n",
       "        [ 9,  0, 11, 12]])"
      ]
     },
     "execution_count": 33,
     "metadata": {},
     "output_type": "execute_result"
    }
   ],
   "source": [
    "tensor"
   ]
  }
 ],
 "metadata": {
  "kernelspec": {
   "display_name": "Python 3 (ipykernel)",
   "language": "python",
   "name": "python3"
  },
  "language_info": {
   "codemirror_mode": {
    "name": "ipython",
    "version": 3
   },
   "file_extension": ".py",
   "mimetype": "text/x-python",
   "name": "python",
   "nbconvert_exporter": "python",
   "pygments_lexer": "ipython3",
   "version": "3.9.7"
  }
 },
 "nbformat": 4,
 "nbformat_minor": 5
}
