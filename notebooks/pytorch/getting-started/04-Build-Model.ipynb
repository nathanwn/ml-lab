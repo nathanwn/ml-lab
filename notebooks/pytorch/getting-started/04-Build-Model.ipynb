{
 "cells": [
  {
   "cell_type": "markdown",
   "id": "84a9b032",
   "metadata": {},
   "source": [
    "# Build Model\n",
    "\n",
    "* The `torch.nn` namespace provides all the building blocks you need to build your own neural network.\n",
    "* Every module in PyTorch subclasses the `nn.Module`.\n",
    "* A neural network is a module itself that consists of other modules (layers)."
   ]
  },
  {
   "cell_type": "code",
   "execution_count": null,
   "id": "9fc0ef14",
   "metadata": {},
   "outputs": [],
   "source": []
  }
 ],
 "metadata": {
  "kernelspec": {
   "display_name": "Python 3 (ipykernel)",
   "language": "python",
   "name": "python3"
  },
  "language_info": {
   "codemirror_mode": {
    "name": "ipython",
    "version": 3
   },
   "file_extension": ".py",
   "mimetype": "text/x-python",
   "name": "python",
   "nbconvert_exporter": "python",
   "pygments_lexer": "ipython3",
   "version": "3.9.7"
  }
 },
 "nbformat": 4,
 "nbformat_minor": 5
}
