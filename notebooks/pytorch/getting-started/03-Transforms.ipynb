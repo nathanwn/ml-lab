{
 "cells": [
  {
   "cell_type": "markdown",
   "id": "44017c44",
   "metadata": {},
   "source": [
    "[Read](https://pytorch.org/tutorials/beginner/basics/transforms_tutorial.html)\n",
    "\n",
    "# Transforms"
   ]
  },
  {
   "cell_type": "markdown",
   "id": "5af6b87e",
   "metadata": {},
   "source": [
    "* We use transforms to perform initial data manipulation to make it suitable for training.\n",
    "* Transforms:\n",
    "  * `transform`: modify the features\n",
    "  * `target_transform`: modify the labels\n",
    "* All `TorchVision` datasets have two parameters `transform` and `target_transform`.\n",
    "* The FashionMNIST features are in PIL Image format, and the labels are integers.\n",
    "  * Features need to be normalized.\n",
    "  * Labels need to be one-hot encoded.\n",
    "* To make these transformations, we use `ToTensor` and `Lambda`.\n",
    "\n",
    "```python\n",
    "import torch\n",
    "from torchvision import datasets\n",
    "from torchvision.transforms import ToTensor, Lambda\n",
    "\n",
    "ds = datasets.FashionMNIST(\n",
    "    root=\"data\",\n",
    "    train=True,\n",
    "    download=True,\n",
    "    transform=ToTensor(),\n",
    "    target_transform=Lambda(lambda y: torch.zeros(10, dtype=torch.float).scatter_(0, torch.tensor(y), value=1))\n",
    ")\n",
    "```"
   ]
  },
  {
   "cell_type": "markdown",
   "id": "8ec42de6",
   "metadata": {},
   "source": [
    "## `ToTensor()`\n",
    "\n",
    "ToTensor converts a PIL image or NumPy `ndarray` into a `FloatTensor` and scales the image’s pixel intensity values in the range `[0., 1.]`."
   ]
  },
  {
   "cell_type": "markdown",
   "id": "1623894f",
   "metadata": {},
   "source": [
    "## Lambda Transforms\n",
    "\n",
    "Lambda transforms apply any user-defined lambda function. Here, we define a function to turn the integer into a one-hot encoded tensor. It first creates a zero tensor of size `10` (the number of labels in our dataset) and calls `scatter_` which assigns a `value=1` on the index as given by the label `y`."
   ]
  }
 ],
 "metadata": {
  "kernelspec": {
   "display_name": "Python 3 (ipykernel)",
   "language": "python",
   "name": "python3"
  },
  "language_info": {
   "codemirror_mode": {
    "name": "ipython",
    "version": 3
   },
   "file_extension": ".py",
   "mimetype": "text/x-python",
   "name": "python",
   "nbconvert_exporter": "python",
   "pygments_lexer": "ipython3",
   "version": "3.9.7"
  }
 },
 "nbformat": 4,
 "nbformat_minor": 5
}
