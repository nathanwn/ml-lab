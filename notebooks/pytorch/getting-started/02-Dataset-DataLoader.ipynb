{
 "cells": [
  {
   "cell_type": "markdown",
   "id": "e4277acf",
   "metadata": {},
   "source": [
    "# Datasets & DataLoaders"
   ]
  },
  {
   "cell_type": "markdown",
   "id": "88e95c12",
   "metadata": {},
   "source": [
    "* We want our dataset code to be decoupled from our model training code for better readability and modularity.\n",
    "* PyTorch allow using preloaded datasets as well as user's own dataset.\n",
    "* Data primitives:\n",
    "  * `torch.utils.data.DataLoader`: wraps an iterable around the `Dataset` to enable easy access to the samples.  \n",
    "  * `torch.utils.data.Dataset`: stores the samples and their corresponding labels.\n",
    "* There are a number of preloaded datasets (e.g. `FashionMNIST`) that subclass `torch.utils.data.Dataset` and implements functions specific to the particular data. More details: [Image Datasets](https://pytorch.org/vision/stable/datasets.html), [Audio Datasets](https://pytorch.org/audio/stable/datasets.html), [Text Datasets](https://pytorch.org/text/stable/datasets.html)."
   ]
  },
  {
   "cell_type": "markdown",
   "id": "fe59a86d",
   "metadata": {},
   "source": [
    "## Loading a Dataset"
   ]
  },
  {
   "cell_type": "markdown",
   "id": "ee84acd5",
   "metadata": {},
   "source": [
    "## Creating a Custom Dataset"
   ]
  },
  {
   "cell_type": "markdown",
   "id": "1c6eec0b",
   "metadata": {},
   "source": [
    "A custom Dataset class must implement three functions: `__init__`, `__len__`, and `__getitem__`."
   ]
  },
  {
   "cell_type": "markdown",
   "id": "188749f6",
   "metadata": {},
   "source": [
    "### `__init__`\n",
    "\n",
    "The `__init__` function is run once when instantiating the `Dataset` object.\n",
    "Example usage: Initialize the directory containing the images, the annotations file, and both transforms: `transform` and `target_transform`.\n",
    "\n",
    "```python\n",
    "def __init__(self, annotations_file, img_dir, transform=None, target_transform=None):\n",
    "    self.img_labels = pd.read_csv(annotations_file)\n",
    "    self.img_dir = img_dir\n",
    "    self.transform = transform\n",
    "    self.target_transform = target_transform\n",
    "```"
   ]
  },
  {
   "cell_type": "markdown",
   "id": "cfa10297",
   "metadata": {},
   "source": [
    "### `__len__`\n",
    "\n",
    "The `__len__` function returns the number of samples in the dataset.\n",
    "\n",
    "```python\n",
    "def __len__(self):\n",
    "    return len(self.img_labels)\n",
    "```"
   ]
  },
  {
   "cell_type": "markdown",
   "id": "46cca2f2",
   "metadata": {},
   "source": [
    "### `__getitem__`\n",
    "\n",
    "The `__getitem__` function loads and returns a sample from the dataset at the given index `idx`.\n",
    "\n",
    "```python\n",
    "def __getitem__(self, idx):\n",
    "    img_path = os.path.join(self.img_dir, self.img_labels.iloc[idx, 0])\n",
    "    image = read_image(img_path)\n",
    "    label = self.img_labels.iloc[idx, 1]\n",
    "    if self.transform:\n",
    "        image = self.transform(image)\n",
    "    if self.target_transform:\n",
    "        label = self.target_transform(label)\n",
    "    return image, label\n",
    "```"
   ]
  },
  {
   "cell_type": "markdown",
   "id": "3dc35475",
   "metadata": {},
   "source": [
    "## Preparing data for training with `DataLoader`"
   ]
  },
  {
   "cell_type": "markdown",
   "id": "8e435487",
   "metadata": {},
   "source": [
    "While training a model, we typically want to pass samples in “minibatches”, reshuffle the data at every epoch to reduce model overfitting, and use Python’s multiprocessing to speed up data retrieval.\n",
    "\n",
    "`DataLoader` is an iterable that abstracts this complexity for us in an easy API.\n",
    "\n",
    "```python\n",
    "from torch.utils.data import DataLoader\n",
    "\n",
    "train_dataloader = DataLoader(training_data, batch_size=64, shuffle=True)\n",
    "test_dataloader = DataLoader(test_data, batch_size=64, shuffle=True)\n",
    "```"
   ]
  },
  {
   "cell_type": "markdown",
   "id": "84425eb1",
   "metadata": {},
   "source": [
    "## Iterate through the `DataLoader`"
   ]
  },
  {
   "cell_type": "markdown",
   "id": "254f30c0",
   "metadata": {},
   "source": [
    "Each iteration below returns a batch of `train_features` and `train_labels` (containing `batch_size=64` features and labels respectively). Because we specified `shuffle=True`, after we iterate over all batches the data is shuffled (for finer-grained control over the data loading order, take a look at Samplers).\n",
    "\n",
    "```python\n",
    "# Display image and label.\n",
    "train_features, train_labels = next(iter(train_dataloader))\n",
    "print(f\"Feature batch shape: {train_features.size()}\")\n",
    "print(f\"Labels batch shape: {train_labels.size()}\")\n",
    "img = train_features[0].squeeze()\n",
    "label = train_labels[0]\n",
    "plt.imshow(img, cmap=\"gray\")\n",
    "plt.show()\n",
    "print(f\"Label: {label}\")\n",
    "```"
   ]
  }
 ],
 "metadata": {
  "kernelspec": {
   "display_name": "Python 3 (ipykernel)",
   "language": "python",
   "name": "python3"
  },
  "language_info": {
   "codemirror_mode": {
    "name": "ipython",
    "version": 3
   },
   "file_extension": ".py",
   "mimetype": "text/x-python",
   "name": "python",
   "nbconvert_exporter": "python",
   "pygments_lexer": "ipython3",
   "version": "3.9.7"
  }
 },
 "nbformat": 4,
 "nbformat_minor": 5
}
